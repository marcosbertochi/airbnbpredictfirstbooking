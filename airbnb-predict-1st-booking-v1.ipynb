{
 "cells": [
  {
   "cell_type": "markdown",
   "id": "a68ad190",
   "metadata": {},
   "source": [
    "# Business Problem"
   ]
  },
  {
   "cell_type": "markdown",
   "id": "120d8870",
   "metadata": {},
   "source": [
    "## A) Business Situation"
   ]
  },
  {
   "cell_type": "markdown",
   "id": "405c7af8",
   "metadata": {},
   "source": [
    "(Kaggle description) Instead of waking to overlooked \"Do not disturb\" signs, Airbnb travelers find themselves rising with the birds min a whimsical treehouse, having their morning coffee on the deck of a houseboat, or cooking a shared regional breakfast with their hosts. New users on Airbnb can book a place to stay in 34,000+ cities across 190+ countries. By accurately predicting where a new user will book their first travel experience, Airbnb can share more personalized content with their community, decrease the average time to first booking, and better forecast demand.\n",
    "\n",
    "    -- Business Problem (open question): What's the target destination for the 1st booking of new users?"
   ]
  },
  {
   "cell_type": "markdown",
   "id": "65eab2d9",
   "metadata": {},
   "source": [
    "## B) Business Understanding"
   ]
  },
  {
   "cell_type": "markdown",
   "id": "14ea2b5b",
   "metadata": {},
   "source": [
    "    -- Which business model Airbnb operates? \n",
    "        -- Marketplace - conect people which offer acomodation to people searching for it)\n",
    "            -- Supply (people offering accomodation)\n",
    "                -- Portfolio size\n",
    "                -- Portfolio density\n",
    "                -- Average price\n",
    "                \n",
    "            -- Demand (people seeking accomodation)\n",
    "                -- Users quantity\n",
    "                -- LTV (Lifetime value)\n",
    "                -- CAC (customer acquisition cost)\n",
    "            -- Gross Revenue = (Fee * Customer Qty) - CAC \n",
    "    \n",
    "    -- Objective: \n",
    "        -- Predict the destination choice for new users (1st booking)\n",
    "        -- Motivation: Antecipate new users choice in order to offer most assertive ads\n",
    "        -- Root Cause: Increase gross revenue (through cheaper CAC)\n",
    "        -- Scope (Closed afirmation)\n",
    "        -- Stakeholder: CFO/CEO"
   ]
  },
  {
   "cell_type": "markdown",
   "id": "17103a8a",
   "metadata": {},
   "source": [
    "#### Solution Planning"
   ]
  },
  {
   "cell_type": "markdown",
   "id": "c5c2e73f",
   "metadata": {},
   "source": [
    "Solution Overview:\n",
    "Kind problem: City destination prediction\n",
    "Potential methods: Classification\n",
    "Output: \n",
    "Steps:\n",
    "Inputs:\n",
    "    -- Solution proposal:\n",
    "        -- Machine Learning model in order to predict 1st AirBnB destination\n",
    "        -- API:\n",
    "            -- Input: user + characteristics\n",
    "            -- Output: user + characteristics + destination prediction\n",
    "\n"
   ]
  },
  {
   "cell_type": "markdown",
   "id": "29a10c4e",
   "metadata": {},
   "source": [
    "    -- C) Insights\n",
    "    -- D) Business Results\n",
    "    -- E) Conclusions (Objectives attained? Problem Solved?)\n",
    "    -- F) Next Steps\n",
    "    -- G) Lessons Learned\n"
   ]
  },
  {
   "cell_type": "markdown",
   "id": "944e012b",
   "metadata": {},
   "source": [
    "### Data Fields"
   ]
  },
  {
   "cell_type": "markdown",
   "id": "1d64c02f",
   "metadata": {},
   "source": [
    "Is given a list of users along with their demographics, web session records, and some summary statistics. You are asked to predict which country a new user's first booking destination will be. All the users in this dataset are from the USA. There are 12 possible outcomes of the destination country: 'US', 'FR', 'CA', 'GB', 'ES', 'IT', 'PT', 'NL','DE', 'AU', 'NDF' (no destination found), and 'other'. Please note that 'NDF' is different from 'other' because 'other' means there was a booking, but is to a country not included in the list, while 'NDF' means there wasn't a booking.\n",
    "\n",
    "File descriptions\n",
    "train_users.csv - the training set of users\n",
    "\n",
    "test_users.csv - the test set of users\n",
    "\n",
    "    -- id: user id\n",
    "    -- date_account_created: the date of account creation\n",
    "    --- timestamp_first_active: timestamp of the first activity, note that it can be earlier than date_account_created or date_first_booking because a user can search before signing up\n",
    "    -- date_first_booking: date of first booking\n",
    "    -- gender\n",
    "    -- age\n",
    "    -- signup_method\n",
    "    -- signup_flow: the page a user came to signup up from\n",
    "    -- language: international language preference\n",
    "    -- affiliate_channel: what kind of paid marketing\n",
    "    -- affiliate_provider: where the marketing is e.g. google, craigslist, other\n",
    "    -- first_affiliate_tracked: whats the first marketing the user interacted with before the signing up\n",
    "    -- signup_app\n",
    "    -- first_device_type\n",
    "    -- first_browser\n",
    "    -- country_destination: this is the target variable you are to predict\n",
    "\n",
    "sessions.csv - web sessions log for users\n",
    "    -- user_id: to be joined with the column 'id' in users table\n",
    "    -- action\n",
    "    -- action_type\n",
    "    -- action_detail\n",
    "    -- device_type\n",
    "    -- secs_elapsed\n",
    "\n",
    "countries.csv - summary statistics of destination countries in this dataset and their locations\n",
    "\n",
    "age_gender_bkts.csv - summary statistics of users' age group, gender, country of destination\n",
    "\n",
    "sample_submission.csv - correct format for submitting your predictions"
   ]
  },
  {
   "cell_type": "markdown",
   "id": "5aa592e3",
   "metadata": {},
   "source": [
    "# 0. Imports"
   ]
  },
  {
   "cell_type": "code",
   "execution_count": 208,
   "id": "aec3495e",
   "metadata": {
    "ExecuteTime": {
     "end_time": "2022-10-26T15:52:58.734775Z",
     "start_time": "2022-10-26T15:52:58.709597Z"
    }
   },
   "outputs": [],
   "source": [
    "import pandas as pd\n",
    "import random\n",
    "import warnings\n",
    "warnings.filterwarnings('ignore')\n",
    "\n",
    "from sklearn.model_selection import train_test_split, StratifiedKFold\n",
    "from sklearn.preprocessing   import OneHotEncoder\n",
    "from sklearn.metrics         import accuracy_score,balanced_accuracy_score, cohen_kappa_score, classification_report, ConfusionMatrixDisplay\n",
    "\n",
    "from keras import models as ml\n",
    "from keras import layers as l"
   ]
  },
  {
   "cell_type": "markdown",
   "id": "81111e1e",
   "metadata": {
    "ExecuteTime": {
     "end_time": "2022-10-24T11:06:03.335707Z",
     "start_time": "2022-10-24T11:06:03.327378Z"
    },
    "heading_collapsed": true
   },
   "source": [
    "### 0.1 Helper Functions"
   ]
  },
  {
   "cell_type": "code",
   "execution_count": null,
   "id": "e947942a",
   "metadata": {
    "hidden": true
   },
   "outputs": [],
   "source": []
  },
  {
   "cell_type": "markdown",
   "id": "97baffb6",
   "metadata": {},
   "source": [
    "### 0.2 Loading Data"
   ]
  },
  {
   "cell_type": "code",
   "execution_count": 38,
   "id": "3481fe87",
   "metadata": {
    "ExecuteTime": {
     "end_time": "2022-10-24T13:04:17.238576Z",
     "start_time": "2022-10-24T13:04:16.926998Z"
    }
   },
   "outputs": [
    {
     "name": "stdout",
     "output_type": "stream",
     "text": [
      "The train_users dataset contains 16 columns and 213451 rows\n"
     ]
    }
   ],
   "source": [
    "df_raw = pd.read_csv('dataset/train_users.csv')\n",
    "df_raw.shape\n",
    "print('The train_users dataset contains {} columns and {} rows'.format(df_raw.shape[1], df_raw.shape[0]))"
   ]
  },
  {
   "cell_type": "code",
   "execution_count": 39,
   "id": "21fe5904",
   "metadata": {
    "ExecuteTime": {
     "end_time": "2022-10-24T13:04:51.555743Z",
     "start_time": "2022-10-24T13:04:46.982164Z"
    }
   },
   "outputs": [
    {
     "name": "stdout",
     "output_type": "stream",
     "text": [
      "The sessions dataset contains 6 columns and 10567737 rows\n"
     ]
    }
   ],
   "source": [
    "df_sessions = pd.read_csv('dataset/sessions.csv')\n",
    "df_sessions.shape\n",
    "print('The sessions dataset contains {} columns and {} rows'.format(df_sessions.shape[1], df_sessions.shape[0]))"
   ]
  },
  {
   "cell_type": "markdown",
   "id": "94f7997d",
   "metadata": {},
   "source": [
    "# 1. Data Description"
   ]
  },
  {
   "cell_type": "code",
   "execution_count": 17,
   "id": "8a5316b4",
   "metadata": {
    "ExecuteTime": {
     "end_time": "2022-10-24T10:48:52.598365Z",
     "start_time": "2022-10-24T10:48:52.558993Z"
    }
   },
   "outputs": [],
   "source": [
    "df1 = df_raw.copy()"
   ]
  },
  {
   "cell_type": "markdown",
   "id": "cf0a5989",
   "metadata": {},
   "source": [
    "## 1.1 NAs Check "
   ]
  },
  {
   "cell_type": "code",
   "execution_count": 22,
   "id": "aefd47f4",
   "metadata": {
    "ExecuteTime": {
     "end_time": "2022-10-24T10:58:00.297897Z",
     "start_time": "2022-10-24T10:58:00.027948Z"
    }
   },
   "outputs": [
    {
     "data": {
      "text/plain": [
       "id                              0\n",
       "date_account_created            0\n",
       "timestamp_first_active          0\n",
       "date_first_booking         124543\n",
       "gender                          0\n",
       "age                         87990\n",
       "signup_method                   0\n",
       "signup_flow                     0\n",
       "language                        0\n",
       "affiliate_channel               0\n",
       "affiliate_provider              0\n",
       "first_affiliate_tracked      6065\n",
       "signup_app                      0\n",
       "first_device_type               0\n",
       "first_browser                   0\n",
       "country_destination             0\n",
       "dtype: int64"
      ]
     },
     "execution_count": 22,
     "metadata": {},
     "output_type": "execute_result"
    }
   ],
   "source": [
    "df1.isna().sum()"
   ]
  },
  {
   "cell_type": "markdown",
   "id": "337454ae",
   "metadata": {},
   "source": [
    "### 1.1.1 Removing NAs"
   ]
  },
  {
   "cell_type": "code",
   "execution_count": 29,
   "id": "ec71529e",
   "metadata": {
    "ExecuteTime": {
     "end_time": "2022-10-24T11:09:38.632751Z",
     "start_time": "2022-10-24T11:09:38.529469Z"
    }
   },
   "outputs": [],
   "source": [
    "#for the 1st cycle we will drop NAs - 1st cycle aims to prepare the entire pipeline\n",
    "df1 = df1.dropna()"
   ]
  },
  {
   "cell_type": "markdown",
   "id": "c8f4ed30",
   "metadata": {},
   "source": [
    "## 1.2 Data Type"
   ]
  },
  {
   "cell_type": "code",
   "execution_count": 30,
   "id": "9390b009",
   "metadata": {
    "ExecuteTime": {
     "end_time": "2022-10-24T11:09:43.801097Z",
     "start_time": "2022-10-24T11:09:43.776431Z"
    }
   },
   "outputs": [
    {
     "data": {
      "text/plain": [
       "id                                 object\n",
       "date_account_created       datetime64[ns]\n",
       "timestamp_first_active     datetime64[ns]\n",
       "date_first_booking         datetime64[ns]\n",
       "gender                             object\n",
       "age                                 int32\n",
       "signup_method                      object\n",
       "signup_flow                         int64\n",
       "language                           object\n",
       "affiliate_channel                  object\n",
       "affiliate_provider                 object\n",
       "first_affiliate_tracked            object\n",
       "signup_app                         object\n",
       "first_device_type                  object\n",
       "first_browser                      object\n",
       "country_destination                object\n",
       "dtype: object"
      ]
     },
     "execution_count": 30,
     "metadata": {},
     "output_type": "execute_result"
    }
   ],
   "source": [
    "df1.dtypes"
   ]
  },
  {
   "cell_type": "markdown",
   "id": "b0cd0913",
   "metadata": {},
   "source": [
    "### 1.2.1 Change Data Types "
   ]
  },
  {
   "cell_type": "code",
   "execution_count": 31,
   "id": "5122c581",
   "metadata": {
    "ExecuteTime": {
     "end_time": "2022-10-24T11:09:49.488157Z",
     "start_time": "2022-10-24T11:09:49.427900Z"
    }
   },
   "outputs": [],
   "source": [
    "#date_account_created\n",
    "df1['date_account_created'] = pd.to_datetime(df1['date_account_created'])\n",
    "#timestamp_first_active\n",
    "df1['timestamp_first_active'] = pd.to_datetime(df1['timestamp_first_active'], format='%Y%m%d%H%M%S')\n",
    "#date_first_booking\n",
    "df1['date_first_booking'] = pd.to_datetime(df1['date_first_booking'])\n",
    "#age\n",
    "df1['age'] = df1['age'].astype(int)"
   ]
  },
  {
   "cell_type": "code",
   "execution_count": 32,
   "id": "f3c5b6c6",
   "metadata": {
    "ExecuteTime": {
     "end_time": "2022-10-24T11:09:59.076272Z",
     "start_time": "2022-10-24T11:09:59.060138Z"
    }
   },
   "outputs": [
    {
     "data": {
      "text/plain": [
       "id                                 object\n",
       "date_account_created       datetime64[ns]\n",
       "timestamp_first_active     datetime64[ns]\n",
       "date_first_booking         datetime64[ns]\n",
       "gender                             object\n",
       "age                                 int32\n",
       "signup_method                      object\n",
       "signup_flow                         int64\n",
       "language                           object\n",
       "affiliate_channel                  object\n",
       "affiliate_provider                 object\n",
       "first_affiliate_tracked            object\n",
       "signup_app                         object\n",
       "first_device_type                  object\n",
       "first_browser                      object\n",
       "country_destination                object\n",
       "dtype: object"
      ]
     },
     "execution_count": 32,
     "metadata": {},
     "output_type": "execute_result"
    }
   ],
   "source": [
    "df1.dtypes"
   ]
  },
  {
   "cell_type": "markdown",
   "id": "81db9f86",
   "metadata": {},
   "source": [
    "## 1.3 Check balanced data"
   ]
  },
  {
   "cell_type": "code",
   "execution_count": 34,
   "id": "91bfb44f",
   "metadata": {
    "ExecuteTime": {
     "end_time": "2022-10-24T11:11:06.289567Z",
     "start_time": "2022-10-24T11:11:06.255711Z"
    }
   },
   "outputs": [
    {
     "data": {
      "text/plain": [
       "US       0.708864\n",
       "other    0.110854\n",
       "FR       0.054085\n",
       "IT       0.029763\n",
       "GB       0.025935\n",
       "ES       0.024864\n",
       "CA       0.015696\n",
       "DE       0.012454\n",
       "NL       0.008801\n",
       "AU       0.006366\n",
       "PT       0.002318\n",
       "Name: country_destination, dtype: float64"
      ]
     },
     "execution_count": 34,
     "metadata": {},
     "output_type": "execute_result"
    }
   ],
   "source": [
    "df1['country_destination'].value_counts(normalize=True)"
   ]
  },
  {
   "cell_type": "markdown",
   "id": "c01233fd",
   "metadata": {},
   "source": [
    "# 2.0 Data Filtering - Business knowledge"
   ]
  },
  {
   "cell_type": "code",
   "execution_count": 41,
   "id": "aa078025",
   "metadata": {
    "ExecuteTime": {
     "end_time": "2022-10-24T14:32:39.959137Z",
     "start_time": "2022-10-24T14:32:39.938344Z"
    }
   },
   "outputs": [],
   "source": [
    "#Filtering based on business assumptions and rules\n",
    "df2 = df1.copy()"
   ]
  },
  {
   "cell_type": "markdown",
   "id": "55327243",
   "metadata": {},
   "source": [
    "## Rows filtering"
   ]
  },
  {
   "cell_type": "code",
   "execution_count": null,
   "id": "a4d3470e",
   "metadata": {},
   "outputs": [],
   "source": []
  },
  {
   "cell_type": "markdown",
   "id": "dd46ec0f",
   "metadata": {},
   "source": [
    "## Columns selection"
   ]
  },
  {
   "cell_type": "markdown",
   "id": "826ada4c",
   "metadata": {},
   "source": [
    "# 3.0 Data Preparation"
   ]
  },
  {
   "cell_type": "code",
   "execution_count": 177,
   "id": "dbcadc36",
   "metadata": {
    "ExecuteTime": {
     "end_time": "2022-10-26T13:05:12.471352Z",
     "start_time": "2022-10-26T13:05:12.403458Z"
    }
   },
   "outputs": [],
   "source": [
    "#split dataset training/validation\n",
    "X = df2.drop(columns='country_destination')\n",
    "y = df2['country_destination'].copy()\n",
    "\n",
    "X_train, X_val, y_train, y_val = train_test_split(X,y, test_size=0.2, random_state=32)"
   ]
  },
  {
   "cell_type": "code",
   "execution_count": 178,
   "id": "cdf0c4fe",
   "metadata": {
    "ExecuteTime": {
     "end_time": "2022-10-26T13:05:13.247357Z",
     "start_time": "2022-10-26T13:05:13.182469Z"
    }
   },
   "outputs": [],
   "source": [
    "aux_train = X_train.drop(columns='id',axis=1)\n",
    "aux_val = X_val.drop(columns='id',axis=1)\n",
    "aux_train = pd.get_dummies(aux_train)\n",
    "aux_val = pd.get_dummies(aux_val)"
   ]
  },
  {
   "cell_type": "code",
   "execution_count": 179,
   "id": "cc417373",
   "metadata": {
    "ExecuteTime": {
     "end_time": "2022-10-26T13:05:13.778045Z",
     "start_time": "2022-10-26T13:05:13.757755Z"
    }
   },
   "outputs": [],
   "source": [
    "X_train = pd.concat([X_train['id'],aux_train],axis=1)\n",
    "X_val = pd.concat([X_val['id'],aux_val],axis=1)"
   ]
  },
  {
   "cell_type": "markdown",
   "id": "0b0847de",
   "metadata": {},
   "source": [
    "# 4.0 Feature Selection"
   ]
  },
  {
   "cell_type": "code",
   "execution_count": 180,
   "id": "3c65128d",
   "metadata": {
    "ExecuteTime": {
     "end_time": "2022-10-26T13:05:17.128678Z",
     "start_time": "2022-10-26T13:05:17.103526Z"
    }
   },
   "outputs": [],
   "source": [
    "cols_drop = ['id','date_account_created', 'timestamp_first_active', 'date_first_booking']\n",
    "X_train = X_train.drop(cols_drop, axis=1)\n",
    "X_val = X_val.drop(cols_drop, axis=1)"
   ]
  },
  {
   "cell_type": "markdown",
   "id": "7e94bc73",
   "metadata": {},
   "source": [
    "# 5.0 ML Modeling"
   ]
  },
  {
   "cell_type": "markdown",
   "id": "110b20bd",
   "metadata": {},
   "source": [
    "### Baseline Model"
   ]
  },
  {
   "cell_type": "code",
   "execution_count": 199,
   "id": "5d19935b",
   "metadata": {
    "ExecuteTime": {
     "end_time": "2022-10-26T13:33:34.309474Z",
     "start_time": "2022-10-26T13:33:34.301350Z"
    }
   },
   "outputs": [
    {
     "data": {
      "text/plain": [
       "['AU', 'CA', 'DE', 'ES', 'FR', 'GB', 'IT', 'NL', 'PT', 'US', 'other']"
      ]
     },
     "execution_count": 199,
     "metadata": {},
     "output_type": "execute_result"
    }
   ],
   "source": [
    "country_dest_list"
   ]
  },
  {
   "cell_type": "code",
   "execution_count": 203,
   "id": "f0796828",
   "metadata": {
    "ExecuteTime": {
     "end_time": "2022-10-26T13:34:29.780038Z",
     "start_time": "2022-10-26T13:34:29.762178Z"
    }
   },
   "outputs": [
    {
     "data": {
      "text/plain": [
       "[0.00636634345982896,\n",
       " 0.01569582373736633,\n",
       " 0.012453976030863564,\n",
       " 0.024863945079285913,\n",
       " 0.05408458142025201,\n",
       " 0.02593478165202212,\n",
       " 0.02976338912440774,\n",
       " 0.008801396488242802,\n",
       " 0.002317701075237271,\n",
       " 0.7088644731630752,\n",
       " 0.11085358876941809]"
      ]
     },
     "execution_count": 203,
     "metadata": {},
     "output_type": "execute_result"
    }
   ],
   "source": [
    "df2['country_destination'].value_counts(normalize=True).sort_index().to_list()"
   ]
  },
  {
   "cell_type": "code",
   "execution_count": 204,
   "id": "57802c10",
   "metadata": {
    "ExecuteTime": {
     "end_time": "2022-10-26T13:34:43.718172Z",
     "start_time": "2022-10-26T13:34:43.697705Z"
    }
   },
   "outputs": [],
   "source": [
    "#build a random model - baseline\n",
    "\n",
    "#values to pick ramdomly\n",
    "country_dest_list = sorted(df2['country_destination'].unique())\n",
    "\n",
    "#classes presence\n",
    "target_weights = df2['country_destination'].value_counts(normalize=True).sort_index().to_list()\n",
    "\n",
    "#size \n",
    "k_num = y_val.shape[0]\n",
    "\n",
    "yhat_baseline = random.choices(population=country_dest_list, weights=target_weights, k=k_num)"
   ]
  },
  {
   "cell_type": "code",
   "execution_count": 205,
   "id": "ed6e777b",
   "metadata": {
    "ExecuteTime": {
     "end_time": "2022-10-26T13:34:45.455984Z",
     "start_time": "2022-10-26T13:34:44.938856Z"
    }
   },
   "outputs": [
    {
     "name": "stdout",
     "output_type": "stream",
     "text": [
      "Accuracy 0.524092409240924\n",
      " Balanced Accuracy 0.09188077708463073\n",
      " Kappa score 0.0075043772888726545\n",
      "              precision    recall  f1-score   support\n",
      "\n",
      "          AU       0.03      0.02      0.02       101\n",
      "          CA       0.02      0.02      0.02       214\n",
      "          DE       0.01      0.01      0.01       170\n",
      "          ES       0.02      0.02      0.02       345\n",
      "          FR       0.05      0.05      0.05       710\n",
      "          GB       0.02      0.02      0.02       344\n",
      "          IT       0.03      0.03      0.03       423\n",
      "          NL       0.00      0.00      0.00       128\n",
      "          PT       0.00      0.00      0.00        36\n",
      "          US       0.71      0.72      0.71      9624\n",
      "       other       0.13      0.12      0.13      1540\n",
      "\n",
      "    accuracy                           0.52     13635\n",
      "   macro avg       0.09      0.09      0.09     13635\n",
      "weighted avg       0.52      0.52      0.52     13635\n",
      "\n"
     ]
    },
    {
     "data": {
      "image/png": "[encoded data removed]",
      "text/plain": [
       "<Figure size 640x480 with 2 Axes>"
      ]
     },
     "metadata": {},
     "output_type": "display_data"
    }
   ],
   "source": [
    "#acuracy\n",
    "acc_base = accuracy_score(y_val, yhat_baseline)\n",
    "print('Accuracy {}'.format(acc_base))\n",
    "\n",
    "#balanced accuracy\n",
    "balanced_acc_base = balanced_accuracy_score(y_val, yhat_baseline)\n",
    "print(' Balanced Accuracy {}'.format(balanced_acc_base))\n",
    "\n",
    "#Kappa score - estimators agreement\n",
    "kappa_base = cohen_kappa_score(y_val, yhat_baseline)\n",
    "print(' Kappa score {}'.format(kappa_base))\n",
    "\n",
    "#confusion matrix\n",
    "ConfusionMatrixDisplay.from_predictions(y_val, yhat_baseline, cmap='YlGnBu_r');\n",
    "\n",
    "#classification report\n",
    "print(classification_report(y_val, yhat_baseline))"
   ]
  },
  {
   "cell_type": "markdown",
   "id": "1f90c460",
   "metadata": {},
   "source": [
    "### 5.2 Neural Network MLP "
   ]
  },
  {
   "cell_type": "code",
   "execution_count": 124,
   "id": "d9ddc268",
   "metadata": {
    "ExecuteTime": {
     "end_time": "2022-10-24T15:29:41.910467Z",
     "start_time": "2022-10-24T15:29:41.872813Z"
    }
   },
   "outputs": [],
   "source": [
    "ohe = OneHotEncoder()\n",
    "y_train_nn = ohe.fit_transform(y_train.values.reshape(-1,1)).toarray()"
   ]
  },
  {
   "cell_type": "code",
   "execution_count": 125,
   "id": "d12f2c7c",
   "metadata": {
    "ExecuteTime": {
     "end_time": "2022-10-24T15:32:12.585445Z",
     "start_time": "2022-10-24T15:29:43.485759Z"
    }
   },
   "outputs": [
    {
     "name": "stdout",
     "output_type": "stream",
     "text": [
      "Epoch 1/100\n",
      "1705/1705 [==============================] - 2s 805us/step - loss: 1.3192 - accuracy: 0.7035\n",
      "Epoch 2/100\n",
      "1705/1705 [==============================] - 1s 787us/step - loss: 1.2534 - accuracy: 0.7082\n",
      "Epoch 3/100\n",
      "1705/1705 [==============================] - 1s 840us/step - loss: 1.2352 - accuracy: 0.7076\n",
      "Epoch 4/100\n",
      "1705/1705 [==============================] - 1s 788us/step - loss: 1.2082 - accuracy: 0.7084\n",
      "Epoch 5/100\n",
      "1705/1705 [==============================] - 1s 785us/step - loss: 1.1807 - accuracy: 0.7086\n",
      "Epoch 6/100\n",
      "1705/1705 [==============================] - 1s 782us/step - loss: 1.1741 - accuracy: 0.7086\n",
      "Epoch 7/100\n",
      "1705/1705 [==============================] - 1s 856us/step - loss: 1.1606 - accuracy: 0.7087\n",
      "Epoch 8/100\n",
      "1705/1705 [==============================] - 2s 886us/step - loss: 1.1498 - accuracy: 0.7087\n",
      "Epoch 9/100\n",
      "1705/1705 [==============================] - 1s 837us/step - loss: 1.1450 - accuracy: 0.7087\n",
      "Epoch 10/100\n",
      "1705/1705 [==============================] - 2s 882us/step - loss: 1.1394 - accuracy: 0.7089\n",
      "Epoch 11/100\n",
      "1705/1705 [==============================] - 2s 893us/step - loss: 1.1367 - accuracy: 0.7089\n",
      "Epoch 12/100\n",
      "1705/1705 [==============================] - 2s 900us/step - loss: 1.1338 - accuracy: 0.7091\n",
      "Epoch 13/100\n",
      "1705/1705 [==============================] - 1s 796us/step - loss: 1.1313 - accuracy: 0.7093\n",
      "Epoch 14/100\n",
      "1705/1705 [==============================] - 1s 842us/step - loss: 1.1302 - accuracy: 0.7094\n",
      "Epoch 15/100\n",
      "1705/1705 [==============================] - 1s 805us/step - loss: 1.1287 - accuracy: 0.7094\n",
      "Epoch 16/100\n",
      "1705/1705 [==============================] - 1s 802us/step - loss: 1.1279 - accuracy: 0.7095\n",
      "Epoch 17/100\n",
      "1705/1705 [==============================] - 1s 793us/step - loss: 1.1269 - accuracy: 0.7096\n",
      "Epoch 18/100\n",
      "1705/1705 [==============================] - 1s 794us/step - loss: 1.1262 - accuracy: 0.7096\n",
      "Epoch 19/100\n",
      "1705/1705 [==============================] - 1s 805us/step - loss: 1.1252 - accuracy: 0.7096\n",
      "Epoch 20/100\n",
      "1705/1705 [==============================] - 1s 803us/step - loss: 1.1243 - accuracy: 0.7097\n",
      "Epoch 21/100\n",
      "1705/1705 [==============================] - 1s 805us/step - loss: 1.1234 - accuracy: 0.7097\n",
      "Epoch 22/100\n",
      "1705/1705 [==============================] - 1s 811us/step - loss: 1.1227 - accuracy: 0.7098\n",
      "Epoch 23/100\n",
      "1705/1705 [==============================] - 1s 818us/step - loss: 1.1236 - accuracy: 0.7097\n",
      "Epoch 24/100\n",
      "1705/1705 [==============================] - 1s 806us/step - loss: 1.1209 - accuracy: 0.7098\n",
      "Epoch 25/100\n",
      "1705/1705 [==============================] - 1s 841us/step - loss: 1.1205 - accuracy: 0.7097\n",
      "Epoch 26/100\n",
      "1705/1705 [==============================] - 1s 861us/step - loss: 1.1205 - accuracy: 0.7098\n",
      "Epoch 27/100\n",
      "1705/1705 [==============================] - 1s 804us/step - loss: 1.1196 - accuracy: 0.7099\n",
      "Epoch 28/100\n",
      "1705/1705 [==============================] - 1s 804us/step - loss: 1.1183 - accuracy: 0.7098\n",
      "Epoch 29/100\n",
      "1705/1705 [==============================] - 1s 815us/step - loss: 1.1176 - accuracy: 0.7099\n",
      "Epoch 30/100\n",
      "1705/1705 [==============================] - 1s 811us/step - loss: 1.1173 - accuracy: 0.7099\n",
      "Epoch 31/100\n",
      "1705/1705 [==============================] - 1s 813us/step - loss: 1.1159 - accuracy: 0.7100\n",
      "Epoch 32/100\n",
      "1705/1705 [==============================] - 1s 815us/step - loss: 1.1160 - accuracy: 0.7100\n",
      "Epoch 33/100\n",
      "1705/1705 [==============================] - 1s 841us/step - loss: 1.1157 - accuracy: 0.7099\n",
      "Epoch 34/100\n",
      "1705/1705 [==============================] - 1s 828us/step - loss: 1.1146 - accuracy: 0.7100\n",
      "Epoch 35/100\n",
      "1705/1705 [==============================] - 1s 817us/step - loss: 1.1147 - accuracy: 0.7102\n",
      "Epoch 36/100\n",
      "1705/1705 [==============================] - 1s 813us/step - loss: 1.1136 - accuracy: 0.7100\n",
      "Epoch 37/100\n",
      "1705/1705 [==============================] - 1s 873us/step - loss: 1.1129 - accuracy: 0.7100\n",
      "Epoch 38/100\n",
      "1705/1705 [==============================] - 1s 821us/step - loss: 1.1126 - accuracy: 0.7102\n",
      "Epoch 39/100\n",
      "1705/1705 [==============================] - 1s 813us/step - loss: 1.1127 - accuracy: 0.7101\n",
      "Epoch 40/100\n",
      "1705/1705 [==============================] - 1s 828us/step - loss: 1.1117 - accuracy: 0.7104\n",
      "Epoch 41/100\n",
      "1705/1705 [==============================] - 1s 811us/step - loss: 1.1118 - accuracy: 0.7104\n",
      "Epoch 42/100\n",
      "1705/1705 [==============================] - 1s 820us/step - loss: 1.1110 - accuracy: 0.7104\n",
      "Epoch 43/100\n",
      "1705/1705 [==============================] - 1s 838us/step - loss: 1.1107 - accuracy: 0.7103\n",
      "Epoch 44/100\n",
      "1705/1705 [==============================] - 1s 850us/step - loss: 1.1104 - accuracy: 0.7103\n",
      "Epoch 45/100\n",
      "1705/1705 [==============================] - 2s 897us/step - loss: 1.1090 - accuracy: 0.7106\n",
      "Epoch 46/100\n",
      "1705/1705 [==============================] - 2s 954us/step - loss: 1.1093 - accuracy: 0.7106\n",
      "Epoch 47/100\n",
      "1705/1705 [==============================] - 2s 1ms/step - loss: 1.1091 - accuracy: 0.7104\n",
      "Epoch 48/100\n",
      "1705/1705 [==============================] - 2s 971us/step - loss: 1.1104 - accuracy: 0.7105\n",
      "Epoch 49/100\n",
      "1705/1705 [==============================] - 2s 883us/step - loss: 1.1081 - accuracy: 0.7107\n",
      "Epoch 50/100\n",
      "1705/1705 [==============================] - 1s 870us/step - loss: 1.1079 - accuracy: 0.7109\n",
      "Epoch 51/100\n",
      "1705/1705 [==============================] - 2s 961us/step - loss: 1.1077 - accuracy: 0.7110\n",
      "Epoch 52/100\n",
      "1705/1705 [==============================] - 1s 850us/step - loss: 1.1069 - accuracy: 0.7107\n",
      "Epoch 53/100\n",
      "1705/1705 [==============================] - 2s 892us/step - loss: 1.1068 - accuracy: 0.7110\n",
      "Epoch 54/100\n",
      "1705/1705 [==============================] - 2s 930us/step - loss: 1.1062 - accuracy: 0.7111\n",
      "Epoch 55/100\n",
      "1705/1705 [==============================] - 2s 937us/step - loss: 1.1054 - accuracy: 0.7109\n",
      "Epoch 56/100\n",
      "1705/1705 [==============================] - 2s 960us/step - loss: 1.1056 - accuracy: 0.7112\n",
      "Epoch 57/100\n",
      "1705/1705 [==============================] - 2s 888us/step - loss: 1.1053 - accuracy: 0.7112\n",
      "Epoch 58/100\n",
      "1705/1705 [==============================] - 2s 882us/step - loss: 1.1050 - accuracy: 0.7112\n",
      "Epoch 59/100\n",
      "1705/1705 [==============================] - 1s 804us/step - loss: 1.1044 - accuracy: 0.7113\n",
      "Epoch 60/100\n",
      "1705/1705 [==============================] - 1s 802us/step - loss: 1.1039 - accuracy: 0.7112\n",
      "Epoch 61/100\n",
      "1705/1705 [==============================] - 2s 882us/step - loss: 1.1039 - accuracy: 0.7116\n",
      "Epoch 62/100\n",
      "1705/1705 [==============================] - 2s 944us/step - loss: 1.1033 - accuracy: 0.7112\n",
      "Epoch 63/100\n",
      "1705/1705 [==============================] - 2s 944us/step - loss: 1.1027 - accuracy: 0.7114\n",
      "Epoch 64/100\n",
      "1705/1705 [==============================] - 2s 960us/step - loss: 1.1029 - accuracy: 0.7114\n",
      "Epoch 65/100\n",
      "1705/1705 [==============================] - 2s 995us/step - loss: 1.1027 - accuracy: 0.7115\n",
      "Epoch 66/100\n",
      "1705/1705 [==============================] - 1s 810us/step - loss: 1.1025 - accuracy: 0.7115\n",
      "Epoch 67/100\n",
      "1705/1705 [==============================] - 1s 834us/step - loss: 1.1025 - accuracy: 0.7115\n",
      "Epoch 68/100\n",
      "1705/1705 [==============================] - 1s 860us/step - loss: 1.1028 - accuracy: 0.7117\n",
      "Epoch 69/100\n",
      "1705/1705 [==============================] - 2s 943us/step - loss: 1.1020 - accuracy: 0.7117\n",
      "Epoch 70/100\n",
      "1705/1705 [==============================] - 1s 864us/step - loss: 1.1013 - accuracy: 0.7114\n",
      "Epoch 71/100\n",
      "1705/1705 [==============================] - 1s 863us/step - loss: 1.1016 - accuracy: 0.7115\n",
      "Epoch 72/100\n",
      "1705/1705 [==============================] - 1s 817us/step - loss: 1.1022 - accuracy: 0.7115\n",
      "Epoch 73/100\n",
      "1705/1705 [==============================] - 1s 828us/step - loss: 1.1022 - accuracy: 0.7115\n",
      "Epoch 74/100\n",
      "1705/1705 [==============================] - 1s 836us/step - loss: 1.1009 - accuracy: 0.7117\n",
      "Epoch 75/100\n",
      "1705/1705 [==============================] - 1s 848us/step - loss: 1.1013 - accuracy: 0.7117\n",
      "Epoch 76/100\n",
      "1705/1705 [==============================] - 2s 893us/step - loss: 1.1014 - accuracy: 0.7115\n",
      "Epoch 77/100\n",
      "1705/1705 [==============================] - 2s 983us/step - loss: 1.1004 - accuracy: 0.7116\n",
      "Epoch 78/100\n",
      "1705/1705 [==============================] - 2s 907us/step - loss: 1.1000 - accuracy: 0.7118\n",
      "Epoch 79/100\n",
      "1705/1705 [==============================] - 2s 1ms/step - loss: 1.1001 - accuracy: 0.7118\n",
      "Epoch 80/100\n",
      "1705/1705 [==============================] - 1s 853us/step - loss: 1.0996 - accuracy: 0.7118\n",
      "Epoch 81/100\n",
      "1705/1705 [==============================] - 1s 832us/step - loss: 1.0995 - accuracy: 0.7119\n",
      "Epoch 82/100\n",
      "1705/1705 [==============================] - 1s 857us/step - loss: 1.0993 - accuracy: 0.7121\n",
      "Epoch 83/100\n",
      "1705/1705 [==============================] - 2s 950us/step - loss: 1.0991 - accuracy: 0.7121\n",
      "Epoch 84/100\n",
      "1705/1705 [==============================] - 2s 881us/step - loss: 1.0991 - accuracy: 0.7123\n",
      "Epoch 85/100\n",
      "1705/1705 [==============================] - 2s 921us/step - loss: 1.0983 - accuracy: 0.7121\n",
      "Epoch 86/100\n",
      "1705/1705 [==============================] - 1s 870us/step - loss: 1.0987 - accuracy: 0.7119\n",
      "Epoch 87/100\n",
      "1705/1705 [==============================] - 2s 900us/step - loss: 1.0993 - accuracy: 0.7121\n",
      "Epoch 88/100\n",
      "1705/1705 [==============================] - 2s 894us/step - loss: 1.0979 - accuracy: 0.7123\n",
      "Epoch 89/100\n",
      "1705/1705 [==============================] - 2s 900us/step - loss: 1.0977 - accuracy: 0.7120\n",
      "Epoch 90/100\n",
      "1705/1705 [==============================] - 2s 1ms/step - loss: 1.0977 - accuracy: 0.7123\n",
      "Epoch 91/100\n",
      "1705/1705 [==============================] - 2s 923us/step - loss: 1.0973 - accuracy: 0.7120\n",
      "Epoch 92/100\n",
      "1705/1705 [==============================] - 2s 881us/step - loss: 1.0974 - accuracy: 0.7123\n",
      "Epoch 93/100\n",
      "1705/1705 [==============================] - 2s 880us/step - loss: 1.0963 - accuracy: 0.7123\n",
      "Epoch 94/100\n",
      "1705/1705 [==============================] - 2s 897us/step - loss: 1.0967 - accuracy: 0.7122\n",
      "Epoch 95/100\n",
      "1705/1705 [==============================] - 1s 869us/step - loss: 1.0969 - accuracy: 0.7125\n",
      "Epoch 96/100\n",
      "1705/1705 [==============================] - 2s 919us/step - loss: 1.0960 - accuracy: 0.7124\n",
      "Epoch 97/100\n",
      "1705/1705 [==============================] - 2s 919us/step - loss: 1.0970 - accuracy: 0.7123\n",
      "Epoch 98/100\n",
      "1705/1705 [==============================] - 2s 885us/step - loss: 1.0957 - accuracy: 0.7126\n",
      "Epoch 99/100\n",
      "1705/1705 [==============================] - 2s 931us/step - loss: 1.0961 - accuracy: 0.7124\n",
      "Epoch 100/100\n",
      "1705/1705 [==============================] - 2s 1ms/step - loss: 1.0957 - accuracy: 0.7125\n"
     ]
    },
    {
     "data": {
      "text/plain": [
       "<keras.callbacks.History at 0x1b2cb6219d0>"
      ]
     },
     "execution_count": 125,
     "metadata": {},
     "output_type": "execute_result"
    }
   ],
   "source": [
    "#model definition\n",
    "model = ml.Sequential()\n",
    "#1st layer\n",
    "model.add(l.Dense(128, input_dim=X_train.shape[1], activation='relu'))\n",
    "#output layer\n",
    "model.add(l.Dense(11, activation='softmax'))\n",
    "          \n",
    "#model compile\n",
    "model.compile(loss='categorical_crossentropy',optimizer='adam', metrics=['accuracy'])\n",
    "          \n",
    "#train model\n",
    "model.fit(X_train,y_train_nn, epochs=100)\n",
    "\n",
    "#prediction\n",
    "pred_nn = model.predict(X_val)\n",
    "\n",
    "#invert prediction\n",
    "yhat_nn = ohe.inverse_transform(pred_nn) \n",
    "\n",
    "#prediction prepare\n",
    "y_val_nn = y_val.to_numpy()\n",
    "yhat_nn = yhat_nn.reshape(1,-1)[0]"
   ]
  },
  {
   "cell_type": "markdown",
   "id": "8d571c7b",
   "metadata": {},
   "source": [
    "### 5.2.1 NN Performance"
   ]
  },
  {
   "cell_type": "code",
   "execution_count": 163,
   "id": "05246310",
   "metadata": {
    "ExecuteTime": {
     "end_time": "2022-10-25T14:44:44.706557Z",
     "start_time": "2022-10-25T14:44:44.191731Z"
    }
   },
   "outputs": [
    {
     "name": "stdout",
     "output_type": "stream",
     "text": [
      "Accuracy 0.7035570223689036\n",
      " Balanced Accuracy 0.09130975633768511\n",
      " Kappa score 0.0005602467044023562\n",
      "              precision    recall  f1-score   support\n",
      "\n",
      "          AU       0.00      0.00      0.00       101\n",
      "          CA       0.00      0.00      0.00       214\n",
      "          DE       0.25      0.01      0.01       170\n",
      "          ES       0.00      0.00      0.00       345\n",
      "          FR       0.20      0.00      0.00       710\n",
      "          GB       0.00      0.00      0.00       344\n",
      "          IT       0.00      0.00      0.00       423\n",
      "          NL       0.00      0.00      0.00       128\n",
      "          PT       0.00      0.00      0.00        36\n",
      "          US       0.71      1.00      0.83      9624\n",
      "       other       0.04      0.00      0.00      1540\n",
      "\n",
      "    accuracy                           0.70     13635\n",
      "   macro avg       0.11      0.09      0.08     13635\n",
      "weighted avg       0.52      0.70      0.58     13635\n",
      "\n"
     ]
    },
    {
     "data": {
      "image/png": "[encoded data removed]",
      "text/plain": [
       "<Figure size 640x480 with 2 Axes>"
      ]
     },
     "metadata": {},
     "output_type": "display_data"
    }
   ],
   "source": [
    "#acuracy\n",
    "acc_nn = accuracy_score(y_val_nn, yhat_nn)\n",
    "print('Accuracy {}'.format(acc_nn))\n",
    "\n",
    "#balanced accuracy\n",
    "balanced_acc_nn = balanced_accuracy_score(y_val_nn, yhat_nn)\n",
    "print(' Balanced Accuracy {}'.format(balanced_acc_nn))\n",
    "\n",
    "#Kappa score - estimators agreement\n",
    "kappa = cohen_kappa_score(y_val_nn, yhat_nn)\n",
    "print(' Kappa score {}'.format(kappa))\n",
    "\n",
    "#confusion matrix\n",
    "ConfusionMatrixDisplay.from_predictions(y_val_nn, yhat_nn, cmap='YlGnBu_r');\n",
    "\n",
    "#classification report\n",
    "print(classification_report(y_val_nn, yhat_nn))"
   ]
  },
  {
   "cell_type": "markdown",
   "id": "84c82837",
   "metadata": {},
   "source": [
    "### 5.2.1 NN Performance - Cross validation"
   ]
  },
  {
   "cell_type": "code",
   "execution_count": 216,
   "id": "f066b1c9",
   "metadata": {
    "ExecuteTime": {
     "end_time": "2022-10-26T16:05:54.167354Z",
     "start_time": "2022-10-26T15:58:11.595119Z"
    }
   },
   "outputs": [
    {
     "name": "stdout",
     "output_type": "stream",
     "text": [
      "Fold 1/5\n",
      "Fold 2/5\n",
      "Fold 3/5\n",
      "Fold 4/5\n",
      "Fold 5/5\n"
     ]
    }
   ],
   "source": [
    "#generate k-fold\n",
    "n_folds=5\n",
    "kfold = StratifiedKFold(n_splits=n_folds, shuffle=True,random_state=32)\n",
    "balanced_acc_list = []\n",
    "kappa_list = []\n",
    "i=1\n",
    "\n",
    "for train_ix, val_ix in kfold.split(X_train, y_train):\n",
    "\n",
    "    print('Fold {}/{}'.format(i,n_folds))\n",
    "    \n",
    "    #define fold\n",
    "    X_train_cv = X_train.iloc[train_ix]\n",
    "    y_train_cv = y_train.iloc[train_ix]\n",
    "\n",
    "    X_val_cv = X_train.iloc[val_ix]\n",
    "    y_val_cv = y_train.iloc[val_ix]\n",
    "\n",
    "\n",
    "    #target one-hot encoding\n",
    "    ohe = OneHotEncoder()\n",
    "    y_train_cv_nn = ohe.fit_transform(y_train_cv.values.reshape(-1,1)).toarray()\n",
    "    \n",
    "    \n",
    "    #model definition\n",
    "    model = ml.Sequential()\n",
    "    model.add(l.Dense( 128, input_dim=X_train_cv.shape[1], activation='relu'))\n",
    "    model.add(l.Dense(11, activation='softmax' ))\n",
    "\n",
    "    #compile model\n",
    "    model.compile(loss='categorical_crossentropy', optimizer='adam', metrics=['accuracy'])\n",
    "\n",
    "    #training model\n",
    "    model.fit(X_train_cv, y_train_cv_nn, epochs=100, batch_size=32, verbose=0)\n",
    "\n",
    "    #prediction\n",
    "    pred_nn_cv = model.predict(X_val_cv)\n",
    "    yhat_nn_cv = ohe.inverse_transform(pred_nn_cv)\n",
    "    \n",
    "    y_val_nn_cv = y_val_cv.to_numpy()\n",
    "    yhat_nn_cv = yhat_nn_cv.reshape(1,-1)[0]\n",
    "    \n",
    "    #balanced accuracy\n",
    "    balanced_acc_nn = balanced_accuracy_score(y_val_nn_cv, yhat_nn_cv)\n",
    "    balanced_acc_list.append(balanced_acc_nn)\n",
    "    \n",
    "    #Kappa score - estimators agreement\n",
    "    kappa = cohen_kappa_score(y_val_nn_cv, yhat_nn_cv)\n",
    "    kappa_list.append(kappa)\n",
    "    \n",
    "    i+=1\n"
   ]
  },
  {
   "cell_type": "code",
   "execution_count": 222,
   "id": "f975228e",
   "metadata": {
    "ExecuteTime": {
     "end_time": "2022-10-26T16:30:46.873378Z",
     "start_time": "2022-10-26T16:30:46.863064Z"
    }
   },
   "outputs": [
    {
     "name": "stdout",
     "output_type": "stream",
     "text": [
      "Balanced Accuracy after 5 K-Folds CV is 0.09 ± 0.0005\n",
      "Kappa Score after 5 K-Folds CV is 0.0017 ± 0.0015\n"
     ]
    }
   ],
   "source": [
    "print('Balanced Accuracy after {} K-Folds CV is {} ± {}'.format(n_folds, np.round(np.mean(balanced_acc_list),2), \n",
    "                                                                         np.round(np.std(balanced_acc_list),4)))\n",
    "print('Kappa Score after {} K-Folds CV is {} ± {}'.format(n_folds, np.round(np.mean(kappa_list),4), \n",
    "                                                                         np.round(np.std(kappa_list),4)))"
   ]
  },
  {
   "cell_type": "code",
   "execution_count": null,
   "id": "e678976f",
   "metadata": {},
   "outputs": [],
   "source": []
  }
 ],
 "metadata": {
  "kernelspec": {
   "display_name": "Python 3 (ipykernel)",
   "language": "python",
   "name": "python3"
  },
  "language_info": {
   "codemirror_mode": {
    "name": "ipython",
    "version": 3
   },
   "file_extension": ".py",
   "mimetype": "text/x-python",
   "name": "python",
   "nbconvert_exporter": "python",
   "pygments_lexer": "ipython3",
   "version": "3.9.13"
  },
  "varInspector": {
   "cols": {
    "lenName": 16,
    "lenType": 16,
    "lenVar": 40
   },
   "kernels_config": {
    "python": {
     "delete_cmd_postfix": "",
     "delete_cmd_prefix": "del ",
     "library": "var_list.py",
     "varRefreshCmd": "print(var_dic_list())"
    },
    "r": {
     "delete_cmd_postfix": ") ",
     "delete_cmd_prefix": "rm(",
     "library": "var_list.r",
     "varRefreshCmd": "cat(var_dic_list()) "
    }
   },
   "types_to_exclude": [
    "module",
    "function",
    "builtin_function_or_method",
    "instance",
    "_Feature"
   ],
   "window_display": false
  }
 },
 "nbformat": 4,
 "nbformat_minor": 5
}
