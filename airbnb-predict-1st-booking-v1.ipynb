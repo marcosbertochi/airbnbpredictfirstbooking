{
 "cells": [
  {
   "cell_type": "markdown",
   "id": "a68ad190",
   "metadata": {},
   "source": [
    "# Business Problem"
   ]
  },
  {
   "cell_type": "markdown",
   "id": "120d8870",
   "metadata": {},
   "source": [
    "## A) Business Situation"
   ]
  },
  {
   "cell_type": "markdown",
   "id": "405c7af8",
   "metadata": {},
   "source": [
    "(Kaggle description) Instead of waking to overlooked \"Do not disturb\" signs, Airbnb travelers find themselves rising with the birds min a whimsical treehouse, having their morning coffee on the deck of a houseboat, or cooking a shared regional breakfast with their hosts. New users on Airbnb can book a place to stay in 34,000+ cities across 190+ countries. By accurately predicting where a new user will book their first travel experience, Airbnb can share more personalized content with their community, decrease the average time to first booking, and better forecast demand.\n",
    "\n",
    "    -- Business Problem (open question): What's the target destination for the 1st booking of new users?"
   ]
  },
  {
   "cell_type": "markdown",
   "id": "65eab2d9",
   "metadata": {},
   "source": [
    "## B) Business Understanding"
   ]
  },
  {
   "cell_type": "markdown",
   "id": "14ea2b5b",
   "metadata": {},
   "source": [
    "    -- Which business model Airbnb operates? \n",
    "        -- Marketplace - conect people which offer acomodation to people searching for it)\n",
    "            -- Supply (people offering accomodation)\n",
    "                -- Portfolio size\n",
    "                -- Portfolio density\n",
    "                -- Average price\n",
    "                \n",
    "            -- Demand (people seeking accomodation)\n",
    "                -- Users quantity\n",
    "                -- LTV (Lifetime value)\n",
    "                -- CAC (customer acquisition cost)\n",
    "            -- Gross Revenue = (Fee * Customer Qty) - CAC \n",
    "    \n",
    "    -- Objective: \n",
    "        -- Predict the destination choice for new users (1st booking)\n",
    "        -- Motivation: Antecipate new users choice in order to offer most assertive ads\n",
    "        -- Root Cause: Increase gross revenue (through cheaper CAC)\n",
    "        -- Scope (Closed afirmation)\n",
    "        -- Stakeholder: CFO/CEO"
   ]
  },
  {
   "cell_type": "markdown",
   "id": "17103a8a",
   "metadata": {},
   "source": [
    "#### Solution Planning"
   ]
  },
  {
   "cell_type": "markdown",
   "id": "c5c2e73f",
   "metadata": {},
   "source": [
    "Solution Overview:\n",
    "Kind problem: City destination prediction\n",
    "Potential methods: Classification\n",
    "Output: \n",
    "Steps:\n",
    "Inputs:\n",
    "    -- Solution proposal:\n",
    "        -- Machine Learning model in order to predict 1st AirBnB destination\n",
    "        -- API:\n",
    "            -- Input: user + characteristics\n",
    "            -- Output: user + characteristics + destination prediction\n",
    "\n"
   ]
  },
  {
   "cell_type": "markdown",
   "id": "29a10c4e",
   "metadata": {},
   "source": [
    "    -- C) Insights\n",
    "    -- D) Business Results\n",
    "    -- E) Conclusions (Objectives attained? Problem Solved?)\n",
    "    -- F) Next Steps\n",
    "    -- G) Lessons Learned\n"
   ]
  },
  {
   "cell_type": "markdown",
   "id": "944e012b",
   "metadata": {},
   "source": [
    "### Data Fields"
   ]
  },
  {
   "cell_type": "markdown",
   "id": "1d64c02f",
   "metadata": {},
   "source": [
    "Is given a list of users along with their demographics, web session records, and some summary statistics. You are asked to predict which country a new user's first booking destination will be. All the users in this dataset are from the USA. There are 12 possible outcomes of the destination country: 'US', 'FR', 'CA', 'GB', 'ES', 'IT', 'PT', 'NL','DE', 'AU', 'NDF' (no destination found), and 'other'. Please note that 'NDF' is different from 'other' because 'other' means there was a booking, but is to a country not included in the list, while 'NDF' means there wasn't a booking.\n",
    "\n",
    "File descriptions\n",
    "train_users.csv - the training set of users\n",
    "\n",
    "test_users.csv - the test set of users\n",
    "\n",
    "    -- id: user id\n",
    "    -- date_account_created: the date of account creation\n",
    "    --- timestamp_first_active: timestamp of the first activity, note that it can be earlier than date_account_created or date_first_booking because a user can search before signing up\n",
    "    -- date_first_booking: date of first booking\n",
    "    -- gender\n",
    "    -- age\n",
    "    -- signup_method\n",
    "    -- signup_flow: the page a user came to signup up from\n",
    "    -- language: international language preference\n",
    "    -- affiliate_channel: what kind of paid marketing\n",
    "    -- affiliate_provider: where the marketing is e.g. google, craigslist, other\n",
    "    -- first_affiliate_tracked: whats the first marketing the user interacted with before the signing up\n",
    "    -- signup_app\n",
    "    -- first_device_type\n",
    "    -- first_browser\n",
    "    -- country_destination: this is the target variable you are to predict\n",
    "\n",
    "sessions.csv - web sessions log for users\n",
    "    -- user_id: to be joined with the column 'id' in users table\n",
    "    -- action\n",
    "    -- action_type\n",
    "    -- action_detail\n",
    "    -- device_type\n",
    "    -- secs_elapsed\n",
    "\n",
    "countries.csv - summary statistics of destination countries in this dataset and their locations\n",
    "\n",
    "age_gender_bkts.csv - summary statistics of users' age group, gender, country of destination\n",
    "\n",
    "sample_submission.csv - correct format for submitting your predictions"
   ]
  },
  {
   "cell_type": "markdown",
   "id": "5aa592e3",
   "metadata": {},
   "source": [
    "# 0. Imports"
   ]
  },
  {
   "cell_type": "code",
   "execution_count": 244,
   "id": "aec3495e",
   "metadata": {
    "ExecuteTime": {
     "end_time": "2022-10-27T08:49:18.266946Z",
     "start_time": "2022-10-27T08:49:18.232321Z"
    }
   },
   "outputs": [],
   "source": [
    "import pandas as pd\n",
    "import random\n",
    "import warnings\n",
    "warnings.filterwarnings('ignore')\n",
    "\n",
    "from sklearn.model_selection import train_test_split, StratifiedKFold\n",
    "from sklearn.preprocessing   import OneHotEncoder\n",
    "from sklearn.metrics         import accuracy_score,balanced_accuracy_score, cohen_kappa_score, classification_report, ConfusionMatrixDisplay\n",
    "\n",
    "from keras import models as ml\n",
    "from keras import layers as l"
   ]
  },
  {
   "cell_type": "markdown",
   "id": "81111e1e",
   "metadata": {
    "ExecuteTime": {
     "end_time": "2022-10-24T11:06:03.335707Z",
     "start_time": "2022-10-24T11:06:03.327378Z"
    },
    "heading_collapsed": true
   },
   "source": [
    "### 0.1 Helper Functions"
   ]
  },
  {
   "cell_type": "code",
   "execution_count": null,
   "id": "e947942a",
   "metadata": {
    "hidden": true
   },
   "outputs": [],
   "source": []
  },
  {
   "cell_type": "markdown",
   "id": "97baffb6",
   "metadata": {},
   "source": [
    "### 0.2 Loading Data"
   ]
  },
  {
   "cell_type": "code",
   "execution_count": 245,
   "id": "3481fe87",
   "metadata": {
    "ExecuteTime": {
     "end_time": "2022-10-27T08:49:19.263769Z",
     "start_time": "2022-10-27T08:49:18.270892Z"
    }
   },
   "outputs": [
    {
     "name": "stdout",
     "output_type": "stream",
     "text": [
      "The train_users dataset contains 16 columns and 213451 rows\n"
     ]
    }
   ],
   "source": [
    "df_raw = pd.read_csv('dataset/train_users.csv')\n",
    "df_raw.shape\n",
    "print('The train_users dataset contains {} columns and {} rows'.format(df_raw.shape[1], df_raw.shape[0]))"
   ]
  },
  {
   "cell_type": "code",
   "execution_count": 246,
   "id": "21fe5904",
   "metadata": {
    "ExecuteTime": {
     "end_time": "2022-10-27T08:49:35.756532Z",
     "start_time": "2022-10-27T08:49:19.264889Z"
    }
   },
   "outputs": [
    {
     "name": "stdout",
     "output_type": "stream",
     "text": [
      "The sessions dataset contains 6 columns and 10567737 rows\n"
     ]
    }
   ],
   "source": [
    "df_sessions = pd.read_csv('dataset/sessions.csv')\n",
    "df_sessions.shape\n",
    "print('The sessions dataset contains {} columns and {} rows'.format(df_sessions.shape[1], df_sessions.shape[0]))"
   ]
  },
  {
   "cell_type": "markdown",
   "id": "94f7997d",
   "metadata": {},
   "source": [
    "# 1. Data Description"
   ]
  },
  {
   "cell_type": "code",
   "execution_count": 247,
   "id": "8a5316b4",
   "metadata": {
    "ExecuteTime": {
     "end_time": "2022-10-27T08:49:35.834734Z",
     "start_time": "2022-10-27T08:49:35.757029Z"
    }
   },
   "outputs": [],
   "source": [
    "df1 = df_raw.copy()"
   ]
  },
  {
   "cell_type": "markdown",
   "id": "cf0a5989",
   "metadata": {},
   "source": [
    "## 1.1 NAs Check "
   ]
  },
  {
   "cell_type": "code",
   "execution_count": 248,
   "id": "aefd47f4",
   "metadata": {
    "ExecuteTime": {
     "end_time": "2022-10-27T08:49:36.847641Z",
     "start_time": "2022-10-27T08:49:35.841328Z"
    }
   },
   "outputs": [
    {
     "data": {
      "text/plain": [
       "id                              0\n",
       "date_account_created            0\n",
       "timestamp_first_active          0\n",
       "date_first_booking         124543\n",
       "gender                          0\n",
       "age                         87990\n",
       "signup_method                   0\n",
       "signup_flow                     0\n",
       "language                        0\n",
       "affiliate_channel               0\n",
       "affiliate_provider              0\n",
       "first_affiliate_tracked      6065\n",
       "signup_app                      0\n",
       "first_device_type               0\n",
       "first_browser                   0\n",
       "country_destination             0\n",
       "dtype: int64"
      ]
     },
     "execution_count": 248,
     "metadata": {},
     "output_type": "execute_result"
    }
   ],
   "source": [
    "df1.isna().sum()"
   ]
  },
  {
   "cell_type": "markdown",
   "id": "337454ae",
   "metadata": {},
   "source": [
    "### 1.1.1 Removing NAs"
   ]
  },
  {
   "cell_type": "code",
   "execution_count": 249,
   "id": "ec71529e",
   "metadata": {
    "ExecuteTime": {
     "end_time": "2022-10-27T08:49:37.874232Z",
     "start_time": "2022-10-27T08:49:36.848136Z"
    }
   },
   "outputs": [],
   "source": [
    "#for the 1st cycle we will drop NAs - 1st cycle aims to prepare the entire pipeline\n",
    "df1 = df1.dropna()"
   ]
  },
  {
   "cell_type": "markdown",
   "id": "c8f4ed30",
   "metadata": {},
   "source": [
    "## 1.2 Data Type"
   ]
  },
  {
   "cell_type": "code",
   "execution_count": 250,
   "id": "9390b009",
   "metadata": {
    "ExecuteTime": {
     "end_time": "2022-10-27T08:49:37.901403Z",
     "start_time": "2022-10-27T08:49:37.877339Z"
    }
   },
   "outputs": [
    {
     "data": {
      "text/plain": [
       "id                          object\n",
       "date_account_created        object\n",
       "timestamp_first_active       int64\n",
       "date_first_booking          object\n",
       "gender                      object\n",
       "age                        float64\n",
       "signup_method               object\n",
       "signup_flow                  int64\n",
       "language                    object\n",
       "affiliate_channel           object\n",
       "affiliate_provider          object\n",
       "first_affiliate_tracked     object\n",
       "signup_app                  object\n",
       "first_device_type           object\n",
       "first_browser               object\n",
       "country_destination         object\n",
       "dtype: object"
      ]
     },
     "execution_count": 250,
     "metadata": {},
     "output_type": "execute_result"
    }
   ],
   "source": [
    "df1.dtypes"
   ]
  },
  {
   "cell_type": "markdown",
   "id": "b0cd0913",
   "metadata": {},
   "source": [
    "### 1.2.1 Change Data Types "
   ]
  },
  {
   "cell_type": "code",
   "execution_count": 251,
   "id": "5122c581",
   "metadata": {
    "ExecuteTime": {
     "end_time": "2022-10-27T08:49:38.622177Z",
     "start_time": "2022-10-27T08:49:37.902434Z"
    }
   },
   "outputs": [],
   "source": [
    "#date_account_created\n",
    "df1['date_account_created'] = pd.to_datetime(df1['date_account_created'])\n",
    "#timestamp_first_active\n",
    "df1['timestamp_first_active'] = pd.to_datetime(df1['timestamp_first_active'], format='%Y%m%d%H%M%S')\n",
    "#date_first_booking\n",
    "df1['date_first_booking'] = pd.to_datetime(df1['date_first_booking'])\n",
    "#age\n",
    "df1['age'] = df1['age'].astype(int)"
   ]
  },
  {
   "cell_type": "code",
   "execution_count": 252,
   "id": "f3c5b6c6",
   "metadata": {
    "ExecuteTime": {
     "end_time": "2022-10-27T08:49:38.638401Z",
     "start_time": "2022-10-27T08:49:38.622784Z"
    }
   },
   "outputs": [
    {
     "data": {
      "text/plain": [
       "id                                 object\n",
       "date_account_created       datetime64[ns]\n",
       "timestamp_first_active     datetime64[ns]\n",
       "date_first_booking         datetime64[ns]\n",
       "gender                             object\n",
       "age                                 int32\n",
       "signup_method                      object\n",
       "signup_flow                         int64\n",
       "language                           object\n",
       "affiliate_channel                  object\n",
       "affiliate_provider                 object\n",
       "first_affiliate_tracked            object\n",
       "signup_app                         object\n",
       "first_device_type                  object\n",
       "first_browser                      object\n",
       "country_destination                object\n",
       "dtype: object"
      ]
     },
     "execution_count": 252,
     "metadata": {},
     "output_type": "execute_result"
    }
   ],
   "source": [
    "df1.dtypes"
   ]
  },
  {
   "cell_type": "markdown",
   "id": "81db9f86",
   "metadata": {},
   "source": [
    "## 1.3 Check balanced data"
   ]
  },
  {
   "cell_type": "code",
   "execution_count": 253,
   "id": "91bfb44f",
   "metadata": {
    "ExecuteTime": {
     "end_time": "2022-10-27T08:49:38.682340Z",
     "start_time": "2022-10-27T08:49:38.642233Z"
    }
   },
   "outputs": [
    {
     "data": {
      "text/plain": [
       "US       0.708864\n",
       "other    0.110854\n",
       "FR       0.054085\n",
       "IT       0.029763\n",
       "GB       0.025935\n",
       "ES       0.024864\n",
       "CA       0.015696\n",
       "DE       0.012454\n",
       "NL       0.008801\n",
       "AU       0.006366\n",
       "PT       0.002318\n",
       "Name: country_destination, dtype: float64"
      ]
     },
     "execution_count": 253,
     "metadata": {},
     "output_type": "execute_result"
    }
   ],
   "source": [
    "df1['country_destination'].value_counts(normalize=True)"
   ]
  },
  {
   "cell_type": "markdown",
   "id": "c01233fd",
   "metadata": {},
   "source": [
    "# 2.0 Data Filtering - Business knowledge"
   ]
  },
  {
   "cell_type": "code",
   "execution_count": 254,
   "id": "aa078025",
   "metadata": {
    "ExecuteTime": {
     "end_time": "2022-10-27T08:49:38.718020Z",
     "start_time": "2022-10-27T08:49:38.682834Z"
    }
   },
   "outputs": [],
   "source": [
    "#Filtering based on business assumptions and rules\n",
    "df2 = df1.copy()"
   ]
  },
  {
   "cell_type": "markdown",
   "id": "55327243",
   "metadata": {},
   "source": [
    "## Rows filtering"
   ]
  },
  {
   "cell_type": "code",
   "execution_count": null,
   "id": "a4d3470e",
   "metadata": {},
   "outputs": [],
   "source": []
  },
  {
   "cell_type": "markdown",
   "id": "dd46ec0f",
   "metadata": {},
   "source": [
    "## Columns selection"
   ]
  },
  {
   "cell_type": "markdown",
   "id": "826ada4c",
   "metadata": {},
   "source": [
    "# 3.0 Data Preparation"
   ]
  },
  {
   "cell_type": "code",
   "execution_count": 255,
   "id": "dbcadc36",
   "metadata": {
    "ExecuteTime": {
     "end_time": "2022-10-27T08:49:38.767394Z",
     "start_time": "2022-10-27T08:49:38.718517Z"
    }
   },
   "outputs": [],
   "source": [
    "#split dataset training/validation\n",
    "X = df2.drop(columns='country_destination')\n",
    "y = df2['country_destination'].copy()"
   ]
  },
  {
   "cell_type": "code",
   "execution_count": 256,
   "id": "cdf0c4fe",
   "metadata": {
    "ExecuteTime": {
     "end_time": "2022-10-27T08:49:38.998707Z",
     "start_time": "2022-10-27T08:49:38.771472Z"
    }
   },
   "outputs": [],
   "source": [
    "X.drop(columns='id',axis=1, inplace=True)\n",
    "\n",
    "aux= pd.get_dummies(X)\n",
    "\n",
    "X = pd.concat([df2['id'],aux],axis=1)"
   ]
  },
  {
   "cell_type": "code",
   "execution_count": 257,
   "id": "cc417373",
   "metadata": {
    "ExecuteTime": {
     "end_time": "2022-10-27T08:49:39.134543Z",
     "start_time": "2022-10-27T08:49:38.999202Z"
    }
   },
   "outputs": [],
   "source": [
    "X_train, X_val, y_train, y_val = train_test_split(X,y, test_size=0.2, random_state=32)"
   ]
  },
  {
   "cell_type": "markdown",
   "id": "0b0847de",
   "metadata": {},
   "source": [
    "# 4.0 Feature Selection"
   ]
  },
  {
   "cell_type": "code",
   "execution_count": 258,
   "id": "3c65128d",
   "metadata": {
    "ExecuteTime": {
     "end_time": "2022-10-27T08:49:39.168010Z",
     "start_time": "2022-10-27T08:49:39.135039Z"
    }
   },
   "outputs": [],
   "source": [
    "cols_drop = ['id','date_account_created', 'timestamp_first_active', 'date_first_booking']\n",
    "X_train = X_train.drop(cols_drop, axis=1)\n",
    "X_val = X_val.drop(cols_drop, axis=1)"
   ]
  },
  {
   "cell_type": "markdown",
   "id": "7e94bc73",
   "metadata": {},
   "source": [
    "# 5.0 ML Modeling"
   ]
  },
  {
   "cell_type": "markdown",
   "id": "110b20bd",
   "metadata": {},
   "source": [
    "### Baseline Model"
   ]
  },
  {
   "cell_type": "code",
   "execution_count": 259,
   "id": "5d19935b",
   "metadata": {
    "ExecuteTime": {
     "end_time": "2022-10-27T08:49:39.190828Z",
     "start_time": "2022-10-27T08:49:39.168010Z"
    }
   },
   "outputs": [
    {
     "data": {
      "text/plain": [
       "['AU', 'CA', 'DE', 'ES', 'FR', 'GB', 'IT', 'NL', 'PT', 'US', 'other']"
      ]
     },
     "execution_count": 259,
     "metadata": {},
     "output_type": "execute_result"
    }
   ],
   "source": [
    "country_dest_list"
   ]
  },
  {
   "cell_type": "code",
   "execution_count": 260,
   "id": "f0796828",
   "metadata": {
    "ExecuteTime": {
     "end_time": "2022-10-27T08:49:39.226016Z",
     "start_time": "2022-10-27T08:49:39.193846Z"
    }
   },
   "outputs": [
    {
     "data": {
      "text/plain": [
       "[0.00636634345982896,\n",
       " 0.01569582373736633,\n",
       " 0.012453976030863564,\n",
       " 0.024863945079285913,\n",
       " 0.05408458142025201,\n",
       " 0.02593478165202212,\n",
       " 0.02976338912440774,\n",
       " 0.008801396488242802,\n",
       " 0.002317701075237271,\n",
       " 0.7088644731630752,\n",
       " 0.11085358876941809]"
      ]
     },
     "execution_count": 260,
     "metadata": {},
     "output_type": "execute_result"
    }
   ],
   "source": [
    "df2['country_destination'].value_counts(normalize=True).sort_index().to_list()"
   ]
  },
  {
   "cell_type": "code",
   "execution_count": 261,
   "id": "57802c10",
   "metadata": {
    "ExecuteTime": {
     "end_time": "2022-10-27T08:49:39.276011Z",
     "start_time": "2022-10-27T08:49:39.226016Z"
    }
   },
   "outputs": [],
   "source": [
    "#build a random model - baseline\n",
    "\n",
    "#values to pick ramdomly\n",
    "country_dest_list = sorted(df2['country_destination'].unique())\n",
    "\n",
    "#classes presence\n",
    "target_weights = df2['country_destination'].value_counts(normalize=True).sort_index().to_list()\n",
    "\n",
    "#size \n",
    "k_num = y_val.shape[0]\n",
    "\n",
    "yhat_baseline = random.choices(population=country_dest_list, weights=target_weights, k=k_num)"
   ]
  },
  {
   "cell_type": "code",
   "execution_count": 262,
   "id": "ed6e777b",
   "metadata": {
    "ExecuteTime": {
     "end_time": "2022-10-27T08:49:41.499448Z",
     "start_time": "2022-10-27T08:49:39.276011Z"
    }
   },
   "outputs": [
    {
     "name": "stdout",
     "output_type": "stream",
     "text": [
      "Accuracy 0.5239457279061239\n",
      " Balanced Accuracy 0.09464521945684216\n",
      " Kappa score 0.00837425799873237\n",
      "              precision    recall  f1-score   support\n",
      "\n",
      "          AU       0.02      0.02      0.02       101\n",
      "          CA       0.01      0.01      0.01       214\n",
      "          DE       0.02      0.02      0.02       170\n",
      "          ES       0.02      0.02      0.02       345\n",
      "          FR       0.06      0.06      0.06       710\n",
      "          GB       0.04      0.04      0.04       344\n",
      "          IT       0.03      0.03      0.03       423\n",
      "          NL       0.01      0.01      0.01       128\n",
      "          PT       0.00      0.00      0.00        36\n",
      "          US       0.71      0.72      0.71      9624\n",
      "       other       0.11      0.11      0.11      1540\n",
      "\n",
      "    accuracy                           0.52     13635\n",
      "   macro avg       0.09      0.09      0.09     13635\n",
      "weighted avg       0.52      0.52      0.52     13635\n",
      "\n"
     ]
    },
    {
     "data": {
      "image/png": "[encoded data removed]",
      "text/plain": [
       "<Figure size 640x480 with 2 Axes>"
      ]
     },
     "metadata": {},
     "output_type": "display_data"
    }
   ],
   "source": [
    "#acuracy\n",
    "acc_base = accuracy_score(y_val, yhat_baseline)\n",
    "print('Accuracy {}'.format(acc_base))\n",
    "\n",
    "#balanced accuracy\n",
    "balanced_acc_base = balanced_accuracy_score(y_val, yhat_baseline)\n",
    "print(' Balanced Accuracy {}'.format(balanced_acc_base))\n",
    "\n",
    "#Kappa score - estimators agreement\n",
    "kappa_base = cohen_kappa_score(y_val, yhat_baseline)\n",
    "print(' Kappa score {}'.format(kappa_base))\n",
    "\n",
    "#confusion matrix\n",
    "ConfusionMatrixDisplay.from_predictions(y_val, yhat_baseline, cmap='YlGnBu_r');\n",
    "\n",
    "#classification report\n",
    "print(classification_report(y_val, yhat_baseline))"
   ]
  },
  {
   "cell_type": "markdown",
   "id": "1f90c460",
   "metadata": {},
   "source": [
    "### 5.2 Neural Network MLP "
   ]
  },
  {
   "cell_type": "code",
   "execution_count": 263,
   "id": "d9ddc268",
   "metadata": {
    "ExecuteTime": {
     "end_time": "2022-10-27T08:49:41.551486Z",
     "start_time": "2022-10-27T08:49:41.500735Z"
    }
   },
   "outputs": [],
   "source": [
    "ohe = OneHotEncoder()\n",
    "y_train_nn = ohe.fit_transform(y_train.values.reshape(-1,1)).toarray()"
   ]
  },
  {
   "cell_type": "code",
   "execution_count": 264,
   "id": "d12f2c7c",
   "metadata": {
    "ExecuteTime": {
     "end_time": "2022-10-27T08:54:40.036093Z",
     "start_time": "2022-10-27T08:49:41.551486Z"
    }
   },
   "outputs": [
    {
     "name": "stdout",
     "output_type": "stream",
     "text": [
      "Epoch 1/100\n",
      "1705/1705 [==============================] - 4s 2ms/step - loss: 1.3556 - accuracy: 0.7038\n",
      "Epoch 2/100\n",
      "1705/1705 [==============================] - 3s 2ms/step - loss: 1.2757 - accuracy: 0.7074\n",
      "Epoch 3/100\n",
      "1705/1705 [==============================] - 3s 2ms/step - loss: 1.2554 - accuracy: 0.7076\n",
      "Epoch 4/100\n",
      "1705/1705 [==============================] - 3s 2ms/step - loss: 1.2235 - accuracy: 0.7085\n",
      "Epoch 5/100\n",
      "1705/1705 [==============================] - 3s 2ms/step - loss: 1.2003 - accuracy: 0.7085\n",
      "Epoch 6/100\n",
      "1705/1705 [==============================] - 3s 2ms/step - loss: 1.1859 - accuracy: 0.7085\n",
      "Epoch 7/100\n",
      "1705/1705 [==============================] - 3s 2ms/step - loss: 1.1759 - accuracy: 0.7087\n",
      "Epoch 8/100\n",
      "1705/1705 [==============================] - 3s 2ms/step - loss: 1.1629 - accuracy: 0.7087\n",
      "Epoch 9/100\n",
      "1705/1705 [==============================] - 3s 2ms/step - loss: 1.1546 - accuracy: 0.7086\n",
      "Epoch 10/100\n",
      "1705/1705 [==============================] - 4s 2ms/step - loss: 1.1470 - accuracy: 0.7087\n",
      "Epoch 11/100\n",
      "1705/1705 [==============================] - 3s 2ms/step - loss: 1.1371 - accuracy: 0.7090\n",
      "Epoch 12/100\n",
      "1705/1705 [==============================] - 3s 2ms/step - loss: 1.1351 - accuracy: 0.7093\n",
      "Epoch 13/100\n",
      "1705/1705 [==============================] - 4s 2ms/step - loss: 1.1323 - accuracy: 0.7096\n",
      "Epoch 14/100\n",
      "1705/1705 [==============================] - 3s 2ms/step - loss: 1.1322 - accuracy: 0.7095\n",
      "Epoch 15/100\n",
      "1705/1705 [==============================] - 3s 2ms/step - loss: 1.1312 - accuracy: 0.7096\n",
      "Epoch 16/100\n",
      "1705/1705 [==============================] - 3s 2ms/step - loss: 1.1296 - accuracy: 0.7097\n",
      "Epoch 17/100\n",
      "1705/1705 [==============================] - 3s 2ms/step - loss: 1.1284 - accuracy: 0.7097\n",
      "Epoch 18/100\n",
      "1705/1705 [==============================] - 3s 2ms/step - loss: 1.1274 - accuracy: 0.7097\n",
      "Epoch 19/100\n",
      "1705/1705 [==============================] - 3s 2ms/step - loss: 1.1271 - accuracy: 0.7096\n",
      "Epoch 20/100\n",
      "1705/1705 [==============================] - 3s 2ms/step - loss: 1.1268 - accuracy: 0.7097\n",
      "Epoch 21/100\n",
      "1705/1705 [==============================] - 3s 2ms/step - loss: 1.1254 - accuracy: 0.7097\n",
      "Epoch 22/100\n",
      "1705/1705 [==============================] - 3s 2ms/step - loss: 1.1245 - accuracy: 0.7097\n",
      "Epoch 23/100\n",
      "1705/1705 [==============================] - 3s 2ms/step - loss: 1.1244 - accuracy: 0.7096\n",
      "Epoch 24/100\n",
      "1705/1705 [==============================] - 3s 2ms/step - loss: 1.1229 - accuracy: 0.7098\n",
      "Epoch 25/100\n",
      "1705/1705 [==============================] - 3s 2ms/step - loss: 1.1228 - accuracy: 0.7099\n",
      "Epoch 26/100\n",
      "1705/1705 [==============================] - 3s 2ms/step - loss: 1.1217 - accuracy: 0.7099\n",
      "Epoch 27/100\n",
      "1705/1705 [==============================] - 3s 2ms/step - loss: 1.1211 - accuracy: 0.7099\n",
      "Epoch 28/100\n",
      "1705/1705 [==============================] - 3s 2ms/step - loss: 1.1198 - accuracy: 0.7100\n",
      "Epoch 29/100\n",
      "1705/1705 [==============================] - 3s 2ms/step - loss: 1.1199 - accuracy: 0.7100\n",
      "Epoch 30/100\n",
      "1705/1705 [==============================] - 3s 2ms/step - loss: 1.1184 - accuracy: 0.7100\n",
      "Epoch 31/100\n",
      "1705/1705 [==============================] - 3s 2ms/step - loss: 1.1185 - accuracy: 0.7099\n",
      "Epoch 32/100\n",
      "1705/1705 [==============================] - 3s 2ms/step - loss: 1.1178 - accuracy: 0.7100\n",
      "Epoch 33/100\n",
      "1705/1705 [==============================] - 3s 2ms/step - loss: 1.1179 - accuracy: 0.7100\n",
      "Epoch 34/100\n",
      "1705/1705 [==============================] - 3s 2ms/step - loss: 1.1169 - accuracy: 0.7101\n",
      "Epoch 35/100\n",
      "1705/1705 [==============================] - 3s 2ms/step - loss: 1.1161 - accuracy: 0.7101\n",
      "Epoch 36/100\n",
      "1705/1705 [==============================] - 3s 2ms/step - loss: 1.1158 - accuracy: 0.7102\n",
      "Epoch 37/100\n",
      "1705/1705 [==============================] - 3s 2ms/step - loss: 1.1153 - accuracy: 0.7103\n",
      "Epoch 38/100\n",
      "1705/1705 [==============================] - 3s 2ms/step - loss: 1.1150 - accuracy: 0.7103\n",
      "Epoch 39/100\n",
      "1705/1705 [==============================] - 3s 2ms/step - loss: 1.1137 - accuracy: 0.7103\n",
      "Epoch 40/100\n",
      "1705/1705 [==============================] - 3s 2ms/step - loss: 1.1143 - accuracy: 0.7104\n",
      "Epoch 41/100\n",
      "1705/1705 [==============================] - 3s 2ms/step - loss: 1.1132 - accuracy: 0.7102\n",
      "Epoch 42/100\n",
      "1705/1705 [==============================] - 3s 2ms/step - loss: 1.1128 - accuracy: 0.7104\n",
      "Epoch 43/100\n",
      "1705/1705 [==============================] - 3s 2ms/step - loss: 1.1127 - accuracy: 0.7103\n",
      "Epoch 44/100\n",
      "1705/1705 [==============================] - 3s 2ms/step - loss: 1.1126 - accuracy: 0.7105\n",
      "Epoch 45/100\n",
      "1705/1705 [==============================] - 3s 2ms/step - loss: 1.1114 - accuracy: 0.7104\n",
      "Epoch 46/100\n",
      "1705/1705 [==============================] - 3s 2ms/step - loss: 1.1112 - accuracy: 0.7106\n",
      "Epoch 47/100\n",
      "1705/1705 [==============================] - 4s 2ms/step - loss: 1.1106 - accuracy: 0.7105\n",
      "Epoch 48/100\n",
      "1705/1705 [==============================] - 3s 2ms/step - loss: 1.1105 - accuracy: 0.7105\n",
      "Epoch 49/100\n",
      "1705/1705 [==============================] - 3s 2ms/step - loss: 1.1094 - accuracy: 0.7105\n",
      "Epoch 50/100\n",
      "1705/1705 [==============================] - 3s 2ms/step - loss: 1.1099 - accuracy: 0.7106\n",
      "Epoch 51/100\n",
      "1705/1705 [==============================] - 3s 2ms/step - loss: 1.1095 - accuracy: 0.7107\n",
      "Epoch 52/100\n",
      "1705/1705 [==============================] - 3s 2ms/step - loss: 1.1090 - accuracy: 0.7107\n",
      "Epoch 53/100\n",
      "1705/1705 [==============================] - 3s 2ms/step - loss: 1.1088 - accuracy: 0.7107\n",
      "Epoch 54/100\n",
      "1705/1705 [==============================] - 3s 2ms/step - loss: 1.1082 - accuracy: 0.7106\n",
      "Epoch 55/100\n",
      "1705/1705 [==============================] - 3s 2ms/step - loss: 1.1086 - accuracy: 0.7111\n",
      "Epoch 56/100\n",
      "1705/1705 [==============================] - 3s 2ms/step - loss: 1.1074 - accuracy: 0.7107\n",
      "Epoch 57/100\n",
      "1705/1705 [==============================] - 3s 2ms/step - loss: 1.1077 - accuracy: 0.7108\n",
      "Epoch 58/100\n",
      "1705/1705 [==============================] - 3s 2ms/step - loss: 1.1066 - accuracy: 0.7109\n",
      "Epoch 59/100\n",
      "1705/1705 [==============================] - 3s 2ms/step - loss: 1.1068 - accuracy: 0.7110\n",
      "Epoch 60/100\n",
      "1705/1705 [==============================] - 3s 2ms/step - loss: 1.1057 - accuracy: 0.7111\n",
      "Epoch 61/100\n",
      "1705/1705 [==============================] - 3s 2ms/step - loss: 1.1063 - accuracy: 0.7110\n",
      "Epoch 62/100\n",
      "1705/1705 [==============================] - 3s 2ms/step - loss: 1.1059 - accuracy: 0.7109\n",
      "Epoch 63/100\n",
      "1705/1705 [==============================] - 3s 2ms/step - loss: 1.1062 - accuracy: 0.7112\n",
      "Epoch 64/100\n",
      "1705/1705 [==============================] - 3s 2ms/step - loss: 1.1055 - accuracy: 0.7111\n",
      "Epoch 65/100\n",
      "1705/1705 [==============================] - 3s 2ms/step - loss: 1.1046 - accuracy: 0.7113\n",
      "Epoch 66/100\n",
      "1705/1705 [==============================] - 3s 2ms/step - loss: 1.1043 - accuracy: 0.7114\n",
      "Epoch 67/100\n",
      "1705/1705 [==============================] - 3s 2ms/step - loss: 1.1050 - accuracy: 0.7112\n",
      "Epoch 68/100\n",
      "1705/1705 [==============================] - 3s 2ms/step - loss: 1.1043 - accuracy: 0.7112\n",
      "Epoch 69/100\n",
      "1705/1705 [==============================] - 3s 2ms/step - loss: 1.1042 - accuracy: 0.7112\n",
      "Epoch 70/100\n",
      "1705/1705 [==============================] - 3s 2ms/step - loss: 1.1039 - accuracy: 0.7113\n",
      "Epoch 71/100\n",
      "1705/1705 [==============================] - 3s 2ms/step - loss: 1.1037 - accuracy: 0.7114\n",
      "Epoch 72/100\n",
      "1705/1705 [==============================] - 3s 2ms/step - loss: 1.1032 - accuracy: 0.7114\n",
      "Epoch 73/100\n",
      "1705/1705 [==============================] - 3s 2ms/step - loss: 1.1036 - accuracy: 0.7115\n",
      "Epoch 74/100\n",
      "1705/1705 [==============================] - 3s 2ms/step - loss: 1.1033 - accuracy: 0.7114\n",
      "Epoch 75/100\n",
      "1705/1705 [==============================] - 3s 2ms/step - loss: 1.1027 - accuracy: 0.7116\n",
      "Epoch 76/100\n",
      "1705/1705 [==============================] - 3s 2ms/step - loss: 1.1025 - accuracy: 0.7113\n",
      "Epoch 77/100\n",
      "1705/1705 [==============================] - 3s 2ms/step - loss: 1.1025 - accuracy: 0.7114\n",
      "Epoch 78/100\n",
      "1705/1705 [==============================] - 3s 2ms/step - loss: 1.1024 - accuracy: 0.7113\n",
      "Epoch 79/100\n"
     ]
    },
    {
     "name": "stdout",
     "output_type": "stream",
     "text": [
      "1705/1705 [==============================] - 3s 2ms/step - loss: 1.1021 - accuracy: 0.7116\n",
      "Epoch 80/100\n",
      "1705/1705 [==============================] - 3s 2ms/step - loss: 1.1018 - accuracy: 0.7114\n",
      "Epoch 81/100\n",
      "1705/1705 [==============================] - 3s 2ms/step - loss: 1.1015 - accuracy: 0.7114\n",
      "Epoch 82/100\n",
      "1705/1705 [==============================] - 3s 2ms/step - loss: 1.1009 - accuracy: 0.7116\n",
      "Epoch 83/100\n",
      "1705/1705 [==============================] - 3s 2ms/step - loss: 1.1015 - accuracy: 0.7116\n",
      "Epoch 84/100\n",
      "1705/1705 [==============================] - 3s 2ms/step - loss: 1.1008 - accuracy: 0.7119\n",
      "Epoch 85/100\n",
      "1705/1705 [==============================] - 3s 2ms/step - loss: 1.1007 - accuracy: 0.7117\n",
      "Epoch 86/100\n",
      "1705/1705 [==============================] - 3s 2ms/step - loss: 1.1009 - accuracy: 0.7116\n",
      "Epoch 87/100\n",
      "1705/1705 [==============================] - 3s 2ms/step - loss: 1.1002 - accuracy: 0.7120\n",
      "Epoch 88/100\n",
      "1705/1705 [==============================] - 3s 2ms/step - loss: 1.1006 - accuracy: 0.7116\n",
      "Epoch 89/100\n",
      "1705/1705 [==============================] - 3s 2ms/step - loss: 1.1002 - accuracy: 0.7118\n",
      "Epoch 90/100\n",
      "1705/1705 [==============================] - 3s 2ms/step - loss: 1.0999 - accuracy: 0.7118\n",
      "Epoch 91/100\n",
      "1705/1705 [==============================] - 3s 2ms/step - loss: 1.0996 - accuracy: 0.7118\n",
      "Epoch 92/100\n",
      "1705/1705 [==============================] - 3s 2ms/step - loss: 1.0989 - accuracy: 0.7118\n",
      "Epoch 93/100\n",
      "1705/1705 [==============================] - 3s 2ms/step - loss: 1.0992 - accuracy: 0.7120\n",
      "Epoch 94/100\n",
      "1705/1705 [==============================] - 3s 2ms/step - loss: 1.0993 - accuracy: 0.7117\n",
      "Epoch 95/100\n",
      "1705/1705 [==============================] - 3s 2ms/step - loss: 1.0992 - accuracy: 0.7117\n",
      "Epoch 96/100\n",
      "1705/1705 [==============================] - 3s 2ms/step - loss: 1.0990 - accuracy: 0.7124\n",
      "Epoch 97/100\n",
      "1705/1705 [==============================] - 3s 2ms/step - loss: 1.0983 - accuracy: 0.7120\n",
      "Epoch 98/100\n",
      "1705/1705 [==============================] - 3s 2ms/step - loss: 1.0985 - accuracy: 0.7121\n",
      "Epoch 99/100\n",
      "1705/1705 [==============================] - 3s 2ms/step - loss: 1.0983 - accuracy: 0.7122\n",
      "Epoch 100/100\n",
      "1705/1705 [==============================] - 3s 2ms/step - loss: 1.0983 - accuracy: 0.7123\n"
     ]
    }
   ],
   "source": [
    "#model definition\n",
    "model = ml.Sequential()\n",
    "#1st layer\n",
    "model.add(l.Dense(128, input_dim=X_train.shape[1], activation='relu'))\n",
    "#output layer\n",
    "model.add(l.Dense(11, activation='softmax'))\n",
    "          \n",
    "#model compile\n",
    "model.compile(loss='categorical_crossentropy',optimizer='adam', metrics=['accuracy'])\n",
    "          \n",
    "#train model\n",
    "model.fit(X_train,y_train_nn, epochs=100)\n",
    "\n",
    "#prediction\n",
    "pred_nn = model.predict(X_val)\n",
    "\n",
    "#invert prediction\n",
    "yhat_nn = ohe.inverse_transform(pred_nn) \n",
    "\n",
    "#prediction prepare\n",
    "y_val_nn = y_val.to_numpy()\n",
    "yhat_nn = yhat_nn.reshape(1,-1)[0]"
   ]
  },
  {
   "cell_type": "markdown",
   "id": "8d571c7b",
   "metadata": {},
   "source": [
    "### 5.2.1 NN Performance"
   ]
  },
  {
   "cell_type": "code",
   "execution_count": 265,
   "id": "05246310",
   "metadata": {
    "ExecuteTime": {
     "end_time": "2022-10-27T08:54:42.211823Z",
     "start_time": "2022-10-27T08:54:40.039899Z"
    }
   },
   "outputs": [
    {
     "name": "stdout",
     "output_type": "stream",
     "text": [
      "Accuracy 0.7029702970297029\n",
      " Balanced Accuracy 0.0917361751903703\n",
      " Kappa score 0.00188955370441235\n",
      "              precision    recall  f1-score   support\n",
      "\n",
      "          AU       0.00      0.00      0.00       101\n",
      "          CA       0.00      0.00      0.00       214\n",
      "          DE       0.25      0.01      0.01       170\n",
      "          ES       0.17      0.00      0.01       345\n",
      "          FR       0.20      0.00      0.00       710\n",
      "          GB       0.00      0.00      0.00       344\n",
      "          IT       0.00      0.00      0.00       423\n",
      "          NL       0.00      0.00      0.00       128\n",
      "          PT       0.00      0.00      0.00        36\n",
      "          US       0.71      1.00      0.83      9624\n",
      "       other       0.14      0.00      0.01      1540\n",
      "\n",
      "    accuracy                           0.70     13635\n",
      "   macro avg       0.13      0.09      0.08     13635\n",
      "weighted avg       0.53      0.70      0.58     13635\n",
      "\n"
     ]
    },
    {
     "data": {
      "image/png": "[encoded data removed]",
      "text/plain": [
       "<Figure size 640x480 with 2 Axes>"
      ]
     },
     "metadata": {},
     "output_type": "display_data"
    }
   ],
   "source": [
    "#acuracy\n",
    "acc_nn = accuracy_score(y_val_nn, yhat_nn)\n",
    "print('Accuracy {}'.format(acc_nn))\n",
    "\n",
    "#balanced accuracy\n",
    "balanced_acc_nn = balanced_accuracy_score(y_val_nn, yhat_nn)\n",
    "print(' Balanced Accuracy {}'.format(balanced_acc_nn))\n",
    "\n",
    "#Kappa score - estimators agreement\n",
    "kappa = cohen_kappa_score(y_val_nn, yhat_nn)\n",
    "print(' Kappa score {}'.format(kappa))\n",
    "\n",
    "#confusion matrix\n",
    "ConfusionMatrixDisplay.from_predictions(y_val_nn, yhat_nn, cmap='YlGnBu_r');\n",
    "\n",
    "#classification report\n",
    "print(classification_report(y_val_nn, yhat_nn))"
   ]
  },
  {
   "cell_type": "markdown",
   "id": "84c82837",
   "metadata": {},
   "source": [
    "### 5.2.1 NN Performance - Cross validation"
   ]
  },
  {
   "cell_type": "code",
   "execution_count": 266,
   "id": "f066b1c9",
   "metadata": {
    "ExecuteTime": {
     "end_time": "2022-10-27T09:11:09.152495Z",
     "start_time": "2022-10-27T08:54:42.211823Z"
    }
   },
   "outputs": [
    {
     "name": "stdout",
     "output_type": "stream",
     "text": [
      "Fold 1/5\n",
      "Fold 2/5\n",
      "Fold 3/5\n",
      "Fold 4/5\n",
      "Fold 5/5\n"
     ]
    }
   ],
   "source": [
    "#generate k-fold\n",
    "n_folds=5\n",
    "kfold = StratifiedKFold(n_splits=n_folds, shuffle=True,random_state=32)\n",
    "balanced_acc_list = []\n",
    "kappa_list = []\n",
    "i=1\n",
    "\n",
    "for train_ix, val_ix in kfold.split(X_train, y_train):\n",
    "\n",
    "    print('Fold {}/{}'.format(i,n_folds))\n",
    "    \n",
    "    #define fold\n",
    "    X_train_cv = X_train.iloc[train_ix]\n",
    "    y_train_cv = y_train.iloc[train_ix]\n",
    "\n",
    "    X_val_cv = X_train.iloc[val_ix]\n",
    "    y_val_cv = y_train.iloc[val_ix]\n",
    "\n",
    "\n",
    "    #target one-hot encoding\n",
    "    ohe = OneHotEncoder()\n",
    "    y_train_cv_nn = ohe.fit_transform(y_train_cv.values.reshape(-1,1)).toarray()\n",
    "    \n",
    "    \n",
    "    #model definition\n",
    "    model = ml.Sequential()\n",
    "    model.add(l.Dense( 128, input_dim=X_train_cv.shape[1], activation='relu'))\n",
    "    model.add(l.Dense(11, activation='softmax' ))\n",
    "\n",
    "    #compile model\n",
    "    model.compile(loss='categorical_crossentropy', optimizer='adam', metrics=['accuracy'])\n",
    "\n",
    "    #training model\n",
    "    model.fit(X_train_cv, y_train_cv_nn, epochs=100, batch_size=32, verbose=0)\n",
    "\n",
    "    #prediction\n",
    "    pred_nn_cv = model.predict(X_val_cv)\n",
    "    yhat_nn_cv = ohe.inverse_transform(pred_nn_cv)\n",
    "    \n",
    "    y_val_nn_cv = y_val_cv.to_numpy()\n",
    "    yhat_nn_cv = yhat_nn_cv.reshape(1,-1)[0]\n",
    "    \n",
    "    #balanced accuracy\n",
    "    balanced_acc_nn = balanced_accuracy_score(y_val_nn_cv, yhat_nn_cv)\n",
    "    balanced_acc_list.append(balanced_acc_nn)\n",
    "    \n",
    "    #Kappa score - estimators agreement\n",
    "    kappa = cohen_kappa_score(y_val_nn_cv, yhat_nn_cv)\n",
    "    kappa_list.append(kappa)\n",
    "    \n",
    "    i+=1\n"
   ]
  },
  {
   "cell_type": "code",
   "execution_count": 267,
   "id": "f975228e",
   "metadata": {
    "ExecuteTime": {
     "end_time": "2022-10-27T09:11:09.182985Z",
     "start_time": "2022-10-27T09:11:09.153984Z"
    }
   },
   "outputs": [
    {
     "name": "stdout",
     "output_type": "stream",
     "text": [
      "Balanced Accuracy after 5 K-Folds CV is 0.09 ± 0.0004\n",
      "Kappa Score after 5 K-Folds CV is 0.0035 ± 0.0025\n"
     ]
    }
   ],
   "source": [
    "print('Balanced Accuracy after {} K-Folds CV is {} ± {}'.format(n_folds, np.round(np.mean(balanced_acc_list),2), \n",
    "                                                                         np.round(np.std(balanced_acc_list),4)))\n",
    "print('Kappa Score after {} K-Folds CV is {} ± {}'.format(n_folds, np.round(np.mean(kappa_list),4), \n",
    "                                                                         np.round(np.std(kappa_list),4)))"
   ]
  },
  {
   "cell_type": "code",
   "execution_count": null,
   "id": "e678976f",
   "metadata": {},
   "outputs": [],
   "source": []
  }
 ],
 "metadata": {
  "kernelspec": {
   "display_name": "Python 3 (ipykernel)",
   "language": "python",
   "name": "python3"
  },
  "language_info": {
   "codemirror_mode": {
    "name": "ipython",
    "version": 3
   },
   "file_extension": ".py",
   "mimetype": "text/x-python",
   "name": "python",
   "nbconvert_exporter": "python",
   "pygments_lexer": "ipython3",
   "version": "3.9.13"
  },
  "varInspector": {
   "cols": {
    "lenName": 16,
    "lenType": 16,
    "lenVar": 40
   },
   "kernels_config": {
    "python": {
     "delete_cmd_postfix": "",
     "delete_cmd_prefix": "del ",
     "library": "var_list.py",
     "varRefreshCmd": "print(var_dic_list())"
    },
    "r": {
     "delete_cmd_postfix": ") ",
     "delete_cmd_prefix": "rm(",
     "library": "var_list.r",
     "varRefreshCmd": "cat(var_dic_list()) "
    }
   },
   "types_to_exclude": [
    "module",
    "function",
    "builtin_function_or_method",
    "instance",
    "_Feature"
   ],
   "window_display": false
  }
 },
 "nbformat": 4,
 "nbformat_minor": 5
}
