{
 "cells": [
  {
   "cell_type": "markdown",
   "id": "a68ad190",
   "metadata": {},
   "source": [
    "# Business Problem"
   ]
  },
  {
   "cell_type": "markdown",
   "id": "120d8870",
   "metadata": {},
   "source": [
    "## A) Business Situation"
   ]
  },
  {
   "cell_type": "markdown",
   "id": "405c7af8",
   "metadata": {},
   "source": [
    "(Kaggle description) Instead of waking to overlooked \"Do not disturb\" signs, Airbnb travelers find themselves rising with the birds min a whimsical treehouse, having their morning coffee on the deck of a houseboat, or cooking a shared regional breakfast with their hosts. New users on Airbnb can book a place to stay in 34,000+ cities across 190+ countries. By accurately predicting where a new user will book their first travel experience, Airbnb can share more personalized content with their community, decrease the average time to first booking, and better forecast demand.\n",
    "\n",
    "    -- Business Problem (open question): What's the target destination for the 1st booking of new users?"
   ]
  },
  {
   "cell_type": "markdown",
   "id": "65eab2d9",
   "metadata": {},
   "source": [
    "## B) Business Understanding"
   ]
  },
  {
   "cell_type": "markdown",
   "id": "14ea2b5b",
   "metadata": {},
   "source": [
    "    -- Which business model Airbnb operates? \n",
    "        -- Marketplace - conect people which offer acomodation to people searching for it)\n",
    "            -- Supply (people offering accomodation)\n",
    "                -- Portfolio size\n",
    "                -- Portfolio density\n",
    "                -- Average price\n",
    "                \n",
    "            -- Demand (people seeking accomodation)\n",
    "                -- Users quantity\n",
    "                -- LTV (Lifetime value)\n",
    "                -- CAC (customer acquisition cost)\n",
    "            -- Gross Revenue = (Fee * Customer Qty) - CAC \n",
    "    \n",
    "    -- Objective: \n",
    "        -- Predict the destination choice for new users (1st booking)\n",
    "        -- Motivation: Antecipate new users choice in order to offer most assertive ads\n",
    "        -- Root Cause: Increase gross revenue (through cheaper CAC)\n",
    "        -- Scope (Closed afirmation)\n",
    "        -- Stakeholder: CFO/CEO"
   ]
  },
  {
   "cell_type": "markdown",
   "id": "17103a8a",
   "metadata": {},
   "source": [
    "#### Solution Planning"
   ]
  },
  {
   "cell_type": "markdown",
   "id": "c5c2e73f",
   "metadata": {},
   "source": [
    "Solution Overview:\n",
    "Kind problem: City destination prediction\n",
    "Potential methods: Classification\n",
    "Output: \n",
    "Steps:\n",
    "Inputs:\n",
    "    -- Solution proposal:\n",
    "        -- Machine Learning model in order to predict 1st AirBnB destination\n",
    "        -- API:\n",
    "            -- Input: user + characteristics\n",
    "            -- Output: user + characteristics + destination prediction\n",
    "\n"
   ]
  },
  {
   "cell_type": "markdown",
   "id": "29a10c4e",
   "metadata": {},
   "source": [
    "    -- C) Insights\n",
    "    -- D) Business Results\n",
    "    -- E) Conclusions (Objectives attained? Problem Solved?)\n",
    "    -- F) Next Steps\n",
    "    -- G) Lessons Learned\n"
   ]
  },
  {
   "cell_type": "markdown",
   "id": "944e012b",
   "metadata": {},
   "source": [
    "### Data Fields"
   ]
  },
  {
   "cell_type": "markdown",
   "id": "1d64c02f",
   "metadata": {},
   "source": [
    "Is given a list of users along with their demographics, web session records, and some summary statistics. You are asked to predict which country a new user's first booking destination will be. All the users in this dataset are from the USA. There are 12 possible outcomes of the destination country: 'US', 'FR', 'CA', 'GB', 'ES', 'IT', 'PT', 'NL','DE', 'AU', 'NDF' (no destination found), and 'other'. Please note that 'NDF' is different from 'other' because 'other' means there was a booking, but is to a country not included in the list, while 'NDF' means there wasn't a booking.\n",
    "\n",
    "File descriptions\n",
    "train_users.csv - the training set of users\n",
    "\n",
    "test_users.csv - the test set of users\n",
    "\n",
    "    -- id: user id\n",
    "    -- date_account_created: the date of account creation\n",
    "    --- timestamp_first_active: timestamp of the first activity, note that it can be earlier than date_account_created or date_first_booking because a user can search before signing up\n",
    "    -- date_first_booking: date of first booking\n",
    "    -- gender\n",
    "    -- age\n",
    "    -- signup_method\n",
    "    -- signup_flow: the page a user came to signup up from\n",
    "    -- language: international language preference\n",
    "    -- affiliate_channel: what kind of paid marketing\n",
    "    -- affiliate_provider: where the marketing is e.g. google, craigslist, other\n",
    "    -- first_affiliate_tracked: whats the first marketing the user interacted with before the signing up\n",
    "    -- signup_app\n",
    "    -- first_device_type\n",
    "    -- first_browser\n",
    "    -- country_destination: this is the target variable you are to predict\n",
    "\n",
    "sessions.csv - web sessions log for users\n",
    "    -- user_id: to be joined with the column 'id' in users table\n",
    "    -- action\n",
    "    -- action_type\n",
    "    -- action_detail\n",
    "    -- device_type\n",
    "    -- secs_elapsed\n",
    "\n",
    "countries.csv - summary statistics of destination countries in this dataset and their locations\n",
    "\n",
    "age_gender_bkts.csv - summary statistics of users' age group, gender, country of destination\n",
    "\n",
    "sample_submission.csv - correct format for submitting your predictions"
   ]
  },
  {
   "cell_type": "markdown",
   "id": "5aa592e3",
   "metadata": {},
   "source": [
    "# 0. Imports"
   ]
  },
  {
   "cell_type": "code",
   "execution_count": 31,
   "id": "aec3495e",
   "metadata": {
    "ExecuteTime": {
     "end_time": "2022-10-31T14:11:37.239022Z",
     "start_time": "2022-10-31T14:11:37.123698Z"
    }
   },
   "outputs": [],
   "source": [
    "import pandas as pd\n",
    "import numpy as np\n",
    "import seaborn as sns\n",
    "import random\n",
    "import warnings\n",
    "warnings.filterwarnings('ignore')\n",
    "\n",
    "from sklearn.model_selection import train_test_split, StratifiedKFold\n",
    "from sklearn.preprocessing   import OneHotEncoder\n",
    "from sklearn.metrics         import accuracy_score,balanced_accuracy_score, cohen_kappa_score, classification_report, ConfusionMatrixDisplay\n",
    "\n",
    "from keras import models as ml\n",
    "from keras import layers as l"
   ]
  },
  {
   "cell_type": "markdown",
   "id": "81111e1e",
   "metadata": {
    "ExecuteTime": {
     "end_time": "2022-10-24T11:06:03.335707Z",
     "start_time": "2022-10-24T11:06:03.327378Z"
    }
   },
   "source": [
    "### 0.1 Helper Functions"
   ]
  },
  {
   "cell_type": "code",
   "execution_count": 67,
   "id": "e947942a",
   "metadata": {
    "ExecuteTime": {
     "end_time": "2022-11-01T11:05:22.736637Z",
     "start_time": "2022-11-01T11:05:22.720641Z"
    }
   },
   "outputs": [],
   "source": [
    "def outlier_detection(data, column):\n",
    "    \n",
    "    q1 = np.percentile(data[column], 25)\n",
    "    q3 = np.percentile(data[column], 75)\n",
    "    \n",
    "    iqr = q3 - q1\n",
    "\n",
    "    lo_lim = q1 - 1.5*iqr\n",
    "    up_lim = q3 + 1.5*iqr\n",
    "    \n",
    "    outliers = [x for x in data[column] if (x > up_lim) | (x<lo_lim)]\n",
    "    \n",
    "    return sorted(outliers)"
   ]
  },
  {
   "cell_type": "markdown",
   "id": "97baffb6",
   "metadata": {},
   "source": [
    "### 0.2 Loading Data"
   ]
  },
  {
   "cell_type": "code",
   "execution_count": 32,
   "id": "3481fe87",
   "metadata": {
    "ExecuteTime": {
     "end_time": "2022-10-31T14:11:37.804936Z",
     "start_time": "2022-10-31T14:11:37.246258Z"
    }
   },
   "outputs": [
    {
     "name": "stdout",
     "output_type": "stream",
     "text": [
      "The train_users dataset contains 16 columns and 213451 rows\n"
     ]
    }
   ],
   "source": [
    "# in this case, we will proceed with 2 separated datasets and deal with issues then we will decide the granularity to merge\n",
    "df_raw = pd.read_csv('dataset/train_users.csv')\n",
    "df_raw.shape\n",
    "print('The train_users dataset contains {} columns and {} rows'.format(df_raw.shape[1], df_raw.shape[0]))"
   ]
  },
  {
   "cell_type": "code",
   "execution_count": 33,
   "id": "21fe5904",
   "metadata": {
    "ExecuteTime": {
     "end_time": "2022-10-31T14:11:44.111980Z",
     "start_time": "2022-10-31T14:11:37.806617Z"
    }
   },
   "outputs": [
    {
     "name": "stdout",
     "output_type": "stream",
     "text": [
      "The sessions dataset contains 6 columns and 10567737 rows\n"
     ]
    }
   ],
   "source": [
    "df_sessions = pd.read_csv('dataset/sessions.csv')\n",
    "df_sessions.shape\n",
    "print('The sessions dataset contains {} columns and {} rows'.format(df_sessions.shape[1], df_sessions.shape[0]))"
   ]
  },
  {
   "cell_type": "markdown",
   "id": "94f7997d",
   "metadata": {},
   "source": [
    "# 1. Data Description"
   ]
  },
  {
   "cell_type": "code",
   "execution_count": 34,
   "id": "8a5316b4",
   "metadata": {
    "ExecuteTime": {
     "end_time": "2022-10-31T14:11:45.993518Z",
     "start_time": "2022-10-31T14:11:44.115965Z"
    }
   },
   "outputs": [],
   "source": [
    "df1 = df_raw.copy()"
   ]
  },
  {
   "cell_type": "markdown",
   "id": "cf0a5989",
   "metadata": {},
   "source": [
    "## 1.1 NAs Check "
   ]
  },
  {
   "cell_type": "code",
   "execution_count": 35,
   "id": "aefd47f4",
   "metadata": {
    "ExecuteTime": {
     "end_time": "2022-10-31T14:11:46.322194Z",
     "start_time": "2022-10-31T14:11:45.999955Z"
    }
   },
   "outputs": [
    {
     "data": {
      "text/plain": [
       "id                         0.000000\n",
       "date_account_created       0.000000\n",
       "timestamp_first_active     0.000000\n",
       "date_first_booking         0.583473\n",
       "gender                     0.000000\n",
       "age                        0.412226\n",
       "signup_method              0.000000\n",
       "signup_flow                0.000000\n",
       "language                   0.000000\n",
       "affiliate_channel          0.000000\n",
       "affiliate_provider         0.000000\n",
       "first_affiliate_tracked    0.028414\n",
       "signup_app                 0.000000\n",
       "first_device_type          0.000000\n",
       "first_browser              0.000000\n",
       "country_destination        0.000000\n",
       "dtype: float64"
      ]
     },
     "execution_count": 35,
     "metadata": {},
     "output_type": "execute_result"
    }
   ],
   "source": [
    "#users dataset\n",
    "df1.isna().sum() / df1.shape[0]"
   ]
  },
  {
   "cell_type": "code",
   "execution_count": 86,
   "id": "3d8d4dce",
   "metadata": {
    "ExecuteTime": {
     "end_time": "2022-11-01T11:29:41.599597Z",
     "start_time": "2022-11-01T11:29:35.890808Z"
    }
   },
   "outputs": [
    {
     "data": {
      "text/plain": [
       "user_id          0.0\n",
       "action           0.0\n",
       "action_type      0.0\n",
       "action_detail    0.0\n",
       "device_type      0.0\n",
       "secs_elapsed     0.0\n",
       "dtype: float64"
      ]
     },
     "execution_count": 86,
     "metadata": {},
     "output_type": "execute_result"
    }
   ],
   "source": [
    "#sessions dataset\n",
    "df_sessions.isna().sum()/df_sessions.shape[0]"
   ]
  },
  {
   "cell_type": "markdown",
   "id": "337454ae",
   "metadata": {},
   "source": [
    "### 1.1.1 Dealing NAs"
   ]
  },
  {
   "cell_type": "code",
   "execution_count": 38,
   "id": "1dc90ffc",
   "metadata": {
    "ExecuteTime": {
     "end_time": "2022-10-31T14:11:46.523075Z",
     "start_time": "2022-10-31T14:11:46.461190Z"
    }
   },
   "outputs": [],
   "source": [
    "# =================== USERS DATASET ==================\n",
    "\n",
    "#date_first_booking - 58% NAs - 100% in 'NDF' => solution: business knowledge (assumption)\n",
    "max_date_1st_booking = pd.to_datetime(df1['date_first_booking']).max().strftime('%Y-%m-%d')\n",
    "df1['date_first_booking'].fillna(max_date_1st_booking, inplace=True)\n",
    "\n",
    "#age - 42% NAs in many classes - data normaly distributed => solution: input stastics (mean)\n",
    "avg_age = df1['age'].mean()\n",
    "df1['age'].fillna(avg_age, inplace=True)\n",
    "\n",
    "#first_affiliate tracked - 2% NAs => solution: categorical data, 2% drop\n",
    "df1 = df1[~df1['first_affiliate_tracked'].isna()]\n",
    "\n",
    "# =================== SESSIONS DATASET ==================\n",
    "#user_id - 0,3% NAs\n",
    "df_sessions = df_sessions[~df_sessions['user_id'].isna()]\n",
    "\n",
    "#action - 0,7% NAs => 100% NA are 'message_post'\n",
    "df_sessions = df_sessions[~df_sessions['action'].isna()]\n",
    "\n",
    "#action_type / action_detail - 10,6% NAs each\n",
    "df_sessions = df_sessions[~df_sessions['action_type'].isna()]\n",
    "df_sessions = df_sessions[~df_sessions['action_detail'].isna()]\n",
    "\n",
    "#secs_elapsed - 1,2% NAs\n",
    "df_sessions = df_sessions[~df_sessions['secs_elapsed'].isna()]"
   ]
  },
  {
   "cell_type": "code",
   "execution_count": 39,
   "id": "4bf3990c",
   "metadata": {
    "ExecuteTime": {
     "end_time": "2022-10-31T14:11:46.749311Z",
     "start_time": "2022-10-31T14:11:46.529569Z"
    }
   },
   "outputs": [
    {
     "data": {
      "text/plain": [
       "id                         0.0\n",
       "date_account_created       0.0\n",
       "timestamp_first_active     0.0\n",
       "date_first_booking         0.0\n",
       "gender                     0.0\n",
       "age                        0.0\n",
       "signup_method              0.0\n",
       "signup_flow                0.0\n",
       "language                   0.0\n",
       "affiliate_channel          0.0\n",
       "affiliate_provider         0.0\n",
       "first_affiliate_tracked    0.0\n",
       "signup_app                 0.0\n",
       "first_device_type          0.0\n",
       "first_browser              0.0\n",
       "country_destination        0.0\n",
       "dtype: float64"
      ]
     },
     "execution_count": 39,
     "metadata": {},
     "output_type": "execute_result"
    }
   ],
   "source": [
    "#users dataset NAs treatment done\n",
    "df1.isna().sum() / df1.shape[0]"
   ]
  },
  {
   "cell_type": "code",
   "execution_count": 42,
   "id": "23d57e8a",
   "metadata": {
    "ExecuteTime": {
     "end_time": "2022-10-31T14:12:00.522570Z",
     "start_time": "2022-10-31T14:11:57.087726Z"
    }
   },
   "outputs": [
    {
     "data": {
      "text/plain": [
       "user_id          0.0\n",
       "action           0.0\n",
       "action_type      0.0\n",
       "action_detail    0.0\n",
       "device_type      0.0\n",
       "secs_elapsed     0.0\n",
       "dtype: float64"
      ]
     },
     "execution_count": 42,
     "metadata": {},
     "output_type": "execute_result"
    }
   ],
   "source": [
    "#sessions dataset NAs treatment done\n",
    "df_sessions.isna().sum()/df_sessions.shape[0]"
   ]
  },
  {
   "cell_type": "markdown",
   "id": "c8f4ed30",
   "metadata": {},
   "source": [
    "## 1.2 Data Type"
   ]
  },
  {
   "cell_type": "code",
   "execution_count": 43,
   "id": "9390b009",
   "metadata": {
    "ExecuteTime": {
     "end_time": "2022-10-31T14:12:00.560262Z",
     "start_time": "2022-10-31T14:12:00.525231Z"
    }
   },
   "outputs": [
    {
     "data": {
      "text/plain": [
       "id                          object\n",
       "date_account_created        object\n",
       "timestamp_first_active       int64\n",
       "date_first_booking          object\n",
       "gender                      object\n",
       "age                        float64\n",
       "signup_method               object\n",
       "signup_flow                  int64\n",
       "language                    object\n",
       "affiliate_channel           object\n",
       "affiliate_provider          object\n",
       "first_affiliate_tracked     object\n",
       "signup_app                  object\n",
       "first_device_type           object\n",
       "first_browser               object\n",
       "country_destination         object\n",
       "dtype: object"
      ]
     },
     "execution_count": 43,
     "metadata": {},
     "output_type": "execute_result"
    }
   ],
   "source": [
    "df1.dtypes"
   ]
  },
  {
   "cell_type": "markdown",
   "id": "b0cd0913",
   "metadata": {},
   "source": [
    "### 1.2.1 Change Data Types "
   ]
  },
  {
   "cell_type": "code",
   "execution_count": 44,
   "id": "5122c581",
   "metadata": {
    "ExecuteTime": {
     "end_time": "2022-10-31T14:12:01.154238Z",
     "start_time": "2022-10-31T14:12:00.561759Z"
    }
   },
   "outputs": [],
   "source": [
    "#date_account_created\n",
    "df1['date_account_created'] = pd.to_datetime(df1['date_account_created'])\n",
    "#timestamp_first_active\n",
    "df1['timestamp_first_active'] = pd.to_datetime(df1['timestamp_first_active'], format='%Y%m%d%H%M%S')\n",
    "#date_first_booking\n",
    "df1['date_first_booking'] = pd.to_datetime(df1['date_first_booking'])\n",
    "#age\n",
    "df1['age'] = df1['age'].astype(int)"
   ]
  },
  {
   "cell_type": "code",
   "execution_count": 45,
   "id": "f3c5b6c6",
   "metadata": {
    "ExecuteTime": {
     "end_time": "2022-10-31T14:12:01.174979Z",
     "start_time": "2022-10-31T14:12:01.154238Z"
    }
   },
   "outputs": [
    {
     "data": {
      "text/plain": [
       "id                                 object\n",
       "date_account_created       datetime64[ns]\n",
       "timestamp_first_active     datetime64[ns]\n",
       "date_first_booking         datetime64[ns]\n",
       "gender                             object\n",
       "age                                 int32\n",
       "signup_method                      object\n",
       "signup_flow                         int64\n",
       "language                           object\n",
       "affiliate_channel                  object\n",
       "affiliate_provider                 object\n",
       "first_affiliate_tracked            object\n",
       "signup_app                         object\n",
       "first_device_type                  object\n",
       "first_browser                      object\n",
       "country_destination                object\n",
       "dtype: object"
      ]
     },
     "execution_count": 45,
     "metadata": {},
     "output_type": "execute_result"
    }
   ],
   "source": [
    "df1.dtypes"
   ]
  },
  {
   "cell_type": "markdown",
   "id": "81db9f86",
   "metadata": {},
   "source": [
    "## 1.3 Check balanced data"
   ]
  },
  {
   "cell_type": "code",
   "execution_count": 46,
   "id": "91bfb44f",
   "metadata": {
    "ExecuteTime": {
     "end_time": "2022-10-31T14:12:01.210805Z",
     "start_time": "2022-10-31T14:12:01.177168Z"
    }
   },
   "outputs": [
    {
     "data": {
      "text/plain": [
       "NDF      0.579673\n",
       "US       0.294461\n",
       "other    0.048128\n",
       "FR       0.023623\n",
       "IT       0.013458\n",
       "GB       0.011066\n",
       "ES       0.010671\n",
       "CA       0.006707\n",
       "DE       0.005020\n",
       "NL       0.003621\n",
       "AU       0.002541\n",
       "PT       0.001032\n",
       "Name: country_destination, dtype: float64"
      ]
     },
     "execution_count": 46,
     "metadata": {},
     "output_type": "execute_result"
    }
   ],
   "source": [
    "df1['country_destination'].value_counts(normalize=True)"
   ]
  },
  {
   "cell_type": "markdown",
   "id": "310e6466",
   "metadata": {},
   "source": [
    "## 1.4 Descriptive Statistics"
   ]
  },
  {
   "cell_type": "markdown",
   "id": "5d020d32",
   "metadata": {},
   "source": [
    "### 1.4.1 Users "
   ]
  },
  {
   "cell_type": "code",
   "execution_count": 47,
   "id": "32426432",
   "metadata": {
    "ExecuteTime": {
     "end_time": "2022-10-31T14:12:03.627339Z",
     "start_time": "2022-10-31T14:12:01.210805Z"
    }
   },
   "outputs": [],
   "source": [
    "num_att_users= df1.select_dtypes(include=['int32','int64','float64'])\n",
    "\n",
    "cat_att_users = df1.select_dtypes(exclude=['int32','int64','float64','datetime64[ns]'])\n",
    "\n",
    "time_att_users = df1.select_dtypes(include=['datetime64[ns]'])"
   ]
  },
  {
   "cell_type": "code",
   "execution_count": 48,
   "id": "b930c4ca",
   "metadata": {
    "ExecuteTime": {
     "end_time": "2022-10-31T14:12:03.712645Z",
     "start_time": "2022-10-31T14:12:03.627339Z"
    }
   },
   "outputs": [
    {
     "data": {
      "text/html": [
       "<div>\n",
       "<style scoped>\n",
       "    .dataframe tbody tr th:only-of-type {\n",
       "        vertical-align: middle;\n",
       "    }\n",
       "\n",
       "    .dataframe tbody tr th {\n",
       "        vertical-align: top;\n",
       "    }\n",
       "\n",
       "    .dataframe thead th {\n",
       "        text-align: right;\n",
       "    }\n",
       "</style>\n",
       "<table border=\"1\" class=\"dataframe\">\n",
       "  <thead>\n",
       "    <tr style=\"text-align: right;\">\n",
       "      <th></th>\n",
       "      <th>features</th>\n",
       "      <th>mean</th>\n",
       "      <th>median</th>\n",
       "      <th>std</th>\n",
       "      <th>min</th>\n",
       "      <th>max</th>\n",
       "      <th>skew</th>\n",
       "      <th>kurtosis</th>\n",
       "    </tr>\n",
       "  </thead>\n",
       "  <tbody>\n",
       "    <tr>\n",
       "      <th>0</th>\n",
       "      <td>age</td>\n",
       "      <td>49.183142</td>\n",
       "      <td>49.0</td>\n",
       "      <td>118.421975</td>\n",
       "      <td>1.0</td>\n",
       "      <td>2014.0</td>\n",
       "      <td>16.333820</td>\n",
       "      <td>267.655434</td>\n",
       "    </tr>\n",
       "    <tr>\n",
       "      <th>1</th>\n",
       "      <td>signup_flow</td>\n",
       "      <td>3.151490</td>\n",
       "      <td>0.0</td>\n",
       "      <td>7.543933</td>\n",
       "      <td>0.0</td>\n",
       "      <td>25.0</td>\n",
       "      <td>2.287158</td>\n",
       "      <td>3.567794</td>\n",
       "    </tr>\n",
       "  </tbody>\n",
       "</table>\n",
       "</div>"
      ],
      "text/plain": [
       "      features       mean  median         std  min     max       skew  \\\n",
       "0          age  49.183142    49.0  118.421975  1.0  2014.0  16.333820   \n",
       "1  signup_flow   3.151490     0.0    7.543933  0.0    25.0   2.287158   \n",
       "\n",
       "     kurtosis  \n",
       "0  267.655434  \n",
       "1    3.567794  "
      ]
     },
     "execution_count": 48,
     "metadata": {},
     "output_type": "execute_result"
    }
   ],
   "source": [
    "num_att_users.agg([\"mean\",\"median\",\"std\",\"min\",\"max\",\"skew\",\"kurtosis\"]).T.reset_index().rename(columns= {'index' : 'features'})"
   ]
  },
  {
   "cell_type": "code",
   "execution_count": 49,
   "id": "92965f40",
   "metadata": {
    "ExecuteTime": {
     "end_time": "2022-10-31T14:12:03.894406Z",
     "start_time": "2022-10-31T14:12:03.714639Z"
    }
   },
   "outputs": [
    {
     "data": {
      "text/html": [
       "<div>\n",
       "<style scoped>\n",
       "    .dataframe tbody tr th:only-of-type {\n",
       "        vertical-align: middle;\n",
       "    }\n",
       "\n",
       "    .dataframe tbody tr th {\n",
       "        vertical-align: top;\n",
       "    }\n",
       "\n",
       "    .dataframe thead th {\n",
       "        text-align: right;\n",
       "    }\n",
       "</style>\n",
       "<table border=\"1\" class=\"dataframe\">\n",
       "  <thead>\n",
       "    <tr style=\"text-align: right;\">\n",
       "      <th></th>\n",
       "      <th>features</th>\n",
       "      <th>count</th>\n",
       "      <th>unique</th>\n",
       "    </tr>\n",
       "  </thead>\n",
       "  <tbody>\n",
       "    <tr>\n",
       "      <th>0</th>\n",
       "      <td>id</td>\n",
       "      <td>207386</td>\n",
       "      <td>[gxn3p5htnn, 820tgsjxq7, 4ft3gnwmtx, bjjt8pjhu...</td>\n",
       "    </tr>\n",
       "    <tr>\n",
       "      <th>1</th>\n",
       "      <td>gender</td>\n",
       "      <td>207386</td>\n",
       "      <td>[-unknown-, MALE, FEMALE, OTHER]</td>\n",
       "    </tr>\n",
       "    <tr>\n",
       "      <th>2</th>\n",
       "      <td>signup_method</td>\n",
       "      <td>207386</td>\n",
       "      <td>[facebook, basic, google]</td>\n",
       "    </tr>\n",
       "    <tr>\n",
       "      <th>3</th>\n",
       "      <td>language</td>\n",
       "      <td>207386</td>\n",
       "      <td>[en, fr, de, es, pt, zh, ko, ja, it, ru, pl, e...</td>\n",
       "    </tr>\n",
       "    <tr>\n",
       "      <th>4</th>\n",
       "      <td>affiliate_channel</td>\n",
       "      <td>207386</td>\n",
       "      <td>[direct, seo, other, sem-non-brand, content, s...</td>\n",
       "    </tr>\n",
       "    <tr>\n",
       "      <th>5</th>\n",
       "      <td>affiliate_provider</td>\n",
       "      <td>207386</td>\n",
       "      <td>[direct, google, other, craigslist, facebook, ...</td>\n",
       "    </tr>\n",
       "    <tr>\n",
       "      <th>6</th>\n",
       "      <td>first_affiliate_tracked</td>\n",
       "      <td>207386</td>\n",
       "      <td>[untracked, omg, linked, tracked-other, produc...</td>\n",
       "    </tr>\n",
       "    <tr>\n",
       "      <th>7</th>\n",
       "      <td>signup_app</td>\n",
       "      <td>207386</td>\n",
       "      <td>[Web, Moweb, iOS, Android]</td>\n",
       "    </tr>\n",
       "    <tr>\n",
       "      <th>8</th>\n",
       "      <td>first_device_type</td>\n",
       "      <td>207386</td>\n",
       "      <td>[Mac Desktop, Windows Desktop, iPhone, Other/U...</td>\n",
       "    </tr>\n",
       "    <tr>\n",
       "      <th>9</th>\n",
       "      <td>first_browser</td>\n",
       "      <td>207386</td>\n",
       "      <td>[Chrome, IE, Firefox, Safari, -unknown-, Mobil...</td>\n",
       "    </tr>\n",
       "    <tr>\n",
       "      <th>10</th>\n",
       "      <td>country_destination</td>\n",
       "      <td>207386</td>\n",
       "      <td>[NDF, US, other, CA, FR, ES, GB, IT, PT, NL, D...</td>\n",
       "    </tr>\n",
       "  </tbody>\n",
       "</table>\n",
       "</div>"
      ],
      "text/plain": [
       "                   features   count  \\\n",
       "0                        id  207386   \n",
       "1                    gender  207386   \n",
       "2             signup_method  207386   \n",
       "3                  language  207386   \n",
       "4         affiliate_channel  207386   \n",
       "5        affiliate_provider  207386   \n",
       "6   first_affiliate_tracked  207386   \n",
       "7                signup_app  207386   \n",
       "8         first_device_type  207386   \n",
       "9             first_browser  207386   \n",
       "10      country_destination  207386   \n",
       "\n",
       "                                               unique  \n",
       "0   [gxn3p5htnn, 820tgsjxq7, 4ft3gnwmtx, bjjt8pjhu...  \n",
       "1                    [-unknown-, MALE, FEMALE, OTHER]  \n",
       "2                           [facebook, basic, google]  \n",
       "3   [en, fr, de, es, pt, zh, ko, ja, it, ru, pl, e...  \n",
       "4   [direct, seo, other, sem-non-brand, content, s...  \n",
       "5   [direct, google, other, craigslist, facebook, ...  \n",
       "6   [untracked, omg, linked, tracked-other, produc...  \n",
       "7                          [Web, Moweb, iOS, Android]  \n",
       "8   [Mac Desktop, Windows Desktop, iPhone, Other/U...  \n",
       "9   [Chrome, IE, Firefox, Safari, -unknown-, Mobil...  \n",
       "10  [NDF, US, other, CA, FR, ES, GB, IT, PT, NL, D...  "
      ]
     },
     "execution_count": 49,
     "metadata": {},
     "output_type": "execute_result"
    }
   ],
   "source": [
    "cat_att_users.agg(['count','unique']).T.reset_index().rename(columns= {'index' : 'features'})"
   ]
  },
  {
   "cell_type": "code",
   "execution_count": 50,
   "id": "f71b5528",
   "metadata": {
    "ExecuteTime": {
     "end_time": "2022-10-31T14:12:03.972274Z",
     "start_time": "2022-10-31T14:12:03.894406Z"
    }
   },
   "outputs": [
    {
     "data": {
      "text/html": [
       "<div>\n",
       "<style scoped>\n",
       "    .dataframe tbody tr th:only-of-type {\n",
       "        vertical-align: middle;\n",
       "    }\n",
       "\n",
       "    .dataframe tbody tr th {\n",
       "        vertical-align: top;\n",
       "    }\n",
       "\n",
       "    .dataframe thead th {\n",
       "        text-align: right;\n",
       "    }\n",
       "</style>\n",
       "<table border=\"1\" class=\"dataframe\">\n",
       "  <thead>\n",
       "    <tr style=\"text-align: right;\">\n",
       "      <th></th>\n",
       "      <th>features</th>\n",
       "      <th>mean</th>\n",
       "      <th>median</th>\n",
       "      <th>std</th>\n",
       "      <th>min</th>\n",
       "      <th>max</th>\n",
       "    </tr>\n",
       "  </thead>\n",
       "  <tbody>\n",
       "    <tr>\n",
       "      <th>0</th>\n",
       "      <td>date_account_created</td>\n",
       "      <td>2013-07-08 23:03:33.341305600</td>\n",
       "      <td>2013-09-18 00:00:00.000</td>\n",
       "      <td>298 days 07:17:41.817145164</td>\n",
       "      <td>2010-01-01 00:00:00</td>\n",
       "      <td>2014-06-30 00:00:00</td>\n",
       "    </tr>\n",
       "    <tr>\n",
       "      <th>1</th>\n",
       "      <td>timestamp_first_active</td>\n",
       "      <td>2013-07-09 06:08:47.197284096</td>\n",
       "      <td>2013-09-17 22:53:46.500</td>\n",
       "      <td>298 days 13:27:04.683800528</td>\n",
       "      <td>2009-03-19 04:32:55</td>\n",
       "      <td>2014-06-30 23:58:24</td>\n",
       "    </tr>\n",
       "    <tr>\n",
       "      <th>2</th>\n",
       "      <td>date_first_booking</td>\n",
       "      <td>2014-09-03 16:12:07.269921792</td>\n",
       "      <td>2015-06-29 00:00:00.000</td>\n",
       "      <td>412 days 04:02:04.860974400</td>\n",
       "      <td>2010-01-02 00:00:00</td>\n",
       "      <td>2015-06-29 00:00:00</td>\n",
       "    </tr>\n",
       "  </tbody>\n",
       "</table>\n",
       "</div>"
      ],
      "text/plain": [
       "                 features                          mean  \\\n",
       "0    date_account_created 2013-07-08 23:03:33.341305600   \n",
       "1  timestamp_first_active 2013-07-09 06:08:47.197284096   \n",
       "2      date_first_booking 2014-09-03 16:12:07.269921792   \n",
       "\n",
       "                   median                         std                 min  \\\n",
       "0 2013-09-18 00:00:00.000 298 days 07:17:41.817145164 2010-01-01 00:00:00   \n",
       "1 2013-09-17 22:53:46.500 298 days 13:27:04.683800528 2009-03-19 04:32:55   \n",
       "2 2015-06-29 00:00:00.000 412 days 04:02:04.860974400 2010-01-02 00:00:00   \n",
       "\n",
       "                  max  \n",
       "0 2014-06-30 00:00:00  \n",
       "1 2014-06-30 23:58:24  \n",
       "2 2015-06-29 00:00:00  "
      ]
     },
     "execution_count": 50,
     "metadata": {},
     "output_type": "execute_result"
    }
   ],
   "source": [
    "time_att_users.agg([\"mean\",\"median\",\"std\",\"min\",\"max\"]).T.reset_index().rename(columns= {'index' : 'features'})"
   ]
  },
  {
   "cell_type": "markdown",
   "id": "7a64550b",
   "metadata": {},
   "source": [
    "### 1.4.2 Sessions "
   ]
  },
  {
   "cell_type": "code",
   "execution_count": 63,
   "id": "825debdc",
   "metadata": {
    "ExecuteTime": {
     "end_time": "2022-11-01T10:52:29.046939Z",
     "start_time": "2022-11-01T10:52:28.218168Z"
    }
   },
   "outputs": [],
   "source": [
    "num_att_sessions= df_sessions.select_dtypes(include=['int32','int64','float64'])\n",
    "\n",
    "cat_att_sessions = df_sessions.select_dtypes(exclude=['int32','int64','float64','datetime64[ns]'])\n",
    "\n",
    "time_att_sessions = df_sessions.select_dtypes(include=['datetime64[ns]'])"
   ]
  },
  {
   "cell_type": "code",
   "execution_count": 64,
   "id": "0ee82943",
   "metadata": {
    "ExecuteTime": {
     "end_time": "2022-11-01T10:54:55.116941Z",
     "start_time": "2022-11-01T10:54:54.281873Z"
    }
   },
   "outputs": [
    {
     "data": {
      "text/html": [
       "<div>\n",
       "<style scoped>\n",
       "    .dataframe tbody tr th:only-of-type {\n",
       "        vertical-align: middle;\n",
       "    }\n",
       "\n",
       "    .dataframe tbody tr th {\n",
       "        vertical-align: top;\n",
       "    }\n",
       "\n",
       "    .dataframe thead th {\n",
       "        text-align: right;\n",
       "    }\n",
       "</style>\n",
       "<table border=\"1\" class=\"dataframe\">\n",
       "  <thead>\n",
       "    <tr style=\"text-align: right;\">\n",
       "      <th></th>\n",
       "      <th>features</th>\n",
       "      <th>mean</th>\n",
       "      <th>median</th>\n",
       "      <th>std</th>\n",
       "      <th>min</th>\n",
       "      <th>max</th>\n",
       "      <th>skew</th>\n",
       "      <th>kurtosis</th>\n",
       "    </tr>\n",
       "  </thead>\n",
       "  <tbody>\n",
       "    <tr>\n",
       "      <th>0</th>\n",
       "      <td>secs_elapsed</td>\n",
       "      <td>19961.8251</td>\n",
       "      <td>1369.0</td>\n",
       "      <td>88849.39327</td>\n",
       "      <td>0.0</td>\n",
       "      <td>1799977.0</td>\n",
       "      <td>11.137761</td>\n",
       "      <td>154.84312</td>\n",
       "    </tr>\n",
       "  </tbody>\n",
       "</table>\n",
       "</div>"
      ],
      "text/plain": [
       "       features        mean  median          std  min        max       skew  \\\n",
       "0  secs_elapsed  19961.8251  1369.0  88849.39327  0.0  1799977.0  11.137761   \n",
       "\n",
       "    kurtosis  \n",
       "0  154.84312  "
      ]
     },
     "execution_count": 64,
     "metadata": {},
     "output_type": "execute_result"
    }
   ],
   "source": [
    "num_att_sessions.agg([\"mean\",\"median\",\"std\",\"min\",\"max\",\"skew\",\"kurtosis\"]).T.reset_index().rename(columns= {'index' : 'features'})"
   ]
  },
  {
   "cell_type": "code",
   "execution_count": 65,
   "id": "fd1b9f1d",
   "metadata": {
    "ExecuteTime": {
     "end_time": "2022-11-01T10:55:01.166306Z",
     "start_time": "2022-11-01T10:54:56.927480Z"
    }
   },
   "outputs": [
    {
     "data": {
      "text/html": [
       "<div>\n",
       "<style scoped>\n",
       "    .dataframe tbody tr th:only-of-type {\n",
       "        vertical-align: middle;\n",
       "    }\n",
       "\n",
       "    .dataframe tbody tr th {\n",
       "        vertical-align: top;\n",
       "    }\n",
       "\n",
       "    .dataframe thead th {\n",
       "        text-align: right;\n",
       "    }\n",
       "</style>\n",
       "<table border=\"1\" class=\"dataframe\">\n",
       "  <thead>\n",
       "    <tr style=\"text-align: right;\">\n",
       "      <th></th>\n",
       "      <th>features</th>\n",
       "      <th>count</th>\n",
       "      <th>unique</th>\n",
       "    </tr>\n",
       "  </thead>\n",
       "  <tbody>\n",
       "    <tr>\n",
       "      <th>0</th>\n",
       "      <td>user_id</td>\n",
       "      <td>9213930</td>\n",
       "      <td>[d1mm9tcy42, yo8nz8bqcq, 4grx6yxeby, ncf87guaf...</td>\n",
       "    </tr>\n",
       "    <tr>\n",
       "      <th>1</th>\n",
       "      <td>action</td>\n",
       "      <td>9213930</td>\n",
       "      <td>[search_results, personalize, index, similar_l...</td>\n",
       "    </tr>\n",
       "    <tr>\n",
       "      <th>2</th>\n",
       "      <td>action_type</td>\n",
       "      <td>9213930</td>\n",
       "      <td>[click, data, view, submit, -unknown-, booking...</td>\n",
       "    </tr>\n",
       "    <tr>\n",
       "      <th>3</th>\n",
       "      <td>action_detail</td>\n",
       "      <td>9213930</td>\n",
       "      <td>[view_search_results, wishlist_content_update,...</td>\n",
       "    </tr>\n",
       "    <tr>\n",
       "      <th>4</th>\n",
       "      <td>device_type</td>\n",
       "      <td>9213930</td>\n",
       "      <td>[Windows Desktop, -unknown-, Mac Desktop, Andr...</td>\n",
       "    </tr>\n",
       "  </tbody>\n",
       "</table>\n",
       "</div>"
      ],
      "text/plain": [
       "        features    count                                             unique\n",
       "0        user_id  9213930  [d1mm9tcy42, yo8nz8bqcq, 4grx6yxeby, ncf87guaf...\n",
       "1         action  9213930  [search_results, personalize, index, similar_l...\n",
       "2    action_type  9213930  [click, data, view, submit, -unknown-, booking...\n",
       "3  action_detail  9213930  [view_search_results, wishlist_content_update,...\n",
       "4    device_type  9213930  [Windows Desktop, -unknown-, Mac Desktop, Andr..."
      ]
     },
     "execution_count": 65,
     "metadata": {},
     "output_type": "execute_result"
    }
   ],
   "source": [
    "cat_att_sessions.agg(['count','unique']).T.reset_index().rename(columns= {'index' : 'features'})"
   ]
  },
  {
   "cell_type": "markdown",
   "id": "c01233fd",
   "metadata": {},
   "source": [
    "# 2.0 Data Filtering - Business knowledge"
   ]
  },
  {
   "cell_type": "code",
   "execution_count": 51,
   "id": "aa078025",
   "metadata": {
    "ExecuteTime": {
     "end_time": "2022-10-31T14:12:04.028362Z",
     "start_time": "2022-10-31T14:12:03.974542Z"
    }
   },
   "outputs": [],
   "source": [
    "#Filtering based on business assumptions and rules\n",
    "df2 = df1.copy()"
   ]
  },
  {
   "cell_type": "markdown",
   "id": "55327243",
   "metadata": {},
   "source": [
    "## Rows filtering"
   ]
  },
  {
   "cell_type": "code",
   "execution_count": 70,
   "id": "a4d3470e",
   "metadata": {
    "ExecuteTime": {
     "end_time": "2022-11-01T11:07:07.114401Z",
     "start_time": "2022-11-01T11:07:07.048092Z"
    }
   },
   "outputs": [],
   "source": [
    "#outliers on age\n",
    "outliers_age = outlier_detection(df1,'age')"
   ]
  },
  {
   "cell_type": "code",
   "execution_count": 84,
   "id": "e4721802",
   "metadata": {
    "ExecuteTime": {
     "end_time": "2022-11-01T11:11:40.021164Z",
     "start_time": "2022-11-01T11:11:37.217588Z"
    }
   },
   "outputs": [
    {
     "data": {
      "text/plain": [
       "<seaborn.axisgrid.FacetGrid at 0x20f426efdf0>"
      ]
     },
     "execution_count": 84,
     "metadata": {},
     "output_type": "execute_result"
    },
    {
     "data": {
      "image/png": "[encoded data removed]",
      "text/plain": [
       "<Figure size 500x500 with 1 Axes>"
      ]
     },
     "metadata": {},
     "output_type": "display_data"
    }
   ],
   "source": [
    "sns.displot(outliers_age)"
   ]
  },
  {
   "cell_type": "markdown",
   "id": "dd46ec0f",
   "metadata": {},
   "source": [
    "## Columns selection"
   ]
  },
  {
   "cell_type": "markdown",
   "id": "826ada4c",
   "metadata": {},
   "source": [
    "# 3.0 Data Preparation"
   ]
  },
  {
   "cell_type": "code",
   "execution_count": 52,
   "id": "dbcadc36",
   "metadata": {
    "ExecuteTime": {
     "end_time": "2022-10-31T14:12:04.077154Z",
     "start_time": "2022-10-31T14:12:04.030355Z"
    }
   },
   "outputs": [],
   "source": [
    "#split dataset training/validation\n",
    "X = df2.drop(columns='country_destination')\n",
    "y = df2['country_destination'].copy()"
   ]
  },
  {
   "cell_type": "code",
   "execution_count": 53,
   "id": "cdf0c4fe",
   "metadata": {
    "ExecuteTime": {
     "end_time": "2022-10-31T14:12:04.344917Z",
     "start_time": "2022-10-31T14:12:04.079186Z"
    }
   },
   "outputs": [],
   "source": [
    "X.drop(columns='id',axis=1, inplace=True)\n",
    "\n",
    "aux= pd.get_dummies(X)\n",
    "\n",
    "X = pd.concat([df2['id'],aux],axis=1)"
   ]
  },
  {
   "cell_type": "code",
   "execution_count": 54,
   "id": "8cd42053",
   "metadata": {
    "ExecuteTime": {
     "end_time": "2022-10-31T14:12:04.520698Z",
     "start_time": "2022-10-31T14:12:04.347832Z"
    }
   },
   "outputs": [],
   "source": [
    "X_train, X_val, y_train, y_val = train_test_split(X,y, test_size=0.2, random_state=32)"
   ]
  },
  {
   "cell_type": "markdown",
   "id": "0b0847de",
   "metadata": {},
   "source": [
    "# 4.0 Feature Selection"
   ]
  },
  {
   "cell_type": "code",
   "execution_count": 55,
   "id": "3c65128d",
   "metadata": {
    "ExecuteTime": {
     "end_time": "2022-10-31T14:12:04.562020Z",
     "start_time": "2022-10-31T14:12:04.522690Z"
    }
   },
   "outputs": [],
   "source": [
    "cols_drop = ['id','date_account_created', 'timestamp_first_active', 'date_first_booking']\n",
    "X_train = X_train.drop(cols_drop, axis=1)\n",
    "X_val = X_val.drop(cols_drop, axis=1)"
   ]
  },
  {
   "cell_type": "markdown",
   "id": "7e94bc73",
   "metadata": {},
   "source": [
    "# 5.0 ML Modeling"
   ]
  },
  {
   "cell_type": "markdown",
   "id": "110b20bd",
   "metadata": {
    "heading_collapsed": true
   },
   "source": [
    "### Baseline Model"
   ]
  },
  {
   "cell_type": "code",
   "execution_count": 56,
   "id": "f0796828",
   "metadata": {
    "ExecuteTime": {
     "end_time": "2022-10-31T14:12:04.579738Z",
     "start_time": "2022-10-31T14:12:04.563942Z"
    },
    "hidden": true
   },
   "outputs": [
    {
     "data": {
      "text/plain": [
       "[0.002541155140655589,\n",
       " 0.006707299431977086,\n",
       " 0.005019625239890832,\n",
       " 0.010670922820248233,\n",
       " 0.02362261676294446,\n",
       " 0.011066320773822727,\n",
       " 0.013457996200322104,\n",
       " 0.5796726876452605,\n",
       " 0.003621266623590792,\n",
       " 0.001031892220304167,\n",
       " 0.2944605711089466,\n",
       " 0.048127646032036876]"
      ]
     },
     "execution_count": 56,
     "metadata": {},
     "output_type": "execute_result"
    }
   ],
   "source": [
    "df2['country_destination'].value_counts(normalize=True).sort_index().to_list()"
   ]
  },
  {
   "cell_type": "code",
   "execution_count": 57,
   "id": "57802c10",
   "metadata": {
    "ExecuteTime": {
     "end_time": "2022-10-31T14:12:04.625659Z",
     "start_time": "2022-10-31T14:12:04.580368Z"
    },
    "hidden": true
   },
   "outputs": [],
   "source": [
    "#build a random model - baseline\n",
    "\n",
    "#values to pick ramdomly\n",
    "country_dest_list = sorted(df2['country_destination'].unique())\n",
    "\n",
    "#classes presence\n",
    "target_weights = df2['country_destination'].value_counts(normalize=True).sort_index().to_list()\n",
    "\n",
    "#size \n",
    "k_num = y_val.shape[0]\n",
    "\n",
    "yhat_baseline = random.choices(population=country_dest_list, weights=target_weights, k=k_num)"
   ]
  },
  {
   "cell_type": "code",
   "execution_count": 58,
   "id": "ed6e777b",
   "metadata": {
    "ExecuteTime": {
     "end_time": "2022-10-31T14:12:06.181903Z",
     "start_time": "2022-10-31T14:12:04.627652Z"
    },
    "hidden": true
   },
   "outputs": [
    {
     "name": "stdout",
     "output_type": "stream",
     "text": [
      "Accuracy 0.4252856936207146\n",
      " Balanced Accuracy 0.08255912913131801\n",
      " Kappa score -0.0008837768178038274\n",
      "              precision    recall  f1-score   support\n",
      "\n",
      "          AU       0.01      0.01      0.01       111\n",
      "          CA       0.01      0.01      0.01       281\n",
      "          DE       0.00      0.00      0.00       215\n",
      "          ES       0.01      0.01      0.01       428\n",
      "          FR       0.03      0.03      0.03      1021\n",
      "          GB       0.00      0.00      0.00       426\n",
      "          IT       0.02      0.02      0.02       570\n",
      "         NDF       0.58      0.58      0.58     23996\n",
      "          NL       0.00      0.00      0.00       146\n",
      "          PT       0.00      0.00      0.00        48\n",
      "          US       0.30      0.29      0.29     12280\n",
      "       other       0.04      0.04      0.04      1956\n",
      "\n",
      "    accuracy                           0.43     41478\n",
      "   macro avg       0.08      0.08      0.08     41478\n",
      "weighted avg       0.43      0.43      0.43     41478\n",
      "\n"
     ]
    },
    {
     "data": {
      "image/png": "[encoded data removed]",
      "text/plain": [
       "<Figure size 640x480 with 2 Axes>"
      ]
     },
     "metadata": {},
     "output_type": "display_data"
    }
   ],
   "source": [
    "#acuracy\n",
    "acc_base = accuracy_score(y_val, yhat_baseline)\n",
    "print('Accuracy {}'.format(acc_base))\n",
    "\n",
    "#balanced accuracy\n",
    "balanced_acc_base = balanced_accuracy_score(y_val, yhat_baseline)\n",
    "print(' Balanced Accuracy {}'.format(balanced_acc_base))\n",
    "\n",
    "#Kappa score - estimators agreement\n",
    "kappa_base = cohen_kappa_score(y_val, yhat_baseline)\n",
    "print(' Kappa score {}'.format(kappa_base))\n",
    "\n",
    "#confusion matrix\n",
    "ConfusionMatrixDisplay.from_predictions(y_val, yhat_baseline, cmap='YlGnBu_r');\n",
    "\n",
    "#classification report\n",
    "print(classification_report(y_val, yhat_baseline))"
   ]
  },
  {
   "cell_type": "markdown",
   "id": "1f90c460",
   "metadata": {},
   "source": [
    "### 5.2 Neural Network MLP "
   ]
  },
  {
   "cell_type": "code",
   "execution_count": 61,
   "id": "d9ddc268",
   "metadata": {
    "ExecuteTime": {
     "end_time": "2022-10-31T14:12:50.356702Z",
     "start_time": "2022-10-31T14:12:50.311332Z"
    }
   },
   "outputs": [],
   "source": [
    "ohe = OneHotEncoder()\n",
    "y_train_nn = ohe.fit_transform(y_train.values.reshape(-1,1)).toarray()"
   ]
  },
  {
   "cell_type": "code",
   "execution_count": 62,
   "id": "d12f2c7c",
   "metadata": {
    "ExecuteTime": {
     "end_time": "2022-10-31T14:12:51.561475Z",
     "start_time": "2022-10-31T14:12:50.357729Z"
    }
   },
   "outputs": [
    {
     "name": "stdout",
     "output_type": "stream",
     "text": [
      "Epoch 1/100\n"
     ]
    },
    {
     "ename": "ValueError",
     "evalue": "in user code:\n\n    File \"C:\\Users\\marco\\Anaconda3\\envs\\airbnb-predict-1st-booking\\lib\\site-packages\\keras\\engine\\training.py\", line 1021, in train_function  *\n        return step_function(self, iterator)\n    File \"C:\\Users\\marco\\Anaconda3\\envs\\airbnb-predict-1st-booking\\lib\\site-packages\\keras\\engine\\training.py\", line 1010, in step_function  **\n        outputs = model.distribute_strategy.run(run_step, args=(data,))\n    File \"C:\\Users\\marco\\Anaconda3\\envs\\airbnb-predict-1st-booking\\lib\\site-packages\\keras\\engine\\training.py\", line 1000, in run_step  **\n        outputs = model.train_step(data)\n    File \"C:\\Users\\marco\\Anaconda3\\envs\\airbnb-predict-1st-booking\\lib\\site-packages\\keras\\engine\\training.py\", line 860, in train_step\n        loss = self.compute_loss(x, y, y_pred, sample_weight)\n    File \"C:\\Users\\marco\\Anaconda3\\envs\\airbnb-predict-1st-booking\\lib\\site-packages\\keras\\engine\\training.py\", line 918, in compute_loss\n        return self.compiled_loss(\n    File \"C:\\Users\\marco\\Anaconda3\\envs\\airbnb-predict-1st-booking\\lib\\site-packages\\keras\\engine\\compile_utils.py\", line 201, in __call__\n        loss_value = loss_obj(y_t, y_p, sample_weight=sw)\n    File \"C:\\Users\\marco\\Anaconda3\\envs\\airbnb-predict-1st-booking\\lib\\site-packages\\keras\\losses.py\", line 141, in __call__\n        losses = call_fn(y_true, y_pred)\n    File \"C:\\Users\\marco\\Anaconda3\\envs\\airbnb-predict-1st-booking\\lib\\site-packages\\keras\\losses.py\", line 245, in call  **\n        return ag_fn(y_true, y_pred, **self._fn_kwargs)\n    File \"C:\\Users\\marco\\Anaconda3\\envs\\airbnb-predict-1st-booking\\lib\\site-packages\\keras\\losses.py\", line 1789, in categorical_crossentropy\n        return backend.categorical_crossentropy(\n    File \"C:\\Users\\marco\\Anaconda3\\envs\\airbnb-predict-1st-booking\\lib\\site-packages\\keras\\backend.py\", line 5083, in categorical_crossentropy\n        target.shape.assert_is_compatible_with(output.shape)\n\n    ValueError: Shapes (None, 12) and (None, 11) are incompatible\n",
     "output_type": "error",
     "traceback": [
      "\u001b[1;31m---------------------------------------------------------------------------\u001b[0m",
      "\u001b[1;31mValueError\u001b[0m                                Traceback (most recent call last)",
      "Input \u001b[1;32mIn [62]\u001b[0m, in \u001b[0;36m<cell line: 14>\u001b[1;34m()\u001b[0m\n\u001b[0;32m     11\u001b[0m model\u001b[38;5;241m.\u001b[39mcompile(loss\u001b[38;5;241m=\u001b[39m\u001b[38;5;124m'\u001b[39m\u001b[38;5;124mcategorical_crossentropy\u001b[39m\u001b[38;5;124m'\u001b[39m,optimizer\u001b[38;5;241m=\u001b[39m\u001b[38;5;124m'\u001b[39m\u001b[38;5;124madam\u001b[39m\u001b[38;5;124m'\u001b[39m, metrics\u001b[38;5;241m=\u001b[39m[\u001b[38;5;124m'\u001b[39m\u001b[38;5;124maccuracy\u001b[39m\u001b[38;5;124m'\u001b[39m])\n\u001b[0;32m     13\u001b[0m \u001b[38;5;66;03m#train model\u001b[39;00m\n\u001b[1;32m---> 14\u001b[0m \u001b[43mmodel\u001b[49m\u001b[38;5;241;43m.\u001b[39;49m\u001b[43mfit\u001b[49m\u001b[43m(\u001b[49m\u001b[43mX_train\u001b[49m\u001b[43m,\u001b[49m\u001b[43my_train_nn\u001b[49m\u001b[43m,\u001b[49m\u001b[43m \u001b[49m\u001b[43mepochs\u001b[49m\u001b[38;5;241;43m=\u001b[39;49m\u001b[38;5;241;43m100\u001b[39;49m\u001b[43m)\u001b[49m\n",
      "File \u001b[1;32m~\\Anaconda3\\envs\\airbnb-predict-1st-booking\\lib\\site-packages\\keras\\utils\\traceback_utils.py:67\u001b[0m, in \u001b[0;36mfilter_traceback.<locals>.error_handler\u001b[1;34m(*args, **kwargs)\u001b[0m\n\u001b[0;32m     65\u001b[0m \u001b[38;5;28;01mexcept\u001b[39;00m \u001b[38;5;167;01mException\u001b[39;00m \u001b[38;5;28;01mas\u001b[39;00m e:  \u001b[38;5;66;03m# pylint: disable=broad-except\u001b[39;00m\n\u001b[0;32m     66\u001b[0m   filtered_tb \u001b[38;5;241m=\u001b[39m _process_traceback_frames(e\u001b[38;5;241m.\u001b[39m__traceback__)\n\u001b[1;32m---> 67\u001b[0m   \u001b[38;5;28;01mraise\u001b[39;00m e\u001b[38;5;241m.\u001b[39mwith_traceback(filtered_tb) \u001b[38;5;28;01mfrom\u001b[39;00m \u001b[38;5;28mNone\u001b[39m\n\u001b[0;32m     68\u001b[0m \u001b[38;5;28;01mfinally\u001b[39;00m:\n\u001b[0;32m     69\u001b[0m   \u001b[38;5;28;01mdel\u001b[39;00m filtered_tb\n",
      "File \u001b[1;32m~\\Anaconda3\\envs\\airbnb-predict-1st-booking\\lib\\site-packages\\tensorflow\\python\\framework\\func_graph.py:1147\u001b[0m, in \u001b[0;36mfunc_graph_from_py_func.<locals>.autograph_handler\u001b[1;34m(*args, **kwargs)\u001b[0m\n\u001b[0;32m   1145\u001b[0m \u001b[38;5;28;01mexcept\u001b[39;00m \u001b[38;5;167;01mException\u001b[39;00m \u001b[38;5;28;01mas\u001b[39;00m e:  \u001b[38;5;66;03m# pylint:disable=broad-except\u001b[39;00m\n\u001b[0;32m   1146\u001b[0m   \u001b[38;5;28;01mif\u001b[39;00m \u001b[38;5;28mhasattr\u001b[39m(e, \u001b[38;5;124m\"\u001b[39m\u001b[38;5;124mag_error_metadata\u001b[39m\u001b[38;5;124m\"\u001b[39m):\n\u001b[1;32m-> 1147\u001b[0m     \u001b[38;5;28;01mraise\u001b[39;00m e\u001b[38;5;241m.\u001b[39mag_error_metadata\u001b[38;5;241m.\u001b[39mto_exception(e)\n\u001b[0;32m   1148\u001b[0m   \u001b[38;5;28;01melse\u001b[39;00m:\n\u001b[0;32m   1149\u001b[0m     \u001b[38;5;28;01mraise\u001b[39;00m\n",
      "\u001b[1;31mValueError\u001b[0m: in user code:\n\n    File \"C:\\Users\\marco\\Anaconda3\\envs\\airbnb-predict-1st-booking\\lib\\site-packages\\keras\\engine\\training.py\", line 1021, in train_function  *\n        return step_function(self, iterator)\n    File \"C:\\Users\\marco\\Anaconda3\\envs\\airbnb-predict-1st-booking\\lib\\site-packages\\keras\\engine\\training.py\", line 1010, in step_function  **\n        outputs = model.distribute_strategy.run(run_step, args=(data,))\n    File \"C:\\Users\\marco\\Anaconda3\\envs\\airbnb-predict-1st-booking\\lib\\site-packages\\keras\\engine\\training.py\", line 1000, in run_step  **\n        outputs = model.train_step(data)\n    File \"C:\\Users\\marco\\Anaconda3\\envs\\airbnb-predict-1st-booking\\lib\\site-packages\\keras\\engine\\training.py\", line 860, in train_step\n        loss = self.compute_loss(x, y, y_pred, sample_weight)\n    File \"C:\\Users\\marco\\Anaconda3\\envs\\airbnb-predict-1st-booking\\lib\\site-packages\\keras\\engine\\training.py\", line 918, in compute_loss\n        return self.compiled_loss(\n    File \"C:\\Users\\marco\\Anaconda3\\envs\\airbnb-predict-1st-booking\\lib\\site-packages\\keras\\engine\\compile_utils.py\", line 201, in __call__\n        loss_value = loss_obj(y_t, y_p, sample_weight=sw)\n    File \"C:\\Users\\marco\\Anaconda3\\envs\\airbnb-predict-1st-booking\\lib\\site-packages\\keras\\losses.py\", line 141, in __call__\n        losses = call_fn(y_true, y_pred)\n    File \"C:\\Users\\marco\\Anaconda3\\envs\\airbnb-predict-1st-booking\\lib\\site-packages\\keras\\losses.py\", line 245, in call  **\n        return ag_fn(y_true, y_pred, **self._fn_kwargs)\n    File \"C:\\Users\\marco\\Anaconda3\\envs\\airbnb-predict-1st-booking\\lib\\site-packages\\keras\\losses.py\", line 1789, in categorical_crossentropy\n        return backend.categorical_crossentropy(\n    File \"C:\\Users\\marco\\Anaconda3\\envs\\airbnb-predict-1st-booking\\lib\\site-packages\\keras\\backend.py\", line 5083, in categorical_crossentropy\n        target.shape.assert_is_compatible_with(output.shape)\n\n    ValueError: Shapes (None, 12) and (None, 11) are incompatible\n"
     ]
    }
   ],
   "source": [
    "#model definition\n",
    "model = ml.Sequential()\n",
    "\n",
    "#1st layer\n",
    "model.add(l.Dense(128, input_dim=X_train.shape[1], activation='relu'))\n",
    "\n",
    "#output layer\n",
    "model.add(l.Dense(11, activation='softmax'))\n",
    "          \n",
    "#model compile\n",
    "model.compile(loss='categorical_crossentropy',optimizer='adam', metrics=['accuracy'])\n",
    "          \n",
    "#train model\n",
    "model.fit(X_train,y_train_nn, epochs=100)\n",
    "\n",
    "# #prediction\n",
    "# pred_nn = model.predict(X_val)\n",
    "\n",
    "# #invert prediction\n",
    "# yhat_nn = ohe.inverse_transform(pred_nn) \n",
    "\n",
    "# #prediction prepare\n",
    "# y_val_nn = y_val.to_numpy()\n",
    "# yhat_nn = yhat_nn.reshape(1,-1)[0]"
   ]
  },
  {
   "cell_type": "markdown",
   "id": "8d571c7b",
   "metadata": {},
   "source": [
    "### 5.2.1 NN Performance"
   ]
  },
  {
   "cell_type": "code",
   "execution_count": null,
   "id": "05246310",
   "metadata": {
    "ExecuteTime": {
     "end_time": "2022-10-31T14:12:51.563976Z",
     "start_time": "2022-10-31T14:12:51.563976Z"
    }
   },
   "outputs": [],
   "source": [
    "#acuracy\n",
    "acc_nn = accuracy_score(y_val_nn, yhat_nn)\n",
    "print('Accuracy {}'.format(acc_nn))\n",
    "\n",
    "#balanced accuracy\n",
    "balanced_acc_nn = balanced_accuracy_score(y_val_nn, yhat_nn)\n",
    "print(' Balanced Accuracy {}'.format(balanced_acc_nn))\n",
    "\n",
    "#Kappa score - estimators agreement\n",
    "kappa = cohen_kappa_score(y_val_nn, yhat_nn)\n",
    "print(' Kappa score {}'.format(kappa))\n",
    "\n",
    "#confusion matrix\n",
    "ConfusionMatrixDisplay.from_predictions(y_val_nn, yhat_nn, cmap='YlGnBu_r');\n",
    "\n",
    "#classification report\n",
    "print(classification_report(y_val_nn, yhat_nn))"
   ]
  },
  {
   "cell_type": "markdown",
   "id": "84c82837",
   "metadata": {},
   "source": [
    "### 5.2.1 NN Performance - Cross validation"
   ]
  },
  {
   "cell_type": "code",
   "execution_count": null,
   "id": "f066b1c9",
   "metadata": {
    "ExecuteTime": {
     "end_time": "2022-10-31T14:12:51.565530Z",
     "start_time": "2022-10-31T14:12:51.565530Z"
    }
   },
   "outputs": [],
   "source": [
    "#generate k-fold\n",
    "n_folds=5\n",
    "kfold = StratifiedKFold(n_splits=n_folds, shuffle=True,random_state=32)\n",
    "balanced_acc_list = []\n",
    "kappa_list = []\n",
    "i=1\n",
    "\n",
    "for train_ix, val_ix in kfold.split(X_train, y_train):\n",
    "\n",
    "    print('Fold {}/{}'.format(i,n_folds))\n",
    "    \n",
    "    #define fold\n",
    "    X_train_cv = X_train.iloc[train_ix]\n",
    "    y_train_cv = y_train.iloc[train_ix]\n",
    "\n",
    "    X_val_cv = X_train.iloc[val_ix]\n",
    "    y_val_cv = y_train.iloc[val_ix]\n",
    "\n",
    "\n",
    "    #target one-hot encoding\n",
    "    ohe = OneHotEncoder()\n",
    "    y_train_cv_nn = ohe.fit_transform(y_train_cv.values.reshape(-1,1)).toarray()\n",
    "    \n",
    "    \n",
    "    #model definition\n",
    "    model = ml.Sequential()\n",
    "    model.add(l.Dense( 128, input_dim=X_train_cv.shape[1], activation='relu'))\n",
    "    model.add(l.Dense(11, activation='softmax' ))\n",
    "\n",
    "    #compile model\n",
    "    model.compile(loss='categorical_crossentropy', optimizer='adam', metrics=['accuracy'])\n",
    "\n",
    "    #training model\n",
    "    model.fit(X_train_cv, y_train_cv_nn, epochs=100, batch_size=32, verbose=0)\n",
    "\n",
    "    #prediction\n",
    "    pred_nn_cv = model.predict(X_val_cv)\n",
    "    yhat_nn_cv = ohe.inverse_transform(pred_nn_cv)\n",
    "    \n",
    "    y_val_nn_cv = y_val_cv.to_numpy()\n",
    "    yhat_nn_cv = yhat_nn_cv.reshape(1,-1)[0]\n",
    "    \n",
    "    #balanced accuracy\n",
    "    balanced_acc_nn = balanced_accuracy_score(y_val_nn_cv, yhat_nn_cv)\n",
    "    balanced_acc_list.append(balanced_acc_nn)\n",
    "    \n",
    "    #Kappa score - estimators agreement\n",
    "    kappa = cohen_kappa_score(y_val_nn_cv, yhat_nn_cv)\n",
    "    kappa_list.append(kappa)\n",
    "    \n",
    "    i+=1\n"
   ]
  },
  {
   "cell_type": "code",
   "execution_count": null,
   "id": "f975228e",
   "metadata": {
    "ExecuteTime": {
     "end_time": "2022-10-31T14:12:51.565530Z",
     "start_time": "2022-10-31T14:12:51.565530Z"
    }
   },
   "outputs": [],
   "source": [
    "print('Balanced Accuracy after {} K-Folds CV is {} ± {}'.format(n_folds, np.round(np.mean(balanced_acc_list),2), \n",
    "                                                                         np.round(np.std(balanced_acc_list),4)))\n",
    "print('Kappa Score after {} K-Folds CV is {} ± {}'.format(n_folds, np.round(np.mean(kappa_list),4), \n",
    "                                                                         np.round(np.std(kappa_list),4)))"
   ]
  },
  {
   "cell_type": "code",
   "execution_count": null,
   "id": "e678976f",
   "metadata": {},
   "outputs": [],
   "source": []
  }
 ],
 "metadata": {
  "kernelspec": {
   "display_name": "Python 3 (ipykernel)",
   "language": "python",
   "name": "python3"
  },
  "language_info": {
   "codemirror_mode": {
    "name": "ipython",
    "version": 3
   },
   "file_extension": ".py",
   "mimetype": "text/x-python",
   "name": "python",
   "nbconvert_exporter": "python",
   "pygments_lexer": "ipython3",
   "version": "3.9.13"
  },
  "varInspector": {
   "cols": {
    "lenName": 16,
    "lenType": 16,
    "lenVar": 40
   },
   "kernels_config": {
    "python": {
     "delete_cmd_postfix": "",
     "delete_cmd_prefix": "del ",
     "library": "var_list.py",
     "varRefreshCmd": "print(var_dic_list())"
    },
    "r": {
     "delete_cmd_postfix": ") ",
     "delete_cmd_prefix": "rm(",
     "library": "var_list.r",
     "varRefreshCmd": "cat(var_dic_list()) "
    }
   },
   "types_to_exclude": [
    "module",
    "function",
    "builtin_function_or_method",
    "instance",
    "_Feature"
   ],
   "window_display": false
  }
 },
 "nbformat": 4,
 "nbformat_minor": 5
}
