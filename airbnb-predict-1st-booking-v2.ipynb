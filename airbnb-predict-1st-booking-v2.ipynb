{
 "cells": [
  {
   "cell_type": "markdown",
   "id": "a68ad190",
   "metadata": {},
   "source": [
    "# Business Problem"
   ]
  },
  {
   "cell_type": "markdown",
   "id": "120d8870",
   "metadata": {},
   "source": [
    "## A) Business Situation"
   ]
  },
  {
   "cell_type": "markdown",
   "id": "405c7af8",
   "metadata": {},
   "source": [
    "(Kaggle description) Instead of waking to overlooked \"Do not disturb\" signs, Airbnb travelers find themselves rising with the birds min a whimsical treehouse, having their morning coffee on the deck of a houseboat, or cooking a shared regional breakfast with their hosts. New users on Airbnb can book a place to stay in 34,000+ cities across 190+ countries. By accurately predicting where a new user will book their first travel experience, Airbnb can share more personalized content with their community, decrease the average time to first booking, and better forecast demand.\n",
    "\n",
    "    -- Business Problem (open question): What's the target destination for the 1st booking of new users?"
   ]
  },
  {
   "cell_type": "markdown",
   "id": "65eab2d9",
   "metadata": {},
   "source": [
    "## B) Business Understanding"
   ]
  },
  {
   "cell_type": "markdown",
   "id": "14ea2b5b",
   "metadata": {},
   "source": [
    "    -- Which business model Airbnb operates? \n",
    "        -- Marketplace - conect people which offer acomodation to people searching for it)\n",
    "            -- Supply (people offering accomodation)\n",
    "                -- Portfolio size\n",
    "                -- Portfolio density\n",
    "                -- Average price\n",
    "                \n",
    "            -- Demand (people seeking accomodation)\n",
    "                -- Users quantity\n",
    "                -- LTV (Lifetime value)\n",
    "                -- CAC (customer acquisition cost)\n",
    "            -- Gross Revenue = (Fee * Customer Qty) - CAC \n",
    "    \n",
    "    -- Objective: \n",
    "        -- Predict the destination choice for new users (1st booking)\n",
    "        -- Motivation: Antecipate new users choice in order to offer most assertive ads\n",
    "        -- Root Cause: Increase gross revenue (through cheaper CAC)\n",
    "        -- Scope (Closed afirmation)\n",
    "        -- Stakeholder: CFO/CEO"
   ]
  },
  {
   "cell_type": "markdown",
   "id": "17103a8a",
   "metadata": {},
   "source": [
    "#### Solution Planning"
   ]
  },
  {
   "cell_type": "markdown",
   "id": "c5c2e73f",
   "metadata": {},
   "source": [
    "Solution Overview:\n",
    "Kind problem: City destination prediction\n",
    "Potential methods: Classification\n",
    "Output: \n",
    "Steps:\n",
    "Inputs:\n",
    "    -- Solution proposal:\n",
    "        -- Machine Learning model in order to predict 1st AirBnB destination\n",
    "        -- API:\n",
    "            -- Input: user + characteristics\n",
    "            -- Output: user + characteristics + destination prediction\n",
    "\n"
   ]
  },
  {
   "cell_type": "markdown",
   "id": "29a10c4e",
   "metadata": {},
   "source": [
    "    -- C) Insights\n",
    "    -- D) Business Results\n",
    "    -- E) Conclusions (Objectives attained? Problem Solved?)\n",
    "    -- F) Next Steps\n",
    "    -- G) Lessons Learned\n"
   ]
  },
  {
   "cell_type": "markdown",
   "id": "944e012b",
   "metadata": {},
   "source": [
    "### Data Fields"
   ]
  },
  {
   "cell_type": "markdown",
   "id": "1d64c02f",
   "metadata": {},
   "source": [
    "Is given a list of users along with their demographics, web session records, and some summary statistics. You are asked to predict which country a new user's first booking destination will be. All the users in this dataset are from the USA. There are 12 possible outcomes of the destination country: 'US', 'FR', 'CA', 'GB', 'ES', 'IT', 'PT', 'NL','DE', 'AU', 'NDF' (no destination found), and 'other'. Please note that 'NDF' is different from 'other' because 'other' means there was a booking, but is to a country not included in the list, while 'NDF' means there wasn't a booking.\n",
    "\n",
    "File descriptions\n",
    "train_users.csv - the training set of users\n",
    "\n",
    "test_users.csv - the test set of users\n",
    "\n",
    "    -- id: user id\n",
    "    -- date_account_created: the date of account creation\n",
    "    --- timestamp_first_active: timestamp of the first activity, note that it can be earlier than date_account_created or date_first_booking because a user can search before signing up\n",
    "    -- date_first_booking: date of first booking\n",
    "    -- gender\n",
    "    -- age\n",
    "    -- signup_method\n",
    "    -- signup_flow: the page a user came to signup up from\n",
    "    -- language: international language preference\n",
    "    -- affiliate_channel: what kind of paid marketing\n",
    "    -- affiliate_provider: where the marketing is e.g. google, craigslist, other\n",
    "    -- first_affiliate_tracked: whats the first marketing the user interacted with before the signing up\n",
    "    -- signup_app\n",
    "    -- first_device_type\n",
    "    -- first_browser\n",
    "    -- country_destination: this is the target variable you are to predict\n",
    "\n",
    "sessions.csv - web sessions log for users\n",
    "    -- user_id: to be joined with the column 'id' in users table\n",
    "    -- action\n",
    "    -- action_type\n",
    "    -- action_detail\n",
    "    -- device_type\n",
    "    -- secs_elapsed\n",
    "\n",
    "countries.csv - summary statistics of destination countries in this dataset and their locations\n",
    "\n",
    "age_gender_bkts.csv - summary statistics of users' age group, gender, country of destination\n",
    "\n",
    "sample_submission.csv - correct format for submitting your predictions"
   ]
  },
  {
   "cell_type": "markdown",
   "id": "5aa592e3",
   "metadata": {},
   "source": [
    "# 0. Imports"
   ]
  },
  {
   "cell_type": "code",
   "execution_count": 261,
   "id": "aec3495e",
   "metadata": {
    "ExecuteTime": {
     "end_time": "2022-11-01T17:32:35.220539Z",
     "start_time": "2022-11-01T17:32:35.201132Z"
    }
   },
   "outputs": [],
   "source": [
    "import pandas as pd\n",
    "import numpy as np\n",
    "import seaborn as sns\n",
    "import random\n",
    "import warnings\n",
    "warnings.filterwarnings('ignore')\n",
    "\n",
    "from scipy                   import stats\n",
    "from sklearn.model_selection import train_test_split, StratifiedKFold\n",
    "from sklearn.preprocessing   import OneHotEncoder\n",
    "from sklearn.metrics         import accuracy_score,balanced_accuracy_score, cohen_kappa_score, classification_report, ConfusionMatrixDisplay\n",
    "\n",
    "from keras import models as ml\n",
    "from keras import layers as l"
   ]
  },
  {
   "cell_type": "markdown",
   "id": "81111e1e",
   "metadata": {
    "ExecuteTime": {
     "end_time": "2022-10-24T11:06:03.335707Z",
     "start_time": "2022-10-24T11:06:03.327378Z"
    }
   },
   "source": [
    "### 0.1 Helper Functions"
   ]
  },
  {
   "cell_type": "code",
   "execution_count": 262,
   "id": "e947942a",
   "metadata": {
    "ExecuteTime": {
     "end_time": "2022-11-01T17:32:35.236036Z",
     "start_time": "2022-11-01T17:32:35.222044Z"
    }
   },
   "outputs": [],
   "source": [
    "def outlier_detection(data, column):\n",
    "    \n",
    "    q1 = np.percentile(data[column], 25)\n",
    "    q3 = np.percentile(data[column], 75)\n",
    "    \n",
    "    iqr = q3 - q1\n",
    "\n",
    "    lo_lim = q1 - 1.5*iqr\n",
    "    up_lim = q3 + 1.5*iqr\n",
    "    \n",
    "    outliers = [x for x in data[column] if (x > up_lim) | (x<lo_lim)]\n",
    "    \n",
    "    return sorted(outliers)\n",
    "\n",
    "def cramer_v( x, y ):\n",
    "    cm = pd.crosstab( x, y ).values\n",
    "    n = cm.sum()\n",
    "    r, k = cm.shape\n",
    "\n",
    "    chi2 = stats.chi2_contingency( cm )[0]\n",
    "    chi2corr = max( 0, chi2 - (k-1)*(r-1)/(n-1) )\n",
    "\n",
    "    kcorr = k - (k-1)**2/(n-1)\n",
    "    rcorr = r - (r-1)**2/(n-1)\n",
    "    return np.sqrt( (chi2corr/n) / ( min( kcorr-1, rcorr-1 ) ) )"
   ]
  },
  {
   "cell_type": "markdown",
   "id": "97baffb6",
   "metadata": {},
   "source": [
    "### 0.2 Loading Data"
   ]
  },
  {
   "cell_type": "code",
   "execution_count": 263,
   "id": "3481fe87",
   "metadata": {
    "ExecuteTime": {
     "end_time": "2022-11-01T17:32:35.592361Z",
     "start_time": "2022-11-01T17:32:35.236994Z"
    }
   },
   "outputs": [
    {
     "name": "stdout",
     "output_type": "stream",
     "text": [
      "The train_users dataset contains 16 columns and 213451 rows\n"
     ]
    }
   ],
   "source": [
    "# in this case, we will proceed with 2 separated datasets and deal with issues then we will decide the granularity to merge\n",
    "df_raw = pd.read_csv('dataset/train_users.csv')\n",
    "df_raw.shape\n",
    "print('The train_users dataset contains {} columns and {} rows'.format(df_raw.shape[1], df_raw.shape[0]))"
   ]
  },
  {
   "cell_type": "code",
   "execution_count": 264,
   "id": "21fe5904",
   "metadata": {
    "ExecuteTime": {
     "end_time": "2022-11-01T17:32:40.354119Z",
     "start_time": "2022-11-01T17:32:35.594816Z"
    }
   },
   "outputs": [
    {
     "name": "stdout",
     "output_type": "stream",
     "text": [
      "The sessions dataset contains 6 columns and 10567737 rows\n"
     ]
    }
   ],
   "source": [
    "df_sessions = pd.read_csv('dataset/sessions.csv')\n",
    "df_sessions.shape\n",
    "print('The sessions dataset contains {} columns and {} rows'.format(df_sessions.shape[1], df_sessions.shape[0]))"
   ]
  },
  {
   "cell_type": "markdown",
   "id": "94f7997d",
   "metadata": {},
   "source": [
    "# 1. Data Description"
   ]
  },
  {
   "cell_type": "code",
   "execution_count": 265,
   "id": "8a5316b4",
   "metadata": {
    "ExecuteTime": {
     "end_time": "2022-11-01T17:32:40.390953Z",
     "start_time": "2022-11-01T17:32:40.356132Z"
    }
   },
   "outputs": [],
   "source": [
    "df1 = df_raw.copy()"
   ]
  },
  {
   "cell_type": "markdown",
   "id": "cf0a5989",
   "metadata": {},
   "source": [
    "## 1.1 NAs Check "
   ]
  },
  {
   "cell_type": "code",
   "execution_count": 266,
   "id": "aefd47f4",
   "metadata": {
    "ExecuteTime": {
     "end_time": "2022-11-01T17:32:40.602910Z",
     "start_time": "2022-11-01T17:32:40.392725Z"
    }
   },
   "outputs": [
    {
     "data": {
      "text/plain": [
       "id                         0.000000\n",
       "date_account_created       0.000000\n",
       "timestamp_first_active     0.000000\n",
       "date_first_booking         0.583473\n",
       "gender                     0.000000\n",
       "age                        0.412226\n",
       "signup_method              0.000000\n",
       "signup_flow                0.000000\n",
       "language                   0.000000\n",
       "affiliate_channel          0.000000\n",
       "affiliate_provider         0.000000\n",
       "first_affiliate_tracked    0.028414\n",
       "signup_app                 0.000000\n",
       "first_device_type          0.000000\n",
       "first_browser              0.000000\n",
       "country_destination        0.000000\n",
       "dtype: float64"
      ]
     },
     "execution_count": 266,
     "metadata": {},
     "output_type": "execute_result"
    }
   ],
   "source": [
    "#users dataset\n",
    "df1.isna().sum() / df1.shape[0]"
   ]
  },
  {
   "cell_type": "code",
   "execution_count": 267,
   "id": "56a1f018",
   "metadata": {
    "ExecuteTime": {
     "end_time": "2022-11-01T17:32:44.323319Z",
     "start_time": "2022-11-01T17:32:40.604904Z"
    }
   },
   "outputs": [
    {
     "data": {
      "text/plain": [
       "user_id          0.003264\n",
       "action           0.007535\n",
       "action_type      0.106570\n",
       "action_detail    0.106570\n",
       "device_type      0.000000\n",
       "secs_elapsed     0.012872\n",
       "dtype: float64"
      ]
     },
     "execution_count": 267,
     "metadata": {},
     "output_type": "execute_result"
    }
   ],
   "source": [
    "#sessions dataset\n",
    "df_sessions.isna().sum()/df_sessions.shape[0]"
   ]
  },
  {
   "cell_type": "markdown",
   "id": "337454ae",
   "metadata": {},
   "source": [
    "### 1.1.1 Dealing NAs"
   ]
  },
  {
   "cell_type": "code",
   "execution_count": 269,
   "id": "1dc90ffc",
   "metadata": {
    "ExecuteTime": {
     "end_time": "2022-11-01T17:36:18.704013Z",
     "start_time": "2022-11-01T17:36:14.850872Z"
    }
   },
   "outputs": [],
   "source": [
    "# =================== USERS DATASET ==================\n",
    "\n",
    "#date_first_booking - 58% NAs - 100% in 'NDF' => solution: business knowledge (assumption)\n",
    "max_date_1st_booking = pd.to_datetime(df1['date_first_booking']).max().strftime('%Y-%m-%d')\n",
    "df1['date_first_booking'] = df1['date_first_booking'].fillna(max_date_1st_booking)\n",
    "\n",
    "#age - 42% NAs in many classes - data normaly distributed => solution: input stastics (mean)\n",
    "#Assumption: there isnt ppl under 15 and over 120 able to make a booking Outliers removal not appliable - could remove valid entries\n",
    "df1 = df1[(df1['age']>15)&(df1['age']<120)]\n",
    "avg_age = df1['age'].mean()\n",
    "df1['age'] = df1['age'].fillna(avg_age)\n",
    "\n",
    "#first_affiliate tracked - 2% NAs => solution: categorical data, 2% drop\n",
    "df1 = df1[~df1['first_affiliate_tracked'].isna()]\n",
    "\n",
    "# =================== SESSIONS DATASET ==================\n",
    "#user_id - 0,3% NAs\n",
    "df_sessions = df_sessions[~df_sessions['user_id'].isna()]\n",
    "\n",
    "#action - 0,7% NAs => 100% NA are 'message_post'\n",
    "df_sessions = df_sessions[~df_sessions['action'].isna()]\n",
    "\n",
    "#action_type / action_detail - 10,6% NAs each\n",
    "df_sessions = df_sessions[~df_sessions['action_type'].isna()]\n",
    "df_sessions = df_sessions[~df_sessions['action_detail'].isna()]\n",
    "\n",
    "#secs_elapsed - 1,2% NAs\n",
    "df_sessions = df_sessions[~df_sessions['secs_elapsed'].isna()]"
   ]
  },
  {
   "cell_type": "code",
   "execution_count": 270,
   "id": "4bf3990c",
   "metadata": {
    "ExecuteTime": {
     "end_time": "2022-11-01T17:36:18.839211Z",
     "start_time": "2022-11-01T17:36:18.704013Z"
    }
   },
   "outputs": [
    {
     "data": {
      "text/plain": [
       "id                         0.0\n",
       "date_account_created       0.0\n",
       "timestamp_first_active     0.0\n",
       "date_first_booking         0.0\n",
       "gender                     0.0\n",
       "age                        0.0\n",
       "signup_method              0.0\n",
       "signup_flow                0.0\n",
       "language                   0.0\n",
       "affiliate_channel          0.0\n",
       "affiliate_provider         0.0\n",
       "first_affiliate_tracked    0.0\n",
       "signup_app                 0.0\n",
       "first_device_type          0.0\n",
       "first_browser              0.0\n",
       "country_destination        0.0\n",
       "dtype: float64"
      ]
     },
     "execution_count": 270,
     "metadata": {},
     "output_type": "execute_result"
    }
   ],
   "source": [
    "#users dataset NAs treatment done\n",
    "df1.isna().sum() / df1.shape[0]"
   ]
  },
  {
   "cell_type": "code",
   "execution_count": 271,
   "id": "23d57e8a",
   "metadata": {
    "ExecuteTime": {
     "end_time": "2022-11-01T17:36:22.012959Z",
     "start_time": "2022-11-01T17:36:18.840208Z"
    }
   },
   "outputs": [
    {
     "data": {
      "text/plain": [
       "user_id          0.0\n",
       "action           0.0\n",
       "action_type      0.0\n",
       "action_detail    0.0\n",
       "device_type      0.0\n",
       "secs_elapsed     0.0\n",
       "dtype: float64"
      ]
     },
     "execution_count": 271,
     "metadata": {},
     "output_type": "execute_result"
    }
   ],
   "source": [
    "#sessions dataset NAs treatment done\n",
    "df_sessions.isna().sum()/df_sessions.shape[0]"
   ]
  },
  {
   "cell_type": "markdown",
   "id": "c8f4ed30",
   "metadata": {},
   "source": [
    "## 1.2 Data Type"
   ]
  },
  {
   "cell_type": "code",
   "execution_count": 272,
   "id": "9390b009",
   "metadata": {
    "ExecuteTime": {
     "end_time": "2022-11-01T17:36:22.038130Z",
     "start_time": "2022-11-01T17:36:22.012959Z"
    }
   },
   "outputs": [
    {
     "data": {
      "text/plain": [
       "id                          object\n",
       "date_account_created        object\n",
       "timestamp_first_active       int64\n",
       "date_first_booking          object\n",
       "gender                      object\n",
       "age                        float64\n",
       "signup_method               object\n",
       "signup_flow                  int64\n",
       "language                    object\n",
       "affiliate_channel           object\n",
       "affiliate_provider          object\n",
       "first_affiliate_tracked     object\n",
       "signup_app                  object\n",
       "first_device_type           object\n",
       "first_browser               object\n",
       "country_destination         object\n",
       "dtype: object"
      ]
     },
     "execution_count": 272,
     "metadata": {},
     "output_type": "execute_result"
    }
   ],
   "source": [
    "df1.dtypes"
   ]
  },
  {
   "cell_type": "markdown",
   "id": "b0cd0913",
   "metadata": {},
   "source": [
    "### 1.2.1 Change Data Types "
   ]
  },
  {
   "cell_type": "code",
   "execution_count": 274,
   "id": "5122c581",
   "metadata": {
    "ExecuteTime": {
     "end_time": "2022-11-01T17:40:58.430670Z",
     "start_time": "2022-11-01T17:40:58.118635Z"
    }
   },
   "outputs": [],
   "source": [
    "#date_account_created\n",
    "df1['date_account_created'] = pd.to_datetime(df1['date_account_created'])\n",
    "#timestamp_first_active\n",
    "df1['timestamp_first_active'] = pd.to_datetime(df1['timestamp_first_active'], format='%Y%m%d%H%M%S')\n",
    "#date_first_booking\n",
    "df1['date_first_booking'] = pd.to_datetime(df1['date_first_booking'])\n",
    "#age\n",
    "df1['age'] = df1['age'].astype('int64')"
   ]
  },
  {
   "cell_type": "code",
   "execution_count": 275,
   "id": "f3c5b6c6",
   "metadata": {
    "ExecuteTime": {
     "end_time": "2022-11-01T17:41:00.225183Z",
     "start_time": "2022-11-01T17:41:00.216201Z"
    }
   },
   "outputs": [
    {
     "data": {
      "text/plain": [
       "id                                 object\n",
       "date_account_created       datetime64[ns]\n",
       "timestamp_first_active     datetime64[ns]\n",
       "date_first_booking         datetime64[ns]\n",
       "gender                             object\n",
       "age                                 int64\n",
       "signup_method                      object\n",
       "signup_flow                         int64\n",
       "language                           object\n",
       "affiliate_channel                  object\n",
       "affiliate_provider                 object\n",
       "first_affiliate_tracked            object\n",
       "signup_app                         object\n",
       "first_device_type                  object\n",
       "first_browser                      object\n",
       "country_destination                object\n",
       "dtype: object"
      ]
     },
     "execution_count": 275,
     "metadata": {},
     "output_type": "execute_result"
    }
   ],
   "source": [
    "df1.dtypes"
   ]
  },
  {
   "cell_type": "markdown",
   "id": "81db9f86",
   "metadata": {},
   "source": [
    "## 1.3 Check balanced data"
   ]
  },
  {
   "cell_type": "code",
   "execution_count": 293,
   "id": "91bfb44f",
   "metadata": {
    "ExecuteTime": {
     "end_time": "2022-11-01T17:48:57.849564Z",
     "start_time": "2022-11-01T17:48:57.831875Z"
    }
   },
   "outputs": [
    {
     "data": {
      "text/plain": [
       "NDF      54852\n",
       "US       48057\n",
       "other     7511\n",
       "FR        3669\n",
       "IT        2014\n",
       "GB        1758\n",
       "ES        1685\n",
       "CA        1064\n",
       "DE         841\n",
       "NL         595\n",
       "AU         433\n",
       "PT         157\n",
       "Name: country_destination, dtype: int64"
      ]
     },
     "execution_count": 293,
     "metadata": {},
     "output_type": "execute_result"
    }
   ],
   "source": [
    "df1['country_destination'].value_counts()\n",
    "#df1['country_destination'].value_counts(normalize=True)"
   ]
  },
  {
   "cell_type": "markdown",
   "id": "310e6466",
   "metadata": {},
   "source": [
    "## 1.4 Descriptive Statistics"
   ]
  },
  {
   "cell_type": "markdown",
   "id": "5d020d32",
   "metadata": {},
   "source": [
    "### 1.4.1 Users "
   ]
  },
  {
   "cell_type": "code",
   "execution_count": 277,
   "id": "32426432",
   "metadata": {
    "ExecuteTime": {
     "end_time": "2022-11-01T17:41:15.427321Z",
     "start_time": "2022-11-01T17:41:15.397745Z"
    }
   },
   "outputs": [],
   "source": [
    "num_att_users= df1.select_dtypes(include=['int32','int64','float64'])\n",
    "\n",
    "cat_att_users = df1.select_dtypes(exclude=['int32','int64','float64','datetime64[ns]'])\n",
    "\n",
    "time_att_users = df1.select_dtypes(include=['datetime64[ns]'])"
   ]
  },
  {
   "cell_type": "code",
   "execution_count": 278,
   "id": "b930c4ca",
   "metadata": {
    "ExecuteTime": {
     "end_time": "2022-11-01T17:41:15.469577Z",
     "start_time": "2022-11-01T17:41:15.428374Z"
    }
   },
   "outputs": [
    {
     "data": {
      "text/html": [
       "<div>\n",
       "<style scoped>\n",
       "    .dataframe tbody tr th:only-of-type {\n",
       "        vertical-align: middle;\n",
       "    }\n",
       "\n",
       "    .dataframe tbody tr th {\n",
       "        vertical-align: top;\n",
       "    }\n",
       "\n",
       "    .dataframe thead th {\n",
       "        text-align: right;\n",
       "    }\n",
       "</style>\n",
       "<table border=\"1\" class=\"dataframe\">\n",
       "  <thead>\n",
       "    <tr style=\"text-align: right;\">\n",
       "      <th></th>\n",
       "      <th>features</th>\n",
       "      <th>min</th>\n",
       "      <th>max</th>\n",
       "      <th>mean</th>\n",
       "      <th>median</th>\n",
       "      <th>std</th>\n",
       "      <th>skew</th>\n",
       "      <th>kurtosis</th>\n",
       "    </tr>\n",
       "  </thead>\n",
       "  <tbody>\n",
       "    <tr>\n",
       "      <th>0</th>\n",
       "      <td>age</td>\n",
       "      <td>16.0</td>\n",
       "      <td>115.0</td>\n",
       "      <td>37.405591</td>\n",
       "      <td>34.0</td>\n",
       "      <td>13.939900</td>\n",
       "      <td>2.089718</td>\n",
       "      <td>6.516468</td>\n",
       "    </tr>\n",
       "    <tr>\n",
       "      <th>1</th>\n",
       "      <td>signup_flow</td>\n",
       "      <td>0.0</td>\n",
       "      <td>25.0</td>\n",
       "      <td>2.519513</td>\n",
       "      <td>0.0</td>\n",
       "      <td>6.604723</td>\n",
       "      <td>2.705871</td>\n",
       "      <td>5.928298</td>\n",
       "    </tr>\n",
       "  </tbody>\n",
       "</table>\n",
       "</div>"
      ],
      "text/plain": [
       "      features   min    max       mean  median        std      skew  kurtosis\n",
       "0          age  16.0  115.0  37.405591    34.0  13.939900  2.089718  6.516468\n",
       "1  signup_flow   0.0   25.0   2.519513     0.0   6.604723  2.705871  5.928298"
      ]
     },
     "execution_count": 278,
     "metadata": {},
     "output_type": "execute_result"
    }
   ],
   "source": [
    "num_att_users.agg([\"min\",\"max\",\"mean\",\"median\",\"std\",\"skew\",\"kurtosis\"]).T.reset_index().rename(columns= {'index' : 'features'})"
   ]
  },
  {
   "cell_type": "code",
   "execution_count": 279,
   "id": "92965f40",
   "metadata": {
    "ExecuteTime": {
     "end_time": "2022-11-01T17:41:15.602017Z",
     "start_time": "2022-11-01T17:41:15.472612Z"
    }
   },
   "outputs": [
    {
     "data": {
      "text/html": [
       "<div>\n",
       "<style scoped>\n",
       "    .dataframe tbody tr th:only-of-type {\n",
       "        vertical-align: middle;\n",
       "    }\n",
       "\n",
       "    .dataframe tbody tr th {\n",
       "        vertical-align: top;\n",
       "    }\n",
       "\n",
       "    .dataframe thead th {\n",
       "        text-align: right;\n",
       "    }\n",
       "</style>\n",
       "<table border=\"1\" class=\"dataframe\">\n",
       "  <thead>\n",
       "    <tr style=\"text-align: right;\">\n",
       "      <th></th>\n",
       "      <th>gender</th>\n",
       "      <th>signup_method</th>\n",
       "      <th>language</th>\n",
       "      <th>affiliate_channel</th>\n",
       "      <th>affiliate_provider</th>\n",
       "      <th>first_affiliate_tracked</th>\n",
       "      <th>signup_app</th>\n",
       "      <th>first_device_type</th>\n",
       "      <th>first_browser</th>\n",
       "      <th>country_destination</th>\n",
       "    </tr>\n",
       "  </thead>\n",
       "  <tbody>\n",
       "    <tr>\n",
       "      <th>count</th>\n",
       "      <td>122636</td>\n",
       "      <td>122636</td>\n",
       "      <td>122636</td>\n",
       "      <td>122636</td>\n",
       "      <td>122636</td>\n",
       "      <td>122636</td>\n",
       "      <td>122636</td>\n",
       "      <td>122636</td>\n",
       "      <td>122636</td>\n",
       "      <td>122636</td>\n",
       "    </tr>\n",
       "    <tr>\n",
       "      <th>unique</th>\n",
       "      <td>4</td>\n",
       "      <td>3</td>\n",
       "      <td>25</td>\n",
       "      <td>8</td>\n",
       "      <td>17</td>\n",
       "      <td>7</td>\n",
       "      <td>4</td>\n",
       "      <td>9</td>\n",
       "      <td>41</td>\n",
       "      <td>12</td>\n",
       "    </tr>\n",
       "    <tr>\n",
       "      <th>top</th>\n",
       "      <td>FEMALE</td>\n",
       "      <td>basic</td>\n",
       "      <td>en</td>\n",
       "      <td>direct</td>\n",
       "      <td>direct</td>\n",
       "      <td>untracked</td>\n",
       "      <td>Web</td>\n",
       "      <td>Mac Desktop</td>\n",
       "      <td>Chrome</td>\n",
       "      <td>NDF</td>\n",
       "    </tr>\n",
       "    <tr>\n",
       "      <th>freq</th>\n",
       "      <td>56362</td>\n",
       "      <td>66039</td>\n",
       "      <td>118205</td>\n",
       "      <td>79093</td>\n",
       "      <td>78954</td>\n",
       "      <td>64712</td>\n",
       "      <td>108283</td>\n",
       "      <td>57943</td>\n",
       "      <td>41778</td>\n",
       "      <td>54852</td>\n",
       "    </tr>\n",
       "  </tbody>\n",
       "</table>\n",
       "</div>"
      ],
      "text/plain": [
       "        gender signup_method language affiliate_channel affiliate_provider  \\\n",
       "count   122636        122636   122636            122636             122636   \n",
       "unique       4             3       25                 8                 17   \n",
       "top     FEMALE         basic       en            direct             direct   \n",
       "freq     56362         66039   118205             79093              78954   \n",
       "\n",
       "       first_affiliate_tracked signup_app first_device_type first_browser  \\\n",
       "count                   122636     122636            122636        122636   \n",
       "unique                       7          4                 9            41   \n",
       "top                  untracked        Web       Mac Desktop        Chrome   \n",
       "freq                     64712     108283             57943         41778   \n",
       "\n",
       "       country_destination  \n",
       "count               122636  \n",
       "unique                  12  \n",
       "top                    NDF  \n",
       "freq                 54852  "
      ]
     },
     "execution_count": 279,
     "metadata": {},
     "output_type": "execute_result"
    }
   ],
   "source": [
    "cat_att_users.drop('id',axis=1).describe()"
   ]
  },
  {
   "cell_type": "code",
   "execution_count": 280,
   "id": "f71b5528",
   "metadata": {
    "ExecuteTime": {
     "end_time": "2022-11-01T17:41:15.638745Z",
     "start_time": "2022-11-01T17:41:15.604010Z"
    }
   },
   "outputs": [
    {
     "data": {
      "text/html": [
       "<div>\n",
       "<style scoped>\n",
       "    .dataframe tbody tr th:only-of-type {\n",
       "        vertical-align: middle;\n",
       "    }\n",
       "\n",
       "    .dataframe tbody tr th {\n",
       "        vertical-align: top;\n",
       "    }\n",
       "\n",
       "    .dataframe thead th {\n",
       "        text-align: right;\n",
       "    }\n",
       "</style>\n",
       "<table border=\"1\" class=\"dataframe\">\n",
       "  <thead>\n",
       "    <tr style=\"text-align: right;\">\n",
       "      <th></th>\n",
       "      <th>features</th>\n",
       "      <th>min</th>\n",
       "      <th>max</th>\n",
       "      <th>mean</th>\n",
       "      <th>median</th>\n",
       "      <th>std</th>\n",
       "    </tr>\n",
       "  </thead>\n",
       "  <tbody>\n",
       "    <tr>\n",
       "      <th>0</th>\n",
       "      <td>date_account_created</td>\n",
       "      <td>2010-01-02 00:00:00</td>\n",
       "      <td>2014-06-30 00:00:00</td>\n",
       "      <td>2013-06-15 08:50:54.346195200</td>\n",
       "      <td>2013-08-21 00:00:00.000</td>\n",
       "      <td>309 days 11:50:22.561160444</td>\n",
       "    </tr>\n",
       "    <tr>\n",
       "      <th>1</th>\n",
       "      <td>timestamp_first_active</td>\n",
       "      <td>2009-05-23 17:48:09</td>\n",
       "      <td>2014-06-30 23:57:54</td>\n",
       "      <td>2013-06-15 12:38:20.219274752</td>\n",
       "      <td>2013-08-20 19:53:34.500</td>\n",
       "      <td>309 days 20:09:23.802178976</td>\n",
       "    </tr>\n",
       "    <tr>\n",
       "      <th>2</th>\n",
       "      <td>date_first_booking</td>\n",
       "      <td>2010-01-04 00:00:00</td>\n",
       "      <td>2015-06-29 00:00:00</td>\n",
       "      <td>2014-06-06 05:14:38.423953664</td>\n",
       "      <td>2014-06-30 00:00:00.000</td>\n",
       "      <td>429 days 04:15:53.091295912</td>\n",
       "    </tr>\n",
       "  </tbody>\n",
       "</table>\n",
       "</div>"
      ],
      "text/plain": [
       "                 features                 min                 max  \\\n",
       "0    date_account_created 2010-01-02 00:00:00 2014-06-30 00:00:00   \n",
       "1  timestamp_first_active 2009-05-23 17:48:09 2014-06-30 23:57:54   \n",
       "2      date_first_booking 2010-01-04 00:00:00 2015-06-29 00:00:00   \n",
       "\n",
       "                           mean                  median  \\\n",
       "0 2013-06-15 08:50:54.346195200 2013-08-21 00:00:00.000   \n",
       "1 2013-06-15 12:38:20.219274752 2013-08-20 19:53:34.500   \n",
       "2 2014-06-06 05:14:38.423953664 2014-06-30 00:00:00.000   \n",
       "\n",
       "                          std  \n",
       "0 309 days 11:50:22.561160444  \n",
       "1 309 days 20:09:23.802178976  \n",
       "2 429 days 04:15:53.091295912  "
      ]
     },
     "execution_count": 280,
     "metadata": {},
     "output_type": "execute_result"
    }
   ],
   "source": [
    "time_att_users.agg([\"min\",\"max\",\"mean\",\"median\",\"std\"]).T.reset_index().rename(columns= {'index' : 'features'})"
   ]
  },
  {
   "cell_type": "markdown",
   "id": "7a64550b",
   "metadata": {},
   "source": [
    "### 1.4.2 Sessions "
   ]
  },
  {
   "cell_type": "code",
   "execution_count": 281,
   "id": "d510eecf",
   "metadata": {
    "ExecuteTime": {
     "end_time": "2022-11-01T17:41:15.814919Z",
     "start_time": "2022-11-01T17:41:15.638745Z"
    }
   },
   "outputs": [],
   "source": [
    "num_att_sessions= df_sessions.select_dtypes(include=['int32','int64','float64'])\n",
    "\n",
    "cat_att_sessions = df_sessions.select_dtypes(exclude=['int32','int64','float64','datetime64[ns]'])\n",
    "\n",
    "time_att_sessions = df_sessions.select_dtypes(include=['datetime64[ns]'])"
   ]
  },
  {
   "cell_type": "code",
   "execution_count": 282,
   "id": "88767b75",
   "metadata": {
    "ExecuteTime": {
     "end_time": "2022-11-01T17:41:16.333581Z",
     "start_time": "2022-11-01T17:41:15.815961Z"
    }
   },
   "outputs": [
    {
     "data": {
      "text/html": [
       "<div>\n",
       "<style scoped>\n",
       "    .dataframe tbody tr th:only-of-type {\n",
       "        vertical-align: middle;\n",
       "    }\n",
       "\n",
       "    .dataframe tbody tr th {\n",
       "        vertical-align: top;\n",
       "    }\n",
       "\n",
       "    .dataframe thead th {\n",
       "        text-align: right;\n",
       "    }\n",
       "</style>\n",
       "<table border=\"1\" class=\"dataframe\">\n",
       "  <thead>\n",
       "    <tr style=\"text-align: right;\">\n",
       "      <th></th>\n",
       "      <th>features</th>\n",
       "      <th>min</th>\n",
       "      <th>max</th>\n",
       "      <th>mean</th>\n",
       "      <th>median</th>\n",
       "      <th>std</th>\n",
       "      <th>skew</th>\n",
       "      <th>kurtosis</th>\n",
       "    </tr>\n",
       "  </thead>\n",
       "  <tbody>\n",
       "    <tr>\n",
       "      <th>0</th>\n",
       "      <td>secs_elapsed</td>\n",
       "      <td>0.0</td>\n",
       "      <td>1799977.0</td>\n",
       "      <td>19961.8251</td>\n",
       "      <td>1369.0</td>\n",
       "      <td>88849.39327</td>\n",
       "      <td>11.137761</td>\n",
       "      <td>154.84312</td>\n",
       "    </tr>\n",
       "  </tbody>\n",
       "</table>\n",
       "</div>"
      ],
      "text/plain": [
       "       features  min        max        mean  median          std       skew  \\\n",
       "0  secs_elapsed  0.0  1799977.0  19961.8251  1369.0  88849.39327  11.137761   \n",
       "\n",
       "    kurtosis  \n",
       "0  154.84312  "
      ]
     },
     "execution_count": 282,
     "metadata": {},
     "output_type": "execute_result"
    }
   ],
   "source": [
    "num_att_sessions.agg([\"min\",\"max\",\"mean\",\"median\",\"std\",\"skew\",\"kurtosis\"]).T.reset_index().rename(columns= {'index' : 'features'})"
   ]
  },
  {
   "cell_type": "code",
   "execution_count": 283,
   "id": "d9b9cf6e",
   "metadata": {
    "ExecuteTime": {
     "end_time": "2022-11-01T17:41:18.843004Z",
     "start_time": "2022-11-01T17:41:16.335756Z"
    }
   },
   "outputs": [
    {
     "data": {
      "text/html": [
       "<div>\n",
       "<style scoped>\n",
       "    .dataframe tbody tr th:only-of-type {\n",
       "        vertical-align: middle;\n",
       "    }\n",
       "\n",
       "    .dataframe tbody tr th {\n",
       "        vertical-align: top;\n",
       "    }\n",
       "\n",
       "    .dataframe thead th {\n",
       "        text-align: right;\n",
       "    }\n",
       "</style>\n",
       "<table border=\"1\" class=\"dataframe\">\n",
       "  <thead>\n",
       "    <tr style=\"text-align: right;\">\n",
       "      <th></th>\n",
       "      <th>action</th>\n",
       "      <th>action_type</th>\n",
       "      <th>action_detail</th>\n",
       "      <th>device_type</th>\n",
       "    </tr>\n",
       "  </thead>\n",
       "  <tbody>\n",
       "    <tr>\n",
       "      <th>count</th>\n",
       "      <td>9213930</td>\n",
       "      <td>9213930</td>\n",
       "      <td>9213930</td>\n",
       "      <td>9213930</td>\n",
       "    </tr>\n",
       "    <tr>\n",
       "      <th>unique</th>\n",
       "      <td>347</td>\n",
       "      <td>10</td>\n",
       "      <td>155</td>\n",
       "      <td>14</td>\n",
       "    </tr>\n",
       "    <tr>\n",
       "      <th>top</th>\n",
       "      <td>show</td>\n",
       "      <td>view</td>\n",
       "      <td>view_search_results</td>\n",
       "      <td>Mac Desktop</td>\n",
       "    </tr>\n",
       "    <tr>\n",
       "      <th>freq</th>\n",
       "      <td>2178382</td>\n",
       "      <td>3545621</td>\n",
       "      <td>1770931</td>\n",
       "      <td>3019523</td>\n",
       "    </tr>\n",
       "  </tbody>\n",
       "</table>\n",
       "</div>"
      ],
      "text/plain": [
       "         action action_type        action_detail  device_type\n",
       "count   9213930     9213930              9213930      9213930\n",
       "unique      347          10                  155           14\n",
       "top        show        view  view_search_results  Mac Desktop\n",
       "freq    2178382     3545621              1770931      3019523"
      ]
     },
     "execution_count": 283,
     "metadata": {},
     "output_type": "execute_result"
    }
   ],
   "source": [
    "cat_att_sessions.drop('user_id',axis=1).describe()"
   ]
  },
  {
   "cell_type": "markdown",
   "id": "c01233fd",
   "metadata": {},
   "source": [
    "# 2.0 Data Filtering - Business knowledge"
   ]
  },
  {
   "cell_type": "code",
   "execution_count": 284,
   "id": "aa078025",
   "metadata": {
    "ExecuteTime": {
     "end_time": "2022-11-01T17:41:19.053843Z",
     "start_time": "2022-11-01T17:41:18.843004Z"
    }
   },
   "outputs": [],
   "source": [
    "#Filtering based on business assumptions and rules\n",
    "df2 = df1.copy()\n",
    "df2_sessions = df_sessions.copy()"
   ]
  },
  {
   "cell_type": "markdown",
   "id": "55327243",
   "metadata": {},
   "source": [
    "## Rows filtering"
   ]
  },
  {
   "cell_type": "code",
   "execution_count": 285,
   "id": "df1aeb31",
   "metadata": {
    "ExecuteTime": {
     "end_time": "2022-11-01T17:41:19.092981Z",
     "start_time": "2022-11-01T17:41:19.056144Z"
    }
   },
   "outputs": [],
   "source": [
    "## === USERS ===\n",
    "#age filtering \n",
    "df2 = df2[(df2['age']>15)&(df2['age']<120)]"
   ]
  },
  {
   "cell_type": "code",
   "execution_count": 286,
   "id": "fce8f038",
   "metadata": {
    "ExecuteTime": {
     "end_time": "2022-11-01T17:41:19.743073Z",
     "start_time": "2022-11-01T17:41:19.095028Z"
    }
   },
   "outputs": [],
   "source": [
    "## === SESSIONS ===\n",
    "#secs_elapsed - 0 \n",
    "df2_sessions = df2_sessions[df2_sessions['secs_elapsed']>0]"
   ]
  },
  {
   "cell_type": "markdown",
   "id": "dd46ec0f",
   "metadata": {},
   "source": [
    "## Columns selection"
   ]
  },
  {
   "cell_type": "code",
   "execution_count": 287,
   "id": "f2dbc4e4",
   "metadata": {
    "ExecuteTime": {
     "end_time": "2022-11-01T17:41:45.806440Z",
     "start_time": "2022-11-01T17:41:19.743073Z"
    }
   },
   "outputs": [],
   "source": [
    "cat_att_list = cat_att_sessions.drop('user_id',axis=1).columns.to_list()\n",
    "\n",
    "corr_dict = {}\n",
    "\n",
    "for i in range(len(cat_att_list)):\n",
    "    \n",
    "    corr_list = []\n",
    "    \n",
    "    for j in range(len(cat_att_list)):\n",
    "        ref = cat_att_list[i]\n",
    "        feat = cat_att_list[j]\n",
    "        corr = cramer_v(cat_att_sessions[ref], cat_att_sessions[feat])\n",
    "        corr_list.append(corr)\n",
    "\n",
    "    corr_dict [ref] = corr_list \n",
    "    \n",
    "d = pd.DataFrame(corr_dict).set_index(d.columns)"
   ]
  },
  {
   "cell_type": "code",
   "execution_count": 288,
   "id": "954d7a9d",
   "metadata": {
    "ExecuteTime": {
     "end_time": "2022-11-01T17:41:46.001938Z",
     "start_time": "2022-11-01T17:41:45.806440Z"
    },
    "hide_input": true
   },
   "outputs": [
    {
     "data": {
      "image/png": "[encoded data removed]",
      "text/plain": [
       "<Figure size 640x480 with 2 Axes>"
      ]
     },
     "metadata": {},
     "output_type": "display_data"
    }
   ],
   "source": [
    "sns.heatmap(d, annot=True);"
   ]
  },
  {
   "cell_type": "markdown",
   "id": "e348a236",
   "metadata": {},
   "source": [
    "# 3.0 Feature Engineering"
   ]
  },
  {
   "cell_type": "code",
   "execution_count": 289,
   "id": "81959cb8",
   "metadata": {
    "ExecuteTime": {
     "end_time": "2022-11-01T17:41:46.152084Z",
     "start_time": "2022-11-01T17:41:46.001938Z"
    }
   },
   "outputs": [],
   "source": [
    "df3 = df2.copy()\n",
    "df3_sessions = df2_sessions.copy()"
   ]
  },
  {
   "cell_type": "code",
   "execution_count": 290,
   "id": "96dfe0fb",
   "metadata": {
    "ExecuteTime": {
     "end_time": "2022-11-01T17:41:49.458287Z",
     "start_time": "2022-11-01T17:41:46.152084Z"
    }
   },
   "outputs": [],
   "source": [
    "#days from 1st active up to 1st booking\n",
    "df3['date_first_activation'] = pd.to_datetime(df3['timestamp_first_active'].dt.strftime('%Y-%m-%d'))\n",
    "df3['days_from_first_until_booking'] = (df3['date_first_booking'] - df3['date_first_activation']).apply(lambda x: x.days)\n",
    "\n",
    "#days from 1st active up to account creation\n",
    "df3['days_from_activation_until_acc_creation'] = (df3['date_account_created'] - df3['date_first_activation']).apply(lambda x: x.days)\n",
    "\n",
    "#days from account creation up to 1st booking\n",
    "df3['days_from_acc_until_booking'] = (df3['date_first_booking'] - df3['date_account_created']).apply(lambda x: x.days)\n",
    "\n",
    "#==== date first activation ====\n",
    "#day\n",
    "df3['day_first_activation'] = df3['date_first_activation'].dt.day\n",
    "#day of week\n",
    "df3['day_week_first_activation'] = df3['date_first_activation'].dt.dayofweek\n",
    "#month\n",
    "df3['month_first_activation'] = df3['date_first_activation'].dt.month\n",
    "#week of year\n",
    "df3['week_year_first_activation'] = df3['date_first_activation'].dt.isocalendar().week.astype('int64')\n",
    "#year\n",
    "df3['year_first_activation'] = df3['date_first_activation'].dt.year\n",
    "\n",
    "#==== date first booking ====\n",
    "#day\n",
    "df3['day_first_booking'] = df3['date_first_booking'].dt.day\n",
    "#day of week\n",
    "df3['day_week_first_booking'] = df3['date_first_booking'].dt.dayofweek\n",
    "#month\n",
    "df3['month_first_booking'] = df3['date_first_booking'].dt.month\n",
    "#week of year\n",
    "df3['week_year_first_booking'] = df3['date_first_booking'].dt.isocalendar().week.astype('int64')\n",
    "#year\n",
    "df3['year_first_booking'] = df3['date_first_booking'].dt.year\n",
    "\n",
    "#==== date first booking ====\n",
    "\n",
    "#day\n",
    "df3['day_acc_created'] = df3['date_account_created'].dt.day\n",
    "#day of week\n",
    "df3['day_week_acc_created'] = df3['date_account_created'].dt.dayofweek\n",
    "#month\n",
    "df3['month_acc_created'] = df3['date_account_created'].dt.month\n",
    "#week of year\n",
    "df3['week_year_acc_created'] = df3['date_account_created'].dt.isocalendar().week.astype('int64')\n",
    "#year\n",
    "df3['year_acc_created'] = df3['date_account_created'].dt.year\n"
   ]
  },
  {
   "cell_type": "markdown",
   "id": "826ada4c",
   "metadata": {},
   "source": [
    "# 4.0 Exploratory Data Analysis"
   ]
  },
  {
   "cell_type": "markdown",
   "id": "9898b0d6",
   "metadata": {},
   "source": [
    "# 5.0 Data Preparation"
   ]
  },
  {
   "cell_type": "code",
   "execution_count": 329,
   "id": "918e7a1d",
   "metadata": {
    "ExecuteTime": {
     "end_time": "2022-11-02T14:04:43.627936Z",
     "start_time": "2022-11-02T14:04:43.427756Z"
    }
   },
   "outputs": [],
   "source": [
    "df4 = df3.copy()"
   ]
  },
  {
   "cell_type": "code",
   "execution_count": 330,
   "id": "dbcadc36",
   "metadata": {
    "ExecuteTime": {
     "end_time": "2022-11-02T14:04:44.693562Z",
     "start_time": "2022-11-02T14:04:44.653191Z"
    }
   },
   "outputs": [],
   "source": [
    "#split dataset training/validation\n",
    "X = df4.drop(columns='country_destination')\n",
    "y = df4['country_destination'].copy()"
   ]
  },
  {
   "cell_type": "code",
   "execution_count": 331,
   "id": "cdf0c4fe",
   "metadata": {
    "ExecuteTime": {
     "end_time": "2022-11-02T14:04:46.659214Z",
     "start_time": "2022-11-02T14:04:46.454193Z"
    }
   },
   "outputs": [],
   "source": [
    "X.drop(columns='id',axis=1, inplace=True)\n",
    "\n",
    "aux= pd.get_dummies(X)\n",
    "\n",
    "X = pd.concat([df4['id'],aux],axis=1)"
   ]
  },
  {
   "cell_type": "code",
   "execution_count": 332,
   "id": "8cd42053",
   "metadata": {
    "ExecuteTime": {
     "end_time": "2022-11-02T14:04:48.363259Z",
     "start_time": "2022-11-02T14:04:48.208486Z"
    }
   },
   "outputs": [],
   "source": [
    "X_train, X_val, y_train, y_val = train_test_split(X,y, test_size=0.2, random_state=32)"
   ]
  },
  {
   "cell_type": "markdown",
   "id": "0b0847de",
   "metadata": {},
   "source": [
    "# 6.0 Feature Selection"
   ]
  },
  {
   "cell_type": "code",
   "execution_count": 333,
   "id": "3c65128d",
   "metadata": {
    "ExecuteTime": {
     "end_time": "2022-11-02T14:04:50.158398Z",
     "start_time": "2022-11-02T14:04:50.090967Z"
    }
   },
   "outputs": [],
   "source": [
    "cols_drop = ['id','date_account_created', 'timestamp_first_active', 'date_first_booking', 'date_first_activation']\n",
    "X_train = X_train.drop(cols_drop, axis=1)\n",
    "X_val = X_val.drop(cols_drop, axis=1)"
   ]
  },
  {
   "cell_type": "markdown",
   "id": "7e94bc73",
   "metadata": {},
   "source": [
    "# 7.0 ML Modeling"
   ]
  },
  {
   "cell_type": "markdown",
   "id": "110b20bd",
   "metadata": {},
   "source": [
    "### Baseline Model"
   ]
  },
  {
   "cell_type": "code",
   "execution_count": 334,
   "id": "57802c10",
   "metadata": {
    "ExecuteTime": {
     "end_time": "2022-11-02T14:04:54.583851Z",
     "start_time": "2022-11-02T14:04:54.551207Z"
    }
   },
   "outputs": [],
   "source": [
    "#build a random model - baseline\n",
    "\n",
    "#values to pick ramdomly\n",
    "country_dest_list = sorted(df4['country_destination'].unique())\n",
    "\n",
    "#classes presence\n",
    "target_weights = df4['country_destination'].value_counts(normalize=True).sort_index().to_list()\n",
    "\n",
    "#size \n",
    "k_num = y_val.shape[0]\n",
    "\n",
    "yhat_baseline = random.choices(population=country_dest_list, weights=target_weights, k=k_num)"
   ]
  },
  {
   "cell_type": "code",
   "execution_count": 335,
   "id": "ed6e777b",
   "metadata": {
    "ExecuteTime": {
     "end_time": "2022-11-02T14:04:57.096687Z",
     "start_time": "2022-11-02T14:04:56.034087Z"
    }
   },
   "outputs": [
    {
     "name": "stdout",
     "output_type": "stream",
     "text": [
      "Accuracy 0.35677592954990217\n",
      " Balanced Accuracy 0.08235563661440151\n",
      " Kappa score 0.000554795571508615\n",
      "              precision    recall  f1-score   support\n",
      "\n",
      "          AU       0.00      0.00      0.00        87\n",
      "          CA       0.02      0.02      0.02       216\n",
      "          DE       0.01      0.01      0.01       164\n",
      "          ES       0.01      0.01      0.01       319\n",
      "          FR       0.03      0.03      0.03       736\n",
      "          GB       0.01      0.01      0.01       361\n",
      "          IT       0.01      0.01      0.01       420\n",
      "         NDF       0.45      0.45      0.45     10962\n",
      "          NL       0.00      0.00      0.00       105\n",
      "          PT       0.00      0.00      0.00        31\n",
      "          US       0.39      0.39      0.39      9606\n",
      "       other       0.06      0.06      0.06      1521\n",
      "\n",
      "    accuracy                           0.36     24528\n",
      "   macro avg       0.08      0.08      0.08     24528\n",
      "weighted avg       0.36      0.36      0.36     24528\n",
      "\n"
     ]
    },
    {
     "data": {
      "image/png": "[encoded data removed]",
      "text/plain": [
       "<Figure size 640x480 with 2 Axes>"
      ]
     },
     "metadata": {},
     "output_type": "display_data"
    }
   ],
   "source": [
    "#acuracy\n",
    "acc_base = accuracy_score(y_val, yhat_baseline)\n",
    "print('Accuracy {}'.format(acc_base))\n",
    "\n",
    "#balanced accuracy\n",
    "balanced_acc_base = balanced_accuracy_score(y_val, yhat_baseline)\n",
    "print(' Balanced Accuracy {}'.format(balanced_acc_base))\n",
    "\n",
    "#Kappa score - estimators agreement\n",
    "kappa_base = cohen_kappa_score(y_val, yhat_baseline)\n",
    "print(' Kappa score {}'.format(kappa_base))\n",
    "\n",
    "#confusion matrix\n",
    "ConfusionMatrixDisplay.from_predictions(y_val, yhat_baseline, cmap='YlGnBu_r');\n",
    "\n",
    "#classification report\n",
    "print(classification_report(y_val, yhat_baseline))"
   ]
  },
  {
   "cell_type": "markdown",
   "id": "1f90c460",
   "metadata": {},
   "source": [
    "### 5.2 Neural Network MLP "
   ]
  },
  {
   "cell_type": "code",
   "execution_count": 336,
   "id": "d9ddc268",
   "metadata": {
    "ExecuteTime": {
     "end_time": "2022-11-02T14:05:02.248245Z",
     "start_time": "2022-11-02T14:05:02.204815Z"
    }
   },
   "outputs": [],
   "source": [
    "ohe = OneHotEncoder()\n",
    "y_train_nn = ohe.fit_transform(y_train.values.reshape(-1,1)).toarray()"
   ]
  },
  {
   "cell_type": "code",
   "execution_count": 337,
   "id": "2f58c6fc",
   "metadata": {
    "ExecuteTime": {
     "end_time": "2022-11-02T14:05:03.566067Z",
     "start_time": "2022-11-02T14:05:03.537312Z"
    }
   },
   "outputs": [
    {
     "name": "stdout",
     "output_type": "stream",
     "text": [
      "Number of Rows: 98108\n",
      "Number of Features: 138\n",
      "Number of Classes: 12\n"
     ]
    }
   ],
   "source": [
    "print( 'Number of Rows: {}'.format( X_train.shape[0] ) )\n",
    "print( 'Number of Features: {}'.format( X_train.shape[1] ) )\n",
    "print( 'Number of Classes: {}'.format( y_train.nunique() ) )"
   ]
  },
  {
   "cell_type": "code",
   "execution_count": 338,
   "id": "d12f2c7c",
   "metadata": {
    "ExecuteTime": {
     "end_time": "2022-11-02T14:14:04.082382Z",
     "start_time": "2022-11-02T14:05:23.457241Z"
    }
   },
   "outputs": [
    {
     "name": "stdout",
     "output_type": "stream",
     "text": [
      "Epoch 1/100\n",
      "3066/3066 [==============================] - 6s 2ms/step - loss: 5.3625 - accuracy: 0.7357\n",
      "Epoch 2/100\n",
      "3066/3066 [==============================] - 5s 2ms/step - loss: 1.9671 - accuracy: 0.7631\n",
      "Epoch 3/100\n",
      "3066/3066 [==============================] - 5s 2ms/step - loss: 1.1077 - accuracy: 0.7951\n",
      "Epoch 4/100\n",
      "3066/3066 [==============================] - 5s 2ms/step - loss: 0.8454 - accuracy: 0.8165\n",
      "Epoch 5/100\n",
      "3066/3066 [==============================] - 5s 2ms/step - loss: 0.7020 - accuracy: 0.8338\n",
      "Epoch 6/100\n",
      "3066/3066 [==============================] - 5s 2ms/step - loss: 0.6626 - accuracy: 0.8367\n",
      "Epoch 7/100\n",
      "3066/3066 [==============================] - 5s 2ms/step - loss: 0.6504 - accuracy: 0.8373\n",
      "Epoch 8/100\n",
      "3066/3066 [==============================] - 5s 2ms/step - loss: 0.6444 - accuracy: 0.8381\n",
      "Epoch 9/100\n",
      "3066/3066 [==============================] - 5s 2ms/step - loss: 0.6436 - accuracy: 0.8382\n",
      "Epoch 10/100\n",
      "3066/3066 [==============================] - 5s 2ms/step - loss: 0.6409 - accuracy: 0.8383\n",
      "Epoch 11/100\n",
      "3066/3066 [==============================] - 5s 2ms/step - loss: 0.6419 - accuracy: 0.8384\n",
      "Epoch 12/100\n",
      "3066/3066 [==============================] - 5s 2ms/step - loss: 0.6414 - accuracy: 0.8384\n",
      "Epoch 13/100\n",
      "3066/3066 [==============================] - 5s 2ms/step - loss: 0.6396 - accuracy: 0.8387\n",
      "Epoch 14/100\n",
      "3066/3066 [==============================] - 5s 2ms/step - loss: 0.6397 - accuracy: 0.8386\n",
      "Epoch 15/100\n",
      "3066/3066 [==============================] - 5s 2ms/step - loss: 0.6403 - accuracy: 0.8388\n",
      "Epoch 16/100\n",
      "3066/3066 [==============================] - 5s 2ms/step - loss: 0.6400 - accuracy: 0.8386\n",
      "Epoch 17/100\n",
      "3066/3066 [==============================] - 5s 2ms/step - loss: 0.6380 - accuracy: 0.8388\n",
      "Epoch 18/100\n",
      "3066/3066 [==============================] - 7s 2ms/step - loss: 0.6390 - accuracy: 0.8387\n",
      "Epoch 19/100\n",
      "3066/3066 [==============================] - 6s 2ms/step - loss: 0.6374 - accuracy: 0.8389\n",
      "Epoch 20/100\n",
      "3066/3066 [==============================] - 5s 2ms/step - loss: 0.6383 - accuracy: 0.8387\n",
      "Epoch 21/100\n",
      "3066/3066 [==============================] - 6s 2ms/step - loss: 0.6379 - accuracy: 0.8388\n",
      "Epoch 22/100\n",
      "3066/3066 [==============================] - 5s 2ms/step - loss: 0.6371 - accuracy: 0.8387\n",
      "Epoch 23/100\n",
      "3066/3066 [==============================] - 5s 2ms/step - loss: 0.6377 - accuracy: 0.8387\n",
      "Epoch 24/100\n",
      "3066/3066 [==============================] - 5s 2ms/step - loss: 0.6366 - accuracy: 0.8389\n",
      "Epoch 25/100\n",
      "3066/3066 [==============================] - 5s 2ms/step - loss: 0.6364 - accuracy: 0.8389\n",
      "Epoch 26/100\n",
      "3066/3066 [==============================] - 5s 2ms/step - loss: 0.6369 - accuracy: 0.8388\n",
      "Epoch 27/100\n",
      "3066/3066 [==============================] - 5s 2ms/step - loss: 0.6372 - accuracy: 0.8389\n",
      "Epoch 28/100\n",
      "3066/3066 [==============================] - 5s 2ms/step - loss: 0.6374 - accuracy: 0.8388\n",
      "Epoch 29/100\n",
      "3066/3066 [==============================] - 5s 2ms/step - loss: 0.6353 - accuracy: 0.8388\n",
      "Epoch 30/100\n",
      "3066/3066 [==============================] - 5s 2ms/step - loss: 0.6347 - accuracy: 0.8388\n",
      "Epoch 31/100\n",
      "3066/3066 [==============================] - 5s 2ms/step - loss: 0.6349 - accuracy: 0.8389\n",
      "Epoch 32/100\n",
      "3066/3066 [==============================] - 5s 2ms/step - loss: 0.6347 - accuracy: 0.8389\n",
      "Epoch 33/100\n",
      "3066/3066 [==============================] - 5s 2ms/step - loss: 0.6342 - accuracy: 0.8389\n",
      "Epoch 34/100\n",
      "3066/3066 [==============================] - 5s 2ms/step - loss: 0.6341 - accuracy: 0.8390\n",
      "Epoch 35/100\n",
      "3066/3066 [==============================] - 5s 2ms/step - loss: 0.6343 - accuracy: 0.8390\n",
      "Epoch 36/100\n",
      "3066/3066 [==============================] - 5s 2ms/step - loss: 0.6346 - accuracy: 0.8390\n",
      "Epoch 37/100\n",
      "3066/3066 [==============================] - 5s 2ms/step - loss: 0.6347 - accuracy: 0.8389\n",
      "Epoch 38/100\n",
      "3066/3066 [==============================] - 6s 2ms/step - loss: 0.6339 - accuracy: 0.8391\n",
      "Epoch 39/100\n",
      "3066/3066 [==============================] - 6s 2ms/step - loss: 0.6342 - accuracy: 0.8389\n",
      "Epoch 40/100\n",
      "3066/3066 [==============================] - 5s 2ms/step - loss: 0.6337 - accuracy: 0.8390\n",
      "Epoch 41/100\n",
      "3066/3066 [==============================] - 6s 2ms/step - loss: 0.6347 - accuracy: 0.8389\n",
      "Epoch 42/100\n",
      "3066/3066 [==============================] - 5s 2ms/step - loss: 0.6343 - accuracy: 0.8390\n",
      "Epoch 43/100\n",
      "3066/3066 [==============================] - 5s 2ms/step - loss: 0.6340 - accuracy: 0.8390\n",
      "Epoch 44/100\n",
      "3066/3066 [==============================] - 5s 2ms/step - loss: 0.6348 - accuracy: 0.8389\n",
      "Epoch 45/100\n",
      "3066/3066 [==============================] - 5s 2ms/step - loss: 0.6337 - accuracy: 0.8390\n",
      "Epoch 46/100\n",
      "3066/3066 [==============================] - 5s 2ms/step - loss: 0.6342 - accuracy: 0.8390\n",
      "Epoch 47/100\n",
      "3066/3066 [==============================] - 5s 2ms/step - loss: 0.6340 - accuracy: 0.8390\n",
      "Epoch 48/100\n",
      "3066/3066 [==============================] - 5s 2ms/step - loss: 0.6339 - accuracy: 0.8391\n",
      "Epoch 49/100\n",
      "3066/3066 [==============================] - 5s 2ms/step - loss: 0.6341 - accuracy: 0.8390\n",
      "Epoch 50/100\n",
      "3066/3066 [==============================] - 5s 2ms/step - loss: 0.6334 - accuracy: 0.8391\n",
      "Epoch 51/100\n",
      "3066/3066 [==============================] - 5s 2ms/step - loss: 0.6337 - accuracy: 0.8390\n",
      "Epoch 52/100\n",
      "3066/3066 [==============================] - 5s 2ms/step - loss: 0.6339 - accuracy: 0.8390\n",
      "Epoch 53/100\n",
      "3066/3066 [==============================] - 5s 2ms/step - loss: 0.6336 - accuracy: 0.8391\n",
      "Epoch 54/100\n",
      "3066/3066 [==============================] - 5s 2ms/step - loss: 0.6339 - accuracy: 0.8390\n",
      "Epoch 55/100\n",
      "3066/3066 [==============================] - 5s 2ms/step - loss: 0.6335 - accuracy: 0.8391\n",
      "Epoch 56/100\n",
      "3066/3066 [==============================] - 5s 2ms/step - loss: 0.6337 - accuracy: 0.8390\n",
      "Epoch 57/100\n",
      "3066/3066 [==============================] - 5s 2ms/step - loss: 0.6337 - accuracy: 0.8390\n",
      "Epoch 58/100\n",
      "3066/3066 [==============================] - 6s 2ms/step - loss: 0.6339 - accuracy: 0.8391\n",
      "Epoch 59/100\n",
      "3066/3066 [==============================] - 6s 2ms/step - loss: 0.6348 - accuracy: 0.8390\n",
      "Epoch 60/100\n",
      "3066/3066 [==============================] - 5s 2ms/step - loss: 0.6335 - accuracy: 0.8391\n",
      "Epoch 61/100\n",
      "3066/3066 [==============================] - 6s 2ms/step - loss: 0.6332 - accuracy: 0.8391\n",
      "Epoch 62/100\n",
      "3066/3066 [==============================] - 6s 2ms/step - loss: 0.6337 - accuracy: 0.8391\n",
      "Epoch 63/100\n",
      "3066/3066 [==============================] - 6s 2ms/step - loss: 0.6340 - accuracy: 0.8390\n",
      "Epoch 64/100\n",
      "3066/3066 [==============================] - 5s 2ms/step - loss: 0.6342 - accuracy: 0.8390\n",
      "Epoch 65/100\n",
      "3066/3066 [==============================] - 5s 2ms/step - loss: 0.6344 - accuracy: 0.8390\n",
      "Epoch 66/100\n",
      "3066/3066 [==============================] - 5s 2ms/step - loss: 0.6332 - accuracy: 0.8391\n",
      "Epoch 67/100\n",
      "3066/3066 [==============================] - 5s 2ms/step - loss: 0.6338 - accuracy: 0.8390\n",
      "Epoch 68/100\n",
      "3066/3066 [==============================] - 5s 2ms/step - loss: 0.6333 - accuracy: 0.8392\n",
      "Epoch 69/100\n",
      "3066/3066 [==============================] - 5s 2ms/step - loss: 0.6350 - accuracy: 0.8389\n",
      "Epoch 70/100\n",
      "3066/3066 [==============================] - 5s 2ms/step - loss: 0.6337 - accuracy: 0.8390\n",
      "Epoch 71/100\n",
      "3066/3066 [==============================] - 5s 2ms/step - loss: 0.6336 - accuracy: 0.8391\n",
      "Epoch 72/100\n",
      "3066/3066 [==============================] - 5s 2ms/step - loss: 0.6345 - accuracy: 0.8390\n",
      "Epoch 73/100\n",
      "3066/3066 [==============================] - 5s 2ms/step - loss: 0.6336 - accuracy: 0.8391\n",
      "Epoch 74/100\n",
      "3066/3066 [==============================] - 5s 2ms/step - loss: 0.6363 - accuracy: 0.8388\n",
      "Epoch 75/100\n",
      "3066/3066 [==============================] - 6s 2ms/step - loss: 0.6333 - accuracy: 0.8391\n",
      "Epoch 76/100\n",
      "3066/3066 [==============================] - 6s 2ms/step - loss: 0.6333 - accuracy: 0.8391\n",
      "Epoch 77/100\n",
      "3066/3066 [==============================] - 6s 2ms/step - loss: 0.6339 - accuracy: 0.8390\n",
      "Epoch 78/100\n",
      "3066/3066 [==============================] - 5s 2ms/step - loss: 0.6335 - accuracy: 0.8391\n",
      "Epoch 79/100\n"
     ]
    },
    {
     "name": "stdout",
     "output_type": "stream",
     "text": [
      "3066/3066 [==============================] - 5s 2ms/step - loss: 0.6337 - accuracy: 0.8390\n",
      "Epoch 80/100\n",
      "3066/3066 [==============================] - 5s 2ms/step - loss: 0.6334 - accuracy: 0.8391\n",
      "Epoch 81/100\n",
      "3066/3066 [==============================] - 5s 2ms/step - loss: 0.6340 - accuracy: 0.8390\n",
      "Epoch 82/100\n",
      "3066/3066 [==============================] - 6s 2ms/step - loss: 0.6334 - accuracy: 0.8391\n",
      "Epoch 83/100\n",
      "3066/3066 [==============================] - 6s 2ms/step - loss: 0.6336 - accuracy: 0.8391\n",
      "Epoch 84/100\n",
      "3066/3066 [==============================] - 5s 2ms/step - loss: 0.6335 - accuracy: 0.8391\n",
      "Epoch 85/100\n",
      "3066/3066 [==============================] - 5s 2ms/step - loss: 0.6332 - accuracy: 0.8391\n",
      "Epoch 86/100\n",
      "3066/3066 [==============================] - 5s 2ms/step - loss: 0.6335 - accuracy: 0.8391\n",
      "Epoch 87/100\n",
      "3066/3066 [==============================] - 5s 2ms/step - loss: 0.6336 - accuracy: 0.8391\n",
      "Epoch 88/100\n",
      "3066/3066 [==============================] - 5s 2ms/step - loss: 0.6338 - accuracy: 0.8390\n",
      "Epoch 89/100\n",
      "3066/3066 [==============================] - 5s 2ms/step - loss: 0.6345 - accuracy: 0.8390\n",
      "Epoch 90/100\n",
      "3066/3066 [==============================] - 5s 2ms/step - loss: 0.6333 - accuracy: 0.8391\n",
      "Epoch 91/100\n",
      "3066/3066 [==============================] - 6s 2ms/step - loss: 0.6335 - accuracy: 0.8391\n",
      "Epoch 92/100\n",
      "3066/3066 [==============================] - 5s 2ms/step - loss: 0.6336 - accuracy: 0.8391\n",
      "Epoch 93/100\n",
      "3066/3066 [==============================] - 5s 2ms/step - loss: 0.6336 - accuracy: 0.8390\n",
      "Epoch 94/100\n",
      "3066/3066 [==============================] - 5s 2ms/step - loss: 0.6334 - accuracy: 0.8392\n",
      "Epoch 95/100\n",
      "3066/3066 [==============================] - 5s 2ms/step - loss: 0.6347 - accuracy: 0.8389\n",
      "Epoch 96/100\n",
      "3066/3066 [==============================] - 5s 2ms/step - loss: 0.6332 - accuracy: 0.8392\n",
      "Epoch 97/100\n",
      "3066/3066 [==============================] - 5s 2ms/step - loss: 0.6337 - accuracy: 0.8391\n",
      "Epoch 98/100\n",
      "3066/3066 [==============================] - 5s 2ms/step - loss: 0.6338 - accuracy: 0.8391\n",
      "Epoch 99/100\n",
      "3066/3066 [==============================] - 6s 2ms/step - loss: 0.6333 - accuracy: 0.8391\n",
      "Epoch 100/100\n",
      "3066/3066 [==============================] - 6s 2ms/step - loss: 0.6335 - accuracy: 0.8391\n"
     ]
    }
   ],
   "source": [
    "#model definition\n",
    "model = ml.Sequential()\n",
    "\n",
    "#1st layer\n",
    "model.add(l.Dense(256, input_dim=X_train.shape[1], activation='relu'))\n",
    "\n",
    "#output layer\n",
    "model.add(l.Dense(12, activation='softmax'))\n",
    "          \n",
    "#model compile\n",
    "model.compile(loss='categorical_crossentropy',optimizer='adam', metrics=['accuracy'])\n",
    "          \n",
    "#train model\n",
    "model.fit(X_train,y_train_nn, epochs=100)\n",
    "\n",
    "#prediction\n",
    "pred_nn = model.predict(X_val)\n",
    "\n",
    "#invert prediction\n",
    "yhat_nn = ohe.inverse_transform(pred_nn) \n",
    "\n",
    "#prediction prepare\n",
    "y_val_nn = y_val.to_numpy()\n",
    "yhat_nn = yhat_nn.reshape(1,-1)[0]"
   ]
  },
  {
   "cell_type": "markdown",
   "id": "8d571c7b",
   "metadata": {},
   "source": [
    "### 5.2.1 NN Performance"
   ]
  },
  {
   "cell_type": "code",
   "execution_count": 339,
   "id": "05246310",
   "metadata": {
    "ExecuteTime": {
     "end_time": "2022-11-02T14:14:19.100937Z",
     "start_time": "2022-11-02T14:14:17.879534Z"
    }
   },
   "outputs": [
    {
     "name": "stdout",
     "output_type": "stream",
     "text": [
      "Accuracy 0.8377364644487932\n",
      " Balanced Accuracy 0.1664931639947255\n",
      " Kappa score 0.7219610673311159\n",
      "              precision    recall  f1-score   support\n",
      "\n",
      "          AU       0.00      0.00      0.00        87\n",
      "          CA       0.00      0.00      0.00       216\n",
      "          DE       0.00      0.00      0.00       164\n",
      "          ES       0.00      0.00      0.00       319\n",
      "          FR       0.00      0.00      0.00       736\n",
      "          GB       0.00      0.00      0.00       361\n",
      "          IT       0.00      0.00      0.00       420\n",
      "         NDF       1.00      1.00      1.00     10962\n",
      "          NL       0.00      0.00      0.00       105\n",
      "          PT       0.00      0.00      0.00        31\n",
      "          US       0.71      1.00      0.83      9606\n",
      "       other       0.00      0.00      0.00      1521\n",
      "\n",
      "    accuracy                           0.84     24528\n",
      "   macro avg       0.14      0.17      0.15     24528\n",
      "weighted avg       0.72      0.84      0.77     24528\n",
      "\n"
     ]
    },
    {
     "data": {
      "image/png": "[encoded data removed]",
      "text/plain": [
       "<Figure size 640x480 with 2 Axes>"
      ]
     },
     "metadata": {},
     "output_type": "display_data"
    }
   ],
   "source": [
    "#acuracy\n",
    "acc_nn = accuracy_score(y_val_nn, yhat_nn)\n",
    "print('Accuracy {}'.format(acc_nn))\n",
    "\n",
    "#balanced accuracy\n",
    "balanced_acc_nn = balanced_accuracy_score(y_val_nn, yhat_nn)\n",
    "print(' Balanced Accuracy {}'.format(balanced_acc_nn))\n",
    "\n",
    "#Kappa score - estimators agreement\n",
    "kappa = cohen_kappa_score(y_val_nn, yhat_nn)\n",
    "print(' Kappa score {}'.format(kappa))\n",
    "\n",
    "#confusion matrix\n",
    "ConfusionMatrixDisplay.from_predictions(y_val_nn, yhat_nn, cmap='YlGnBu_r');\n",
    "\n",
    "#classification report\n",
    "print(classification_report(y_val_nn, yhat_nn))"
   ]
  },
  {
   "cell_type": "markdown",
   "id": "84c82837",
   "metadata": {},
   "source": [
    "### 5.2.1 NN Performance - Cross validation"
   ]
  },
  {
   "cell_type": "code",
   "execution_count": 341,
   "id": "f066b1c9",
   "metadata": {
    "ExecuteTime": {
     "end_time": "2022-11-02T14:44:37.696501Z",
     "start_time": "2022-11-02T14:14:56.480083Z"
    }
   },
   "outputs": [
    {
     "name": "stdout",
     "output_type": "stream",
     "text": [
      "Fold 1/5\n",
      "Fold 2/5\n",
      "Fold 3/5\n",
      "Fold 4/5\n",
      "Fold 5/5\n"
     ]
    }
   ],
   "source": [
    "#generate k-fold\n",
    "n_folds=5\n",
    "kfold = StratifiedKFold(n_splits=n_folds, shuffle=True,random_state=32)\n",
    "balanced_acc_list = []\n",
    "kappa_list = []\n",
    "i=1\n",
    "\n",
    "for train_ix, val_ix in kfold.split(X_train, y_train):\n",
    "\n",
    "    print('Fold {}/{}'.format(i,n_folds))\n",
    "    \n",
    "    #define fold\n",
    "    X_train_cv = X_train.iloc[train_ix]\n",
    "    y_train_cv = y_train.iloc[train_ix]\n",
    "\n",
    "    X_val_cv = X_train.iloc[val_ix]\n",
    "    y_val_cv = y_train.iloc[val_ix]\n",
    "\n",
    "\n",
    "    #target one-hot encoding\n",
    "    ohe = OneHotEncoder()\n",
    "    y_train_cv_nn = ohe.fit_transform(y_train_cv.values.reshape(-1,1)).toarray()\n",
    "    \n",
    "    \n",
    "    #model definition\n",
    "    model = ml.Sequential()\n",
    "    model.add(l.Dense( 256, input_dim=X_train_cv.shape[1], activation='relu'))\n",
    "    model.add(l.Dense(12, activation='softmax' ))\n",
    "\n",
    "    #compile model\n",
    "    model.compile(loss='categorical_crossentropy', optimizer='adam', metrics=['accuracy'])\n",
    "\n",
    "    #training model\n",
    "    model.fit(X_train_cv, y_train_cv_nn, epochs=100, batch_size=32, verbose=0)\n",
    "\n",
    "    #prediction\n",
    "    pred_nn_cv = model.predict(X_val_cv)\n",
    "    yhat_nn_cv = ohe.inverse_transform(pred_nn_cv)\n",
    "    \n",
    "    y_val_nn_cv = y_val_cv.to_numpy()\n",
    "    yhat_nn_cv = yhat_nn_cv.reshape(1,-1)[0]\n",
    "    \n",
    "    #balanced accuracy\n",
    "    balanced_acc_nn = balanced_accuracy_score(y_val_nn_cv, yhat_nn_cv)\n",
    "    balanced_acc_list.append(balanced_acc_nn)\n",
    "    \n",
    "    #Kappa score - estimators agreement\n",
    "    kappa = cohen_kappa_score(y_val_nn_cv, yhat_nn_cv)\n",
    "    kappa_list.append(kappa)\n",
    "    \n",
    "    i+=1\n"
   ]
  },
  {
   "cell_type": "code",
   "execution_count": 342,
   "id": "f975228e",
   "metadata": {
    "ExecuteTime": {
     "end_time": "2022-11-02T14:44:45.571683Z",
     "start_time": "2022-11-02T14:44:45.532067Z"
    }
   },
   "outputs": [
    {
     "name": "stdout",
     "output_type": "stream",
     "text": [
      "Balanced Accuracy after 5 K-Folds CV is 0.17 ± 0.0\n",
      "Kappa Score after 5 K-Folds CV is 0.7243 ± 0.0001\n"
     ]
    }
   ],
   "source": [
    "print('Balanced Accuracy after {} K-Folds CV is {} ± {}'.format(n_folds, np.round(np.mean(balanced_acc_list),2), \n",
    "                                                                         np.round(np.std(balanced_acc_list),4)))\n",
    "print('Kappa Score after {} K-Folds CV is {} ± {}'.format(n_folds, np.round(np.mean(kappa_list),4), \n",
    "                                                                         np.round(np.std(kappa_list),4)))"
   ]
  },
  {
   "cell_type": "code",
   "execution_count": null,
   "id": "e678976f",
   "metadata": {},
   "outputs": [],
   "source": []
  }
 ],
 "metadata": {
  "kernelspec": {
   "display_name": "Python 3 (ipykernel)",
   "language": "python",
   "name": "python3"
  },
  "language_info": {
   "codemirror_mode": {
    "name": "ipython",
    "version": 3
   },
   "file_extension": ".py",
   "mimetype": "text/x-python",
   "name": "python",
   "nbconvert_exporter": "python",
   "pygments_lexer": "ipython3",
   "version": "3.9.13"
  },
  "varInspector": {
   "cols": {
    "lenName": 16,
    "lenType": 16,
    "lenVar": 40
   },
   "kernels_config": {
    "python": {
     "delete_cmd_postfix": "",
     "delete_cmd_prefix": "del ",
     "library": "var_list.py",
     "varRefreshCmd": "print(var_dic_list())"
    },
    "r": {
     "delete_cmd_postfix": ") ",
     "delete_cmd_prefix": "rm(",
     "library": "var_list.r",
     "varRefreshCmd": "cat(var_dic_list()) "
    }
   },
   "types_to_exclude": [
    "module",
    "function",
    "builtin_function_or_method",
    "instance",
    "_Feature"
   ],
   "window_display": false
  }
 },
 "nbformat": 4,
 "nbformat_minor": 5
}
