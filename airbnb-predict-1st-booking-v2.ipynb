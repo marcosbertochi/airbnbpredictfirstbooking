{
 "cells": [
  {
   "cell_type": "markdown",
   "id": "a68ad190",
   "metadata": {
    "heading_collapsed": true
   },
   "source": [
    "# Business Problem"
   ]
  },
  {
   "cell_type": "markdown",
   "id": "120d8870",
   "metadata": {
    "hidden": true
   },
   "source": [
    "## A) Business Situation"
   ]
  },
  {
   "cell_type": "markdown",
   "id": "405c7af8",
   "metadata": {
    "hidden": true
   },
   "source": [
    "(Kaggle description) Instead of waking to overlooked \"Do not disturb\" signs, Airbnb travelers find themselves rising with the birds min a whimsical treehouse, having their morning coffee on the deck of a houseboat, or cooking a shared regional breakfast with their hosts. New users on Airbnb can book a place to stay in 34,000+ cities across 190+ countries. By accurately predicting where a new user will book their first travel experience, Airbnb can share more personalized content with their community, decrease the average time to first booking, and better forecast demand.\n",
    "\n",
    "    -- Business Problem (open question): What's the target destination for the 1st booking of new users?"
   ]
  },
  {
   "cell_type": "markdown",
   "id": "65eab2d9",
   "metadata": {
    "hidden": true
   },
   "source": [
    "## B) Business Understanding"
   ]
  },
  {
   "cell_type": "markdown",
   "id": "14ea2b5b",
   "metadata": {
    "hidden": true
   },
   "source": [
    "    -- Which business model Airbnb operates? \n",
    "        -- Marketplace - conect people which offer acomodation to people searching for it)\n",
    "            -- Supply (people offering accomodation)\n",
    "                -- Portfolio size\n",
    "                -- Portfolio density\n",
    "                -- Average price\n",
    "                \n",
    "            -- Demand (people seeking accomodation)\n",
    "                -- Users quantity\n",
    "                -- LTV (Lifetime value)\n",
    "                -- CAC (customer acquisition cost)\n",
    "            -- Gross Revenue = (Fee * Customer Qty) - CAC \n",
    "    \n",
    "    -- Objective: \n",
    "        -- Predict the destination choice for new users (1st booking)\n",
    "        -- Motivation: Antecipate new users choice in order to offer most assertive ads\n",
    "        -- Root Cause: Increase gross revenue (through cheaper CAC)\n",
    "        -- Scope (Closed afirmation)\n",
    "        -- Stakeholder: CFO/CEO"
   ]
  },
  {
   "cell_type": "markdown",
   "id": "17103a8a",
   "metadata": {
    "hidden": true
   },
   "source": [
    "#### Solution Planning"
   ]
  },
  {
   "cell_type": "markdown",
   "id": "c5c2e73f",
   "metadata": {
    "hidden": true
   },
   "source": [
    "Solution Overview:\n",
    "Kind problem: City destination prediction\n",
    "Potential methods: Classification\n",
    "Output: \n",
    "Steps:\n",
    "Inputs:\n",
    "    -- Solution proposal:\n",
    "        -- Machine Learning model in order to predict 1st AirBnB destination\n",
    "        -- API:\n",
    "            -- Input: user + characteristics\n",
    "            -- Output: user + characteristics + destination prediction\n",
    "\n"
   ]
  },
  {
   "cell_type": "markdown",
   "id": "29a10c4e",
   "metadata": {
    "hidden": true
   },
   "source": [
    "    -- C) Insights\n",
    "    -- D) Business Results\n",
    "    -- E) Conclusions (Objectives attained? Problem Solved?)\n",
    "    -- F) Next Steps\n",
    "    -- G) Lessons Learned\n"
   ]
  },
  {
   "cell_type": "markdown",
   "id": "944e012b",
   "metadata": {
    "hidden": true
   },
   "source": [
    "### Data Fields"
   ]
  },
  {
   "cell_type": "markdown",
   "id": "1d64c02f",
   "metadata": {
    "hidden": true
   },
   "source": [
    "Is given a list of users along with their demographics, web session records, and some summary statistics. You are asked to predict which country a new user's first booking destination will be. All the users in this dataset are from the USA. There are 12 possible outcomes of the destination country: 'US', 'FR', 'CA', 'GB', 'ES', 'IT', 'PT', 'NL','DE', 'AU', 'NDF' (no destination found), and 'other'. Please note that 'NDF' is different from 'other' because 'other' means there was a booking, but is to a country not included in the list, while 'NDF' means there wasn't a booking.\n",
    "\n",
    "File descriptions\n",
    "train_users.csv - the training set of users\n",
    "\n",
    "test_users.csv - the test set of users\n",
    "\n",
    "    -- id: user id\n",
    "    -- date_account_created: the date of account creation\n",
    "    --- timestamp_first_active: timestamp of the first activity, note that it can be earlier than date_account_created or date_first_booking because a user can search before signing up\n",
    "    -- date_first_booking: date of first booking\n",
    "    -- gender\n",
    "    -- age\n",
    "    -- signup_method\n",
    "    -- signup_flow: the page a user came to signup up from\n",
    "    -- language: international language preference\n",
    "    -- affiliate_channel: what kind of paid marketing\n",
    "    -- affiliate_provider: where the marketing is e.g. google, craigslist, other\n",
    "    -- first_affiliate_tracked: whats the first marketing the user interacted with before the signing up\n",
    "    -- signup_app\n",
    "    -- first_device_type\n",
    "    -- first_browser\n",
    "    -- country_destination: this is the target variable you are to predict\n",
    "\n",
    "sessions.csv - web sessions log for users\n",
    "    -- user_id: to be joined with the column 'id' in users table\n",
    "    -- action\n",
    "    -- action_type\n",
    "    -- action_detail\n",
    "    -- device_type\n",
    "    -- secs_elapsed\n",
    "\n",
    "countries.csv - summary statistics of destination countries in this dataset and their locations\n",
    "\n",
    "age_gender_bkts.csv - summary statistics of users' age group, gender, country of destination\n",
    "\n",
    "sample_submission.csv - correct format for submitting your predictions"
   ]
  },
  {
   "cell_type": "markdown",
   "id": "5aa592e3",
   "metadata": {
    "heading_collapsed": true
   },
   "source": [
    "# 0. Imports"
   ]
  },
  {
   "cell_type": "code",
   "execution_count": 1,
   "id": "aec3495e",
   "metadata": {
    "ExecuteTime": {
     "end_time": "2022-11-04T14:49:26.600575Z",
     "start_time": "2022-11-04T14:49:19.162909Z"
    },
    "hidden": true
   },
   "outputs": [],
   "source": [
    "import pandas as pd\n",
    "import numpy as np\n",
    "import seaborn as sns\n",
    "import random\n",
    "import warnings\n",
    "warnings.filterwarnings('ignore')\n",
    "\n",
    "from scipy                   import stats\n",
    "from sklearn.model_selection import train_test_split, StratifiedKFold\n",
    "from sklearn.preprocessing   import OneHotEncoder\n",
    "from sklearn.metrics         import accuracy_score,balanced_accuracy_score, cohen_kappa_score, classification_report, ConfusionMatrixDisplay\n",
    "from imblearn                import under_sampling as us\n",
    "from imblearn                import over_sampling as ovs\n",
    "from imblearn                import combine as c\n",
    "\n",
    "\n",
    "from keras import models as ml\n",
    "from keras import layers as l"
   ]
  },
  {
   "cell_type": "markdown",
   "id": "81111e1e",
   "metadata": {
    "ExecuteTime": {
     "end_time": "2022-10-24T11:06:03.335707Z",
     "start_time": "2022-10-24T11:06:03.327378Z"
    },
    "hidden": true
   },
   "source": [
    "### 0.1 Helper Functions"
   ]
  },
  {
   "cell_type": "code",
   "execution_count": 2,
   "id": "e947942a",
   "metadata": {
    "ExecuteTime": {
     "end_time": "2022-11-04T14:49:26.616488Z",
     "start_time": "2022-11-04T14:49:26.602525Z"
    },
    "hidden": true
   },
   "outputs": [],
   "source": [
    "def outlier_detection(data, column):\n",
    "    \n",
    "    q1 = np.percentile(data[column], 25)\n",
    "    q3 = np.percentile(data[column], 75)\n",
    "    \n",
    "    iqr = q3 - q1\n",
    "\n",
    "    lo_lim = q1 - 1.5*iqr\n",
    "    up_lim = q3 + 1.5*iqr\n",
    "    \n",
    "    outliers = [x for x in data[column] if (x > up_lim) | (x<lo_lim)]\n",
    "    \n",
    "    return sorted(outliers)\n",
    "\n",
    "def cramer_v( x, y ):\n",
    "    cm = pd.crosstab( x, y ).values\n",
    "    n = cm.sum()\n",
    "    r, k = cm.shape\n",
    "\n",
    "    chi2 = stats.chi2_contingency( cm )[0]\n",
    "    chi2corr = max( 0, chi2 - (k-1)*(r-1)/(n-1) )\n",
    "\n",
    "    kcorr = k - (k-1)**2/(n-1)\n",
    "    rcorr = r - (r-1)**2/(n-1)\n",
    "    return np.sqrt( (chi2corr/n) / ( min( kcorr-1, rcorr-1 ) ) )"
   ]
  },
  {
   "cell_type": "markdown",
   "id": "97baffb6",
   "metadata": {
    "hidden": true
   },
   "source": [
    "### 0.2 Loading Data"
   ]
  },
  {
   "cell_type": "code",
   "execution_count": 3,
   "id": "3481fe87",
   "metadata": {
    "ExecuteTime": {
     "end_time": "2022-11-04T14:49:27.003642Z",
     "start_time": "2022-11-04T14:49:26.617408Z"
    },
    "hidden": true
   },
   "outputs": [
    {
     "name": "stdout",
     "output_type": "stream",
     "text": [
      "The train_users dataset contains 16 columns and 213451 rows\n"
     ]
    }
   ],
   "source": [
    "# in this case, we will proceed with 2 separated datasets and deal with issues then we will decide the granularity to merge\n",
    "df_raw = pd.read_csv('dataset/train_users.csv')\n",
    "df_raw.shape\n",
    "print('The train_users dataset contains {} columns and {} rows'.format(df_raw.shape[1], df_raw.shape[0]))"
   ]
  },
  {
   "cell_type": "code",
   "execution_count": 4,
   "id": "21fe5904",
   "metadata": {
    "ExecuteTime": {
     "end_time": "2022-11-04T14:49:32.921662Z",
     "start_time": "2022-11-04T14:49:27.005524Z"
    },
    "hidden": true
   },
   "outputs": [
    {
     "name": "stdout",
     "output_type": "stream",
     "text": [
      "The sessions dataset contains 6 columns and 10567737 rows\n"
     ]
    }
   ],
   "source": [
    "df_sessions = pd.read_csv('dataset/sessions.csv')\n",
    "df_sessions.shape\n",
    "print('The sessions dataset contains {} columns and {} rows'.format(df_sessions.shape[1], df_sessions.shape[0]))"
   ]
  },
  {
   "cell_type": "markdown",
   "id": "94f7997d",
   "metadata": {
    "heading_collapsed": true
   },
   "source": [
    "# 1. Data Description"
   ]
  },
  {
   "cell_type": "code",
   "execution_count": 5,
   "id": "8a5316b4",
   "metadata": {
    "ExecuteTime": {
     "end_time": "2022-11-04T14:49:32.952518Z",
     "start_time": "2022-11-04T14:49:32.925403Z"
    },
    "hidden": true
   },
   "outputs": [],
   "source": [
    "df1 = df_raw.copy()"
   ]
  },
  {
   "cell_type": "markdown",
   "id": "cf0a5989",
   "metadata": {
    "hidden": true
   },
   "source": [
    "## 1.1 NAs Check "
   ]
  },
  {
   "cell_type": "code",
   "execution_count": 6,
   "id": "aefd47f4",
   "metadata": {
    "ExecuteTime": {
     "end_time": "2022-11-04T14:49:33.260932Z",
     "start_time": "2022-11-04T14:49:32.954020Z"
    },
    "hidden": true
   },
   "outputs": [
    {
     "data": {
      "text/plain": [
       "id                         0.000000\n",
       "date_account_created       0.000000\n",
       "timestamp_first_active     0.000000\n",
       "date_first_booking         0.583473\n",
       "gender                     0.000000\n",
       "age                        0.412226\n",
       "signup_method              0.000000\n",
       "signup_flow                0.000000\n",
       "language                   0.000000\n",
       "affiliate_channel          0.000000\n",
       "affiliate_provider         0.000000\n",
       "first_affiliate_tracked    0.028414\n",
       "signup_app                 0.000000\n",
       "first_device_type          0.000000\n",
       "first_browser              0.000000\n",
       "country_destination        0.000000\n",
       "dtype: float64"
      ]
     },
     "execution_count": 6,
     "metadata": {},
     "output_type": "execute_result"
    }
   ],
   "source": [
    "#users dataset\n",
    "df1.isna().sum() / df1.shape[0]"
   ]
  },
  {
   "cell_type": "code",
   "execution_count": 7,
   "id": "56a1f018",
   "metadata": {
    "ExecuteTime": {
     "end_time": "2022-11-04T14:49:38.961764Z",
     "start_time": "2022-11-04T14:49:33.263370Z"
    },
    "hidden": true
   },
   "outputs": [
    {
     "data": {
      "text/plain": [
       "user_id          0.003264\n",
       "action           0.007535\n",
       "action_type      0.106570\n",
       "action_detail    0.106570\n",
       "device_type      0.000000\n",
       "secs_elapsed     0.012872\n",
       "dtype: float64"
      ]
     },
     "execution_count": 7,
     "metadata": {},
     "output_type": "execute_result"
    }
   ],
   "source": [
    "#sessions dataset\n",
    "df_sessions.isna().sum()/df_sessions.shape[0]"
   ]
  },
  {
   "cell_type": "markdown",
   "id": "337454ae",
   "metadata": {
    "hidden": true
   },
   "source": [
    "### 1.1.1 Dealing NAs"
   ]
  },
  {
   "cell_type": "code",
   "execution_count": 8,
   "id": "1dc90ffc",
   "metadata": {
    "ExecuteTime": {
     "end_time": "2022-11-04T14:49:46.216863Z",
     "start_time": "2022-11-04T14:49:38.962774Z"
    },
    "hidden": true
   },
   "outputs": [],
   "source": [
    "# =================== USERS DATASET ==================\n",
    "\n",
    "#date_first_booking - 58% NAs - 100% in 'NDF' => solution: business knowledge (assumption)\n",
    "max_date_1st_booking = pd.to_datetime(df1['date_first_booking']).max().strftime('%Y-%m-%d')\n",
    "df1['date_first_booking'] = df1['date_first_booking'].fillna(max_date_1st_booking)\n",
    "\n",
    "#age - 42% NAs in many classes - data normaly distributed => solution: input stastics (mean)\n",
    "#Assumption: there isnt ppl under 15 and over 120 able to make a booking Outliers removal not appliable - could remove valid entries\n",
    "df1 = df1[(df1['age']>15)&(df1['age']<120)]\n",
    "avg_age = df1['age'].mean()\n",
    "df1['age'] = df1['age'].fillna(avg_age)\n",
    "\n",
    "#first_affiliate tracked - 2% NAs => solution: categorical data, 2% drop\n",
    "df1 = df1[~df1['first_affiliate_tracked'].isna()]\n",
    "\n",
    "# =================== SESSIONS DATASET ==================\n",
    "#user_id - 0,3% NAs\n",
    "df_sessions = df_sessions[~df_sessions['user_id'].isna()]\n",
    "\n",
    "#action - 0,7% NAs => 100% NA are 'message_post'\n",
    "df_sessions = df_sessions[~df_sessions['action'].isna()]\n",
    "\n",
    "#action_type / action_detail - 10,6% NAs each\n",
    "df_sessions = df_sessions[~df_sessions['action_type'].isna()]\n",
    "df_sessions = df_sessions[~df_sessions['action_detail'].isna()]\n",
    "\n",
    "#secs_elapsed - 1,2% NAs\n",
    "df_sessions = df_sessions[~df_sessions['secs_elapsed'].isna()]"
   ]
  },
  {
   "cell_type": "code",
   "execution_count": 9,
   "id": "4bf3990c",
   "metadata": {
    "ExecuteTime": {
     "end_time": "2022-11-04T14:49:46.340548Z",
     "start_time": "2022-11-04T14:49:46.218955Z"
    },
    "hidden": true
   },
   "outputs": [
    {
     "data": {
      "text/plain": [
       "id                         0.0\n",
       "date_account_created       0.0\n",
       "timestamp_first_active     0.0\n",
       "date_first_booking         0.0\n",
       "gender                     0.0\n",
       "age                        0.0\n",
       "signup_method              0.0\n",
       "signup_flow                0.0\n",
       "language                   0.0\n",
       "affiliate_channel          0.0\n",
       "affiliate_provider         0.0\n",
       "first_affiliate_tracked    0.0\n",
       "signup_app                 0.0\n",
       "first_device_type          0.0\n",
       "first_browser              0.0\n",
       "country_destination        0.0\n",
       "dtype: float64"
      ]
     },
     "execution_count": 9,
     "metadata": {},
     "output_type": "execute_result"
    }
   ],
   "source": [
    "#users dataset NAs treatment done\n",
    "df1.isna().sum() / df1.shape[0]"
   ]
  },
  {
   "cell_type": "code",
   "execution_count": 10,
   "id": "23d57e8a",
   "metadata": {
    "ExecuteTime": {
     "end_time": "2022-11-04T14:49:49.895026Z",
     "start_time": "2022-11-04T14:49:46.344461Z"
    },
    "hidden": true
   },
   "outputs": [
    {
     "data": {
      "text/plain": [
       "user_id          0.0\n",
       "action           0.0\n",
       "action_type      0.0\n",
       "action_detail    0.0\n",
       "device_type      0.0\n",
       "secs_elapsed     0.0\n",
       "dtype: float64"
      ]
     },
     "execution_count": 10,
     "metadata": {},
     "output_type": "execute_result"
    }
   ],
   "source": [
    "#sessions dataset NAs treatment done\n",
    "df_sessions.isna().sum()/df_sessions.shape[0]"
   ]
  },
  {
   "cell_type": "markdown",
   "id": "c8f4ed30",
   "metadata": {
    "hidden": true
   },
   "source": [
    "## 1.2 Data Type"
   ]
  },
  {
   "cell_type": "code",
   "execution_count": 11,
   "id": "9390b009",
   "metadata": {
    "ExecuteTime": {
     "end_time": "2022-11-04T14:49:49.910628Z",
     "start_time": "2022-11-04T14:49:49.897007Z"
    },
    "hidden": true
   },
   "outputs": [
    {
     "data": {
      "text/plain": [
       "id                          object\n",
       "date_account_created        object\n",
       "timestamp_first_active       int64\n",
       "date_first_booking          object\n",
       "gender                      object\n",
       "age                        float64\n",
       "signup_method               object\n",
       "signup_flow                  int64\n",
       "language                    object\n",
       "affiliate_channel           object\n",
       "affiliate_provider          object\n",
       "first_affiliate_tracked     object\n",
       "signup_app                  object\n",
       "first_device_type           object\n",
       "first_browser               object\n",
       "country_destination         object\n",
       "dtype: object"
      ]
     },
     "execution_count": 11,
     "metadata": {},
     "output_type": "execute_result"
    }
   ],
   "source": [
    "df1.dtypes"
   ]
  },
  {
   "cell_type": "markdown",
   "id": "b0cd0913",
   "metadata": {
    "hidden": true
   },
   "source": [
    "### 1.2.1 Change Data Types "
   ]
  },
  {
   "cell_type": "code",
   "execution_count": 12,
   "id": "5122c581",
   "metadata": {
    "ExecuteTime": {
     "end_time": "2022-11-04T14:49:50.237785Z",
     "start_time": "2022-11-04T14:49:49.911740Z"
    },
    "hidden": true
   },
   "outputs": [],
   "source": [
    "#date_account_created\n",
    "df1['date_account_created'] = pd.to_datetime(df1['date_account_created'])\n",
    "#timestamp_first_active\n",
    "df1['timestamp_first_active'] = pd.to_datetime(df1['timestamp_first_active'], format='%Y%m%d%H%M%S')\n",
    "#date_first_booking\n",
    "df1['date_first_booking'] = pd.to_datetime(df1['date_first_booking'])\n",
    "#age\n",
    "df1['age'] = df1['age'].astype('int64')"
   ]
  },
  {
   "cell_type": "code",
   "execution_count": 13,
   "id": "f3c5b6c6",
   "metadata": {
    "ExecuteTime": {
     "end_time": "2022-11-04T14:49:50.253388Z",
     "start_time": "2022-11-04T14:49:50.240803Z"
    },
    "hidden": true
   },
   "outputs": [
    {
     "data": {
      "text/plain": [
       "id                                 object\n",
       "date_account_created       datetime64[ns]\n",
       "timestamp_first_active     datetime64[ns]\n",
       "date_first_booking         datetime64[ns]\n",
       "gender                             object\n",
       "age                                 int64\n",
       "signup_method                      object\n",
       "signup_flow                         int64\n",
       "language                           object\n",
       "affiliate_channel                  object\n",
       "affiliate_provider                 object\n",
       "first_affiliate_tracked            object\n",
       "signup_app                         object\n",
       "first_device_type                  object\n",
       "first_browser                      object\n",
       "country_destination                object\n",
       "dtype: object"
      ]
     },
     "execution_count": 13,
     "metadata": {},
     "output_type": "execute_result"
    }
   ],
   "source": [
    "df1.dtypes"
   ]
  },
  {
   "cell_type": "markdown",
   "id": "81db9f86",
   "metadata": {
    "hidden": true
   },
   "source": [
    "## 1.3 Check balanced data"
   ]
  },
  {
   "cell_type": "code",
   "execution_count": 14,
   "id": "91bfb44f",
   "metadata": {
    "ExecuteTime": {
     "end_time": "2022-11-04T14:49:50.268988Z",
     "start_time": "2022-11-04T14:49:50.254395Z"
    },
    "hidden": true
   },
   "outputs": [
    {
     "data": {
      "text/plain": [
       "NDF      0.447275\n",
       "US       0.391867\n",
       "other    0.061246\n",
       "FR       0.029918\n",
       "IT       0.016423\n",
       "GB       0.014335\n",
       "ES       0.013740\n",
       "CA       0.008676\n",
       "DE       0.006858\n",
       "NL       0.004852\n",
       "AU       0.003531\n",
       "PT       0.001280\n",
       "Name: country_destination, dtype: float64"
      ]
     },
     "execution_count": 14,
     "metadata": {},
     "output_type": "execute_result"
    }
   ],
   "source": [
    "#df1['country_destination'].value_counts()\n",
    "df1['country_destination'].value_counts(normalize=True)"
   ]
  },
  {
   "cell_type": "markdown",
   "id": "310e6466",
   "metadata": {
    "hidden": true
   },
   "source": [
    "## 1.4 Descriptive Statistics"
   ]
  },
  {
   "cell_type": "markdown",
   "id": "5d020d32",
   "metadata": {
    "hidden": true
   },
   "source": [
    "### 1.4.1 Users "
   ]
  },
  {
   "cell_type": "code",
   "execution_count": 15,
   "id": "32426432",
   "metadata": {
    "ExecuteTime": {
     "end_time": "2022-11-04T14:49:50.284159Z",
     "start_time": "2022-11-04T14:49:50.270107Z"
    },
    "hidden": true
   },
   "outputs": [],
   "source": [
    "num_att_users= df1.select_dtypes(include=['int32','int64','float64'])\n",
    "\n",
    "cat_att_users = df1.select_dtypes(exclude=['int32','int64','float64','datetime64[ns]'])\n",
    "\n",
    "time_att_users = df1.select_dtypes(include=['datetime64[ns]'])"
   ]
  },
  {
   "cell_type": "code",
   "execution_count": 16,
   "id": "b930c4ca",
   "metadata": {
    "ExecuteTime": {
     "end_time": "2022-11-04T14:49:50.315440Z",
     "start_time": "2022-11-04T14:49:50.286162Z"
    },
    "hidden": true
   },
   "outputs": [
    {
     "data": {
      "text/html": [
       "<div>\n",
       "<style scoped>\n",
       "    .dataframe tbody tr th:only-of-type {\n",
       "        vertical-align: middle;\n",
       "    }\n",
       "\n",
       "    .dataframe tbody tr th {\n",
       "        vertical-align: top;\n",
       "    }\n",
       "\n",
       "    .dataframe thead th {\n",
       "        text-align: right;\n",
       "    }\n",
       "</style>\n",
       "<table border=\"1\" class=\"dataframe\">\n",
       "  <thead>\n",
       "    <tr style=\"text-align: right;\">\n",
       "      <th></th>\n",
       "      <th>features</th>\n",
       "      <th>min</th>\n",
       "      <th>max</th>\n",
       "      <th>mean</th>\n",
       "      <th>median</th>\n",
       "      <th>std</th>\n",
       "      <th>skew</th>\n",
       "      <th>kurtosis</th>\n",
       "    </tr>\n",
       "  </thead>\n",
       "  <tbody>\n",
       "    <tr>\n",
       "      <th>0</th>\n",
       "      <td>age</td>\n",
       "      <td>16.0</td>\n",
       "      <td>115.0</td>\n",
       "      <td>37.405591</td>\n",
       "      <td>34.0</td>\n",
       "      <td>13.939900</td>\n",
       "      <td>2.089718</td>\n",
       "      <td>6.516468</td>\n",
       "    </tr>\n",
       "    <tr>\n",
       "      <th>1</th>\n",
       "      <td>signup_flow</td>\n",
       "      <td>0.0</td>\n",
       "      <td>25.0</td>\n",
       "      <td>2.519513</td>\n",
       "      <td>0.0</td>\n",
       "      <td>6.604723</td>\n",
       "      <td>2.705871</td>\n",
       "      <td>5.928298</td>\n",
       "    </tr>\n",
       "  </tbody>\n",
       "</table>\n",
       "</div>"
      ],
      "text/plain": [
       "      features   min    max       mean  median        std      skew  kurtosis\n",
       "0          age  16.0  115.0  37.405591    34.0  13.939900  2.089718  6.516468\n",
       "1  signup_flow   0.0   25.0   2.519513     0.0   6.604723  2.705871  5.928298"
      ]
     },
     "execution_count": 16,
     "metadata": {},
     "output_type": "execute_result"
    }
   ],
   "source": [
    "num_att_users.agg([\"min\",\"max\",\"mean\",\"median\",\"std\",\"skew\",\"kurtosis\"]).T.reset_index().rename(columns= {'index' : 'features'})"
   ]
  },
  {
   "cell_type": "code",
   "execution_count": 17,
   "id": "92965f40",
   "metadata": {
    "ExecuteTime": {
     "end_time": "2022-11-04T14:49:50.409723Z",
     "start_time": "2022-11-04T14:49:50.317348Z"
    },
    "hidden": true
   },
   "outputs": [
    {
     "data": {
      "text/html": [
       "<div>\n",
       "<style scoped>\n",
       "    .dataframe tbody tr th:only-of-type {\n",
       "        vertical-align: middle;\n",
       "    }\n",
       "\n",
       "    .dataframe tbody tr th {\n",
       "        vertical-align: top;\n",
       "    }\n",
       "\n",
       "    .dataframe thead th {\n",
       "        text-align: right;\n",
       "    }\n",
       "</style>\n",
       "<table border=\"1\" class=\"dataframe\">\n",
       "  <thead>\n",
       "    <tr style=\"text-align: right;\">\n",
       "      <th></th>\n",
       "      <th>gender</th>\n",
       "      <th>signup_method</th>\n",
       "      <th>language</th>\n",
       "      <th>affiliate_channel</th>\n",
       "      <th>affiliate_provider</th>\n",
       "      <th>first_affiliate_tracked</th>\n",
       "      <th>signup_app</th>\n",
       "      <th>first_device_type</th>\n",
       "      <th>first_browser</th>\n",
       "      <th>country_destination</th>\n",
       "    </tr>\n",
       "  </thead>\n",
       "  <tbody>\n",
       "    <tr>\n",
       "      <th>count</th>\n",
       "      <td>122636</td>\n",
       "      <td>122636</td>\n",
       "      <td>122636</td>\n",
       "      <td>122636</td>\n",
       "      <td>122636</td>\n",
       "      <td>122636</td>\n",
       "      <td>122636</td>\n",
       "      <td>122636</td>\n",
       "      <td>122636</td>\n",
       "      <td>122636</td>\n",
       "    </tr>\n",
       "    <tr>\n",
       "      <th>unique</th>\n",
       "      <td>4</td>\n",
       "      <td>3</td>\n",
       "      <td>25</td>\n",
       "      <td>8</td>\n",
       "      <td>17</td>\n",
       "      <td>7</td>\n",
       "      <td>4</td>\n",
       "      <td>9</td>\n",
       "      <td>41</td>\n",
       "      <td>12</td>\n",
       "    </tr>\n",
       "    <tr>\n",
       "      <th>top</th>\n",
       "      <td>FEMALE</td>\n",
       "      <td>basic</td>\n",
       "      <td>en</td>\n",
       "      <td>direct</td>\n",
       "      <td>direct</td>\n",
       "      <td>untracked</td>\n",
       "      <td>Web</td>\n",
       "      <td>Mac Desktop</td>\n",
       "      <td>Chrome</td>\n",
       "      <td>NDF</td>\n",
       "    </tr>\n",
       "    <tr>\n",
       "      <th>freq</th>\n",
       "      <td>56362</td>\n",
       "      <td>66039</td>\n",
       "      <td>118205</td>\n",
       "      <td>79093</td>\n",
       "      <td>78954</td>\n",
       "      <td>64712</td>\n",
       "      <td>108283</td>\n",
       "      <td>57943</td>\n",
       "      <td>41778</td>\n",
       "      <td>54852</td>\n",
       "    </tr>\n",
       "  </tbody>\n",
       "</table>\n",
       "</div>"
      ],
      "text/plain": [
       "        gender signup_method language affiliate_channel affiliate_provider  \\\n",
       "count   122636        122636   122636            122636             122636   \n",
       "unique       4             3       25                 8                 17   \n",
       "top     FEMALE         basic       en            direct             direct   \n",
       "freq     56362         66039   118205             79093              78954   \n",
       "\n",
       "       first_affiliate_tracked signup_app first_device_type first_browser  \\\n",
       "count                   122636     122636            122636        122636   \n",
       "unique                       7          4                 9            41   \n",
       "top                  untracked        Web       Mac Desktop        Chrome   \n",
       "freq                     64712     108283             57943         41778   \n",
       "\n",
       "       country_destination  \n",
       "count               122636  \n",
       "unique                  12  \n",
       "top                    NDF  \n",
       "freq                 54852  "
      ]
     },
     "execution_count": 17,
     "metadata": {},
     "output_type": "execute_result"
    }
   ],
   "source": [
    "cat_att_users.drop('id',axis=1).describe()"
   ]
  },
  {
   "cell_type": "code",
   "execution_count": 18,
   "id": "f71b5528",
   "metadata": {
    "ExecuteTime": {
     "end_time": "2022-11-04T14:49:50.440725Z",
     "start_time": "2022-11-04T14:49:50.412219Z"
    },
    "hidden": true
   },
   "outputs": [
    {
     "data": {
      "text/html": [
       "<div>\n",
       "<style scoped>\n",
       "    .dataframe tbody tr th:only-of-type {\n",
       "        vertical-align: middle;\n",
       "    }\n",
       "\n",
       "    .dataframe tbody tr th {\n",
       "        vertical-align: top;\n",
       "    }\n",
       "\n",
       "    .dataframe thead th {\n",
       "        text-align: right;\n",
       "    }\n",
       "</style>\n",
       "<table border=\"1\" class=\"dataframe\">\n",
       "  <thead>\n",
       "    <tr style=\"text-align: right;\">\n",
       "      <th></th>\n",
       "      <th>features</th>\n",
       "      <th>min</th>\n",
       "      <th>max</th>\n",
       "      <th>mean</th>\n",
       "      <th>median</th>\n",
       "      <th>std</th>\n",
       "    </tr>\n",
       "  </thead>\n",
       "  <tbody>\n",
       "    <tr>\n",
       "      <th>0</th>\n",
       "      <td>date_account_created</td>\n",
       "      <td>2010-01-02 00:00:00</td>\n",
       "      <td>2014-06-30 00:00:00</td>\n",
       "      <td>2013-06-15 08:50:54.346195200</td>\n",
       "      <td>2013-08-21 00:00:00.000</td>\n",
       "      <td>309 days 11:50:22.561160444</td>\n",
       "    </tr>\n",
       "    <tr>\n",
       "      <th>1</th>\n",
       "      <td>timestamp_first_active</td>\n",
       "      <td>2009-05-23 17:48:09</td>\n",
       "      <td>2014-06-30 23:57:54</td>\n",
       "      <td>2013-06-15 12:38:20.219274752</td>\n",
       "      <td>2013-08-20 19:53:34.500</td>\n",
       "      <td>309 days 20:09:23.802178976</td>\n",
       "    </tr>\n",
       "    <tr>\n",
       "      <th>2</th>\n",
       "      <td>date_first_booking</td>\n",
       "      <td>2010-01-04 00:00:00</td>\n",
       "      <td>2015-06-29 00:00:00</td>\n",
       "      <td>2014-06-06 05:14:38.423953664</td>\n",
       "      <td>2014-06-30 00:00:00.000</td>\n",
       "      <td>429 days 04:15:53.091295912</td>\n",
       "    </tr>\n",
       "  </tbody>\n",
       "</table>\n",
       "</div>"
      ],
      "text/plain": [
       "                 features                 min                 max  \\\n",
       "0    date_account_created 2010-01-02 00:00:00 2014-06-30 00:00:00   \n",
       "1  timestamp_first_active 2009-05-23 17:48:09 2014-06-30 23:57:54   \n",
       "2      date_first_booking 2010-01-04 00:00:00 2015-06-29 00:00:00   \n",
       "\n",
       "                           mean                  median  \\\n",
       "0 2013-06-15 08:50:54.346195200 2013-08-21 00:00:00.000   \n",
       "1 2013-06-15 12:38:20.219274752 2013-08-20 19:53:34.500   \n",
       "2 2014-06-06 05:14:38.423953664 2014-06-30 00:00:00.000   \n",
       "\n",
       "                          std  \n",
       "0 309 days 11:50:22.561160444  \n",
       "1 309 days 20:09:23.802178976  \n",
       "2 429 days 04:15:53.091295912  "
      ]
     },
     "execution_count": 18,
     "metadata": {},
     "output_type": "execute_result"
    }
   ],
   "source": [
    "time_att_users.agg([\"min\",\"max\",\"mean\",\"median\",\"std\"]).T.reset_index().rename(columns= {'index' : 'features'})"
   ]
  },
  {
   "cell_type": "markdown",
   "id": "7a64550b",
   "metadata": {
    "hidden": true
   },
   "source": [
    "### 1.4.2 Sessions "
   ]
  },
  {
   "cell_type": "code",
   "execution_count": 19,
   "id": "d510eecf",
   "metadata": {
    "ExecuteTime": {
     "end_time": "2022-11-04T14:49:50.609881Z",
     "start_time": "2022-11-04T14:49:50.443442Z"
    },
    "hidden": true
   },
   "outputs": [],
   "source": [
    "num_att_sessions= df_sessions.select_dtypes(include=['int32','int64','float64'])\n",
    "\n",
    "cat_att_sessions = df_sessions.select_dtypes(exclude=['int32','int64','float64','datetime64[ns]'])\n",
    "\n",
    "time_att_sessions = df_sessions.select_dtypes(include=['datetime64[ns]'])"
   ]
  },
  {
   "cell_type": "code",
   "execution_count": 20,
   "id": "88767b75",
   "metadata": {
    "ExecuteTime": {
     "end_time": "2022-11-04T14:49:51.183493Z",
     "start_time": "2022-11-04T14:49:50.611873Z"
    },
    "hidden": true
   },
   "outputs": [
    {
     "data": {
      "text/html": [
       "<div>\n",
       "<style scoped>\n",
       "    .dataframe tbody tr th:only-of-type {\n",
       "        vertical-align: middle;\n",
       "    }\n",
       "\n",
       "    .dataframe tbody tr th {\n",
       "        vertical-align: top;\n",
       "    }\n",
       "\n",
       "    .dataframe thead th {\n",
       "        text-align: right;\n",
       "    }\n",
       "</style>\n",
       "<table border=\"1\" class=\"dataframe\">\n",
       "  <thead>\n",
       "    <tr style=\"text-align: right;\">\n",
       "      <th></th>\n",
       "      <th>features</th>\n",
       "      <th>min</th>\n",
       "      <th>max</th>\n",
       "      <th>mean</th>\n",
       "      <th>median</th>\n",
       "      <th>std</th>\n",
       "      <th>skew</th>\n",
       "      <th>kurtosis</th>\n",
       "    </tr>\n",
       "  </thead>\n",
       "  <tbody>\n",
       "    <tr>\n",
       "      <th>0</th>\n",
       "      <td>secs_elapsed</td>\n",
       "      <td>0.0</td>\n",
       "      <td>1799977.0</td>\n",
       "      <td>19961.8251</td>\n",
       "      <td>1369.0</td>\n",
       "      <td>88849.39327</td>\n",
       "      <td>11.137761</td>\n",
       "      <td>154.84312</td>\n",
       "    </tr>\n",
       "  </tbody>\n",
       "</table>\n",
       "</div>"
      ],
      "text/plain": [
       "       features  min        max        mean  median          std       skew  \\\n",
       "0  secs_elapsed  0.0  1799977.0  19961.8251  1369.0  88849.39327  11.137761   \n",
       "\n",
       "    kurtosis  \n",
       "0  154.84312  "
      ]
     },
     "execution_count": 20,
     "metadata": {},
     "output_type": "execute_result"
    }
   ],
   "source": [
    "num_att_sessions.agg([\"min\",\"max\",\"mean\",\"median\",\"std\",\"skew\",\"kurtosis\"]).T.reset_index().rename(columns= {'index' : 'features'})"
   ]
  },
  {
   "cell_type": "code",
   "execution_count": 21,
   "id": "d9b9cf6e",
   "metadata": {
    "ExecuteTime": {
     "end_time": "2022-11-04T14:49:53.788700Z",
     "start_time": "2022-11-04T14:49:51.185608Z"
    },
    "hidden": true
   },
   "outputs": [
    {
     "data": {
      "text/html": [
       "<div>\n",
       "<style scoped>\n",
       "    .dataframe tbody tr th:only-of-type {\n",
       "        vertical-align: middle;\n",
       "    }\n",
       "\n",
       "    .dataframe tbody tr th {\n",
       "        vertical-align: top;\n",
       "    }\n",
       "\n",
       "    .dataframe thead th {\n",
       "        text-align: right;\n",
       "    }\n",
       "</style>\n",
       "<table border=\"1\" class=\"dataframe\">\n",
       "  <thead>\n",
       "    <tr style=\"text-align: right;\">\n",
       "      <th></th>\n",
       "      <th>action</th>\n",
       "      <th>action_type</th>\n",
       "      <th>action_detail</th>\n",
       "      <th>device_type</th>\n",
       "    </tr>\n",
       "  </thead>\n",
       "  <tbody>\n",
       "    <tr>\n",
       "      <th>count</th>\n",
       "      <td>9213930</td>\n",
       "      <td>9213930</td>\n",
       "      <td>9213930</td>\n",
       "      <td>9213930</td>\n",
       "    </tr>\n",
       "    <tr>\n",
       "      <th>unique</th>\n",
       "      <td>347</td>\n",
       "      <td>10</td>\n",
       "      <td>155</td>\n",
       "      <td>14</td>\n",
       "    </tr>\n",
       "    <tr>\n",
       "      <th>top</th>\n",
       "      <td>show</td>\n",
       "      <td>view</td>\n",
       "      <td>view_search_results</td>\n",
       "      <td>Mac Desktop</td>\n",
       "    </tr>\n",
       "    <tr>\n",
       "      <th>freq</th>\n",
       "      <td>2178382</td>\n",
       "      <td>3545621</td>\n",
       "      <td>1770931</td>\n",
       "      <td>3019523</td>\n",
       "    </tr>\n",
       "  </tbody>\n",
       "</table>\n",
       "</div>"
      ],
      "text/plain": [
       "         action action_type        action_detail  device_type\n",
       "count   9213930     9213930              9213930      9213930\n",
       "unique      347          10                  155           14\n",
       "top        show        view  view_search_results  Mac Desktop\n",
       "freq    2178382     3545621              1770931      3019523"
      ]
     },
     "execution_count": 21,
     "metadata": {},
     "output_type": "execute_result"
    }
   ],
   "source": [
    "cat_att_sessions.drop('user_id',axis=1).describe()"
   ]
  },
  {
   "cell_type": "markdown",
   "id": "c01233fd",
   "metadata": {
    "heading_collapsed": true
   },
   "source": [
    "# 2.0 Data Filtering - Business knowledge"
   ]
  },
  {
   "cell_type": "code",
   "execution_count": 22,
   "id": "aa078025",
   "metadata": {
    "ExecuteTime": {
     "end_time": "2022-11-04T14:49:53.992004Z",
     "start_time": "2022-11-04T14:49:53.790716Z"
    },
    "hidden": true
   },
   "outputs": [],
   "source": [
    "#Filtering based on business assumptions and rules\n",
    "df2 = df1.copy()\n",
    "df2_sessions = df_sessions.copy()"
   ]
  },
  {
   "cell_type": "markdown",
   "id": "55327243",
   "metadata": {
    "heading_collapsed": true,
    "hidden": true
   },
   "source": [
    "## Rows filtering"
   ]
  },
  {
   "cell_type": "code",
   "execution_count": 23,
   "id": "df1aeb31",
   "metadata": {
    "ExecuteTime": {
     "end_time": "2022-11-04T14:49:54.023983Z",
     "start_time": "2022-11-04T14:49:53.993999Z"
    },
    "hidden": true
   },
   "outputs": [],
   "source": [
    "## === USERS ===\n",
    "#age filtering \n",
    "df2 = df2[(df2['age']>15)&(df2['age']<120)]"
   ]
  },
  {
   "cell_type": "code",
   "execution_count": 24,
   "id": "fce8f038",
   "metadata": {
    "ExecuteTime": {
     "end_time": "2022-11-04T14:49:54.660254Z",
     "start_time": "2022-11-04T14:49:54.025019Z"
    },
    "hidden": true
   },
   "outputs": [],
   "source": [
    "## === SESSIONS ===\n",
    "#secs_elapsed - 0 \n",
    "df2_sessions = df2_sessions[df2_sessions['secs_elapsed']>0]"
   ]
  },
  {
   "cell_type": "markdown",
   "id": "dd46ec0f",
   "metadata": {
    "heading_collapsed": true,
    "hidden": true
   },
   "source": [
    "## Columns selection"
   ]
  },
  {
   "cell_type": "code",
   "execution_count": 25,
   "id": "f2dbc4e4",
   "metadata": {
    "ExecuteTime": {
     "end_time": "2022-11-04T14:50:19.726466Z",
     "start_time": "2022-11-04T14:49:54.661231Z"
    },
    "hidden": true
   },
   "outputs": [
    {
     "data": {
      "text/html": [
       "<div>\n",
       "<style scoped>\n",
       "    .dataframe tbody tr th:only-of-type {\n",
       "        vertical-align: middle;\n",
       "    }\n",
       "\n",
       "    .dataframe tbody tr th {\n",
       "        vertical-align: top;\n",
       "    }\n",
       "\n",
       "    .dataframe thead th {\n",
       "        text-align: right;\n",
       "    }\n",
       "</style>\n",
       "<table border=\"1\" class=\"dataframe\">\n",
       "  <thead>\n",
       "    <tr style=\"text-align: right;\">\n",
       "      <th></th>\n",
       "      <th>action</th>\n",
       "      <th>action_type</th>\n",
       "      <th>action_detail</th>\n",
       "      <th>device_type</th>\n",
       "    </tr>\n",
       "  </thead>\n",
       "  <tbody>\n",
       "    <tr>\n",
       "      <th>action</th>\n",
       "      <td>1.000019</td>\n",
       "      <td>0.952732</td>\n",
       "      <td>0.795156</td>\n",
       "      <td>0.259848</td>\n",
       "    </tr>\n",
       "    <tr>\n",
       "      <th>action_type</th>\n",
       "      <td>0.952732</td>\n",
       "      <td>1.000000</td>\n",
       "      <td>0.980625</td>\n",
       "      <td>0.082041</td>\n",
       "    </tr>\n",
       "    <tr>\n",
       "      <th>action_detail</th>\n",
       "      <td>0.795156</td>\n",
       "      <td>0.980625</td>\n",
       "      <td>1.000008</td>\n",
       "      <td>0.219622</td>\n",
       "    </tr>\n",
       "    <tr>\n",
       "      <th>device_type</th>\n",
       "      <td>0.259848</td>\n",
       "      <td>0.082041</td>\n",
       "      <td>0.219622</td>\n",
       "      <td>1.000001</td>\n",
       "    </tr>\n",
       "  </tbody>\n",
       "</table>\n",
       "</div>"
      ],
      "text/plain": [
       "                 action  action_type  action_detail  device_type\n",
       "action         1.000019     0.952732       0.795156     0.259848\n",
       "action_type    0.952732     1.000000       0.980625     0.082041\n",
       "action_detail  0.795156     0.980625       1.000008     0.219622\n",
       "device_type    0.259848     0.082041       0.219622     1.000001"
      ]
     },
     "execution_count": 25,
     "metadata": {},
     "output_type": "execute_result"
    }
   ],
   "source": [
    "cat_att_list = cat_att_sessions.drop('user_id',axis=1).columns.to_list()\n",
    "\n",
    "corr_dict = {}\n",
    "\n",
    "for i in range(len(cat_att_list)):\n",
    "    \n",
    "    corr_list = []\n",
    "    \n",
    "    for j in range(len(cat_att_list)):\n",
    "        ref = cat_att_list[i]\n",
    "        feat = cat_att_list[j]\n",
    "        corr = cramer_v(cat_att_sessions[ref], cat_att_sessions[feat])\n",
    "        corr_list.append(corr)\n",
    "\n",
    "    corr_dict [ref] = corr_list \n",
    "    \n",
    "d = pd.DataFrame(corr_dict)\n",
    "d.set_index(d.columns)"
   ]
  },
  {
   "cell_type": "code",
   "execution_count": 26,
   "id": "954d7a9d",
   "metadata": {
    "ExecuteTime": {
     "end_time": "2022-11-04T14:50:19.943161Z",
     "start_time": "2022-11-04T14:50:19.728961Z"
    },
    "hidden": true,
    "hide_input": true
   },
   "outputs": [
    {
     "data": {
      "image/png": "[encoded data removed]",
      "text/plain": [
       "<Figure size 640x480 with 2 Axes>"
      ]
     },
     "metadata": {},
     "output_type": "display_data"
    }
   ],
   "source": [
    "sns.heatmap(d, annot=True);"
   ]
  },
  {
   "cell_type": "markdown",
   "id": "e348a236",
   "metadata": {
    "heading_collapsed": true
   },
   "source": [
    "# 3.0 Feature Engineering"
   ]
  },
  {
   "cell_type": "code",
   "execution_count": 27,
   "id": "81959cb8",
   "metadata": {
    "ExecuteTime": {
     "end_time": "2022-11-04T14:50:20.159928Z",
     "start_time": "2022-11-04T14:50:19.945074Z"
    },
    "hidden": true
   },
   "outputs": [],
   "source": [
    "df3 = df2.copy()\n",
    "df3_sessions = df2_sessions.copy()"
   ]
  },
  {
   "cell_type": "code",
   "execution_count": 28,
   "id": "96dfe0fb",
   "metadata": {
    "ExecuteTime": {
     "end_time": "2022-11-04T14:50:23.771359Z",
     "start_time": "2022-11-04T14:50:20.164861Z"
    },
    "hidden": true
   },
   "outputs": [],
   "source": [
    "#days from 1st active up to 1st booking\n",
    "df3['date_first_activation'] = pd.to_datetime(df3['timestamp_first_active'].dt.strftime('%Y-%m-%d'))\n",
    "df3['days_from_first_until_booking'] = (df3['date_first_booking'] - df3['date_first_activation']).apply(lambda x: x.days)\n",
    "\n",
    "#days from 1st active up to account creation\n",
    "df3['days_from_activation_until_acc_creation'] = (df3['date_account_created'] - df3['date_first_activation']).apply(lambda x: x.days)\n",
    "\n",
    "#days from account creation up to 1st booking\n",
    "df3['days_from_acc_until_booking'] = (df3['date_first_booking'] - df3['date_account_created']).apply(lambda x: x.days)\n",
    "\n",
    "#==== date first activation ====\n",
    "#day\n",
    "df3['day_first_activation'] = df3['date_first_activation'].dt.day\n",
    "#day of week\n",
    "df3['day_week_first_activation'] = df3['date_first_activation'].dt.dayofweek\n",
    "#month\n",
    "df3['month_first_activation'] = df3['date_first_activation'].dt.month\n",
    "#week of year\n",
    "df3['week_year_first_activation'] = df3['date_first_activation'].dt.isocalendar().week.astype('int64')\n",
    "#year\n",
    "df3['year_first_activation'] = df3['date_first_activation'].dt.year\n",
    "\n",
    "#==== date first booking ====\n",
    "#day\n",
    "df3['day_first_booking'] = df3['date_first_booking'].dt.day\n",
    "#day of week\n",
    "df3['day_week_first_booking'] = df3['date_first_booking'].dt.dayofweek\n",
    "#month\n",
    "df3['month_first_booking'] = df3['date_first_booking'].dt.month\n",
    "#week of year\n",
    "df3['week_year_first_booking'] = df3['date_first_booking'].dt.isocalendar().week.astype('int64')\n",
    "#year\n",
    "df3['year_first_booking'] = df3['date_first_booking'].dt.year\n",
    "\n",
    "#==== date first booking ====\n",
    "\n",
    "#day\n",
    "df3['day_acc_created'] = df3['date_account_created'].dt.day\n",
    "#day of week\n",
    "df3['day_week_acc_created'] = df3['date_account_created'].dt.dayofweek\n",
    "#month\n",
    "df3['month_acc_created'] = df3['date_account_created'].dt.month\n",
    "#week of year\n",
    "df3['week_year_acc_created'] = df3['date_account_created'].dt.isocalendar().week.astype('int64')\n",
    "#year\n",
    "df3['year_acc_created'] = df3['date_account_created'].dt.year\n"
   ]
  },
  {
   "cell_type": "code",
   "execution_count": 29,
   "id": "b82f0965",
   "metadata": {
    "ExecuteTime": {
     "end_time": "2022-11-04T14:50:23.802000Z",
     "start_time": "2022-11-04T14:50:23.771948Z"
    },
    "hidden": true
   },
   "outputs": [],
   "source": [
    "cols_derived = ['date_account_created', 'date_first_booking', 'timestamp_first_active', 'date_first_activation' ]\n",
    "df3.drop(cols_derived, axis=1, inplace=True)"
   ]
  },
  {
   "cell_type": "markdown",
   "id": "9898b0d6",
   "metadata": {},
   "source": [
    "# 4.0 Balance Data"
   ]
  },
  {
   "cell_type": "code",
   "execution_count": 30,
   "id": "6442b6b4",
   "metadata": {
    "ExecuteTime": {
     "end_time": "2022-11-04T14:50:23.832388Z",
     "start_time": "2022-11-04T14:50:23.803193Z"
    }
   },
   "outputs": [],
   "source": [
    "df4 = df3.copy()"
   ]
  },
  {
   "cell_type": "code",
   "execution_count": 31,
   "id": "084b6293",
   "metadata": {
    "ExecuteTime": {
     "end_time": "2022-11-04T14:50:23.863389Z",
     "start_time": "2022-11-04T14:50:23.833308Z"
    }
   },
   "outputs": [],
   "source": [
    "df41 = df4.drop(columns='id')"
   ]
  },
  {
   "cell_type": "markdown",
   "id": "9a1790a6",
   "metadata": {},
   "source": [
    "## 4.1 Undersampling - Random"
   ]
  },
  {
   "cell_type": "code",
   "execution_count": 32,
   "id": "8bc43780",
   "metadata": {
    "ExecuteTime": {
     "end_time": "2022-11-04T14:50:24.205070Z",
     "start_time": "2022-11-04T14:50:23.864589Z"
    }
   },
   "outputs": [],
   "source": [
    "#define sampler\n",
    "rus = us.RandomUnderSampler(sampling_strategy='auto',random_state=32)\n",
    "\n",
    "#apply sampler\n",
    "X_under, y_under = rus.fit_resample(df4, df4['country_destination'])"
   ]
  },
  {
   "cell_type": "code",
   "execution_count": 33,
   "id": "5e5582c4",
   "metadata": {
    "ExecuteTime": {
     "end_time": "2022-11-04T14:50:24.220615Z",
     "start_time": "2022-11-04T14:50:24.205908Z"
    },
    "cell_style": "split"
   },
   "outputs": [
    {
     "data": {
      "text/plain": [
       "NDF      54852\n",
       "US       48057\n",
       "other     7511\n",
       "FR        3669\n",
       "IT        2014\n",
       "GB        1758\n",
       "ES        1685\n",
       "CA        1064\n",
       "DE         841\n",
       "NL         595\n",
       "AU         433\n",
       "PT         157\n",
       "Name: country_destination, dtype: int64"
      ]
     },
     "execution_count": 33,
     "metadata": {},
     "output_type": "execute_result"
    }
   ],
   "source": [
    "df4['country_destination'].value_counts()"
   ]
  },
  {
   "cell_type": "code",
   "execution_count": 34,
   "id": "49022dc2",
   "metadata": {
    "ExecuteTime": {
     "end_time": "2022-11-04T14:50:24.236380Z",
     "start_time": "2022-11-04T14:50:24.221516Z"
    },
    "cell_style": "split"
   },
   "outputs": [
    {
     "data": {
      "text/plain": [
       "AU       157\n",
       "CA       157\n",
       "DE       157\n",
       "ES       157\n",
       "FR       157\n",
       "GB       157\n",
       "IT       157\n",
       "NDF      157\n",
       "NL       157\n",
       "PT       157\n",
       "US       157\n",
       "other    157\n",
       "Name: country_destination, dtype: int64"
      ]
     },
     "execution_count": 34,
     "metadata": {},
     "output_type": "execute_result"
    }
   ],
   "source": [
    "y_under.value_counts()"
   ]
  },
  {
   "cell_type": "markdown",
   "id": "1cbbd3c3",
   "metadata": {
    "cell_style": "split"
   },
   "source": [
    "## 4.2 Oversampling - Random"
   ]
  },
  {
   "cell_type": "code",
   "execution_count": 35,
   "id": "5e43f87d",
   "metadata": {
    "ExecuteTime": {
     "end_time": "2022-11-04T14:50:25.750660Z",
     "start_time": "2022-11-04T14:50:24.238930Z"
    }
   },
   "outputs": [],
   "source": [
    "#define sampler\n",
    "ros = ovs.RandomOverSampler(sampling_strategy='all',random_state=32)\n",
    "\n",
    "#apply sampler\n",
    "X_over, y_over = ros.fit_resample(df4,df4['country_destination'])"
   ]
  },
  {
   "cell_type": "code",
   "execution_count": 36,
   "id": "af0dfe02",
   "metadata": {
    "ExecuteTime": {
     "end_time": "2022-11-04T14:50:25.812371Z",
     "start_time": "2022-11-04T14:50:25.753150Z"
    },
    "cell_style": "split"
   },
   "outputs": [
    {
     "data": {
      "text/plain": [
       "NDF      54852\n",
       "US       48057\n",
       "other     7511\n",
       "FR        3669\n",
       "IT        2014\n",
       "GB        1758\n",
       "ES        1685\n",
       "CA        1064\n",
       "DE         841\n",
       "NL         595\n",
       "AU         433\n",
       "PT         157\n",
       "Name: country_destination, dtype: int64"
      ]
     },
     "execution_count": 36,
     "metadata": {},
     "output_type": "execute_result"
    }
   ],
   "source": [
    "df4['country_destination'].value_counts()"
   ]
  },
  {
   "cell_type": "code",
   "execution_count": 37,
   "id": "5acdcf9a",
   "metadata": {
    "ExecuteTime": {
     "end_time": "2022-11-04T14:50:25.858848Z",
     "start_time": "2022-11-04T14:50:25.814370Z"
    },
    "cell_style": "split"
   },
   "outputs": [
    {
     "data": {
      "text/plain": [
       "NDF      54852\n",
       "US       54852\n",
       "other    54852\n",
       "CA       54852\n",
       "FR       54852\n",
       "IT       54852\n",
       "ES       54852\n",
       "GB       54852\n",
       "NL       54852\n",
       "DE       54852\n",
       "AU       54852\n",
       "PT       54852\n",
       "Name: country_destination, dtype: int64"
      ]
     },
     "execution_count": 37,
     "metadata": {},
     "output_type": "execute_result"
    }
   ],
   "source": [
    "y_over.value_counts()"
   ]
  },
  {
   "cell_type": "markdown",
   "id": "ed5f62e0",
   "metadata": {},
   "source": [
    "## 4.3 Over + Under - SMOTE + TomekLink"
   ]
  },
  {
   "cell_type": "code",
   "execution_count": 38,
   "id": "cf5c1b09",
   "metadata": {
    "ExecuteTime": {
     "end_time": "2022-11-04T14:50:26.338467Z",
     "start_time": "2022-11-04T14:50:25.859845Z"
    }
   },
   "outputs": [],
   "source": [
    "# Prepare Variables to SMOTE -> split cols, keep numericals as original, encode categorical (except target var)\n",
    "ohe = OneHotEncoder()\n",
    "\n",
    "# Numerical Vars  \n",
    "col_num = df41.select_dtypes(include=['int64','float64']).columns.tolist()\n",
    "\n",
    "# Categorical Vars\n",
    "col_cat = df41.select_dtypes(exclude=['int64','float64','datetime64[ns]']).drop(columns='country_destination', axis=1).columns.tolist()\n",
    "\n",
    "# Encoding Cat\n",
    "df4_dummy = pd.DataFrame(ohe.fit_transform(df4[col_cat]).toarray(), index=df4.index)\n",
    "\n",
    "#Join back\n",
    "df42 = pd.concat([df41[col_num], df4_dummy],axis=1)\n"
   ]
  },
  {
   "cell_type": "code",
   "execution_count": 39,
   "id": "f187c4ad",
   "metadata": {
    "ExecuteTime": {
     "end_time": "2022-11-04T14:50:26.354014Z",
     "start_time": "2022-11-04T14:50:26.339383Z"
    }
   },
   "outputs": [],
   "source": [
    "# # get dummies is ticky to return back\n",
    "# df422 = df41.drop(columns='country_destination', axis=1)\n",
    "# df422 = pd.get_dummies(df422)df4['country_destination'].value_counts().to_dict()"
   ]
  },
  {
   "cell_type": "code",
   "execution_count": 40,
   "id": "7aae4866",
   "metadata": {
    "ExecuteTime": {
     "end_time": "2022-11-04T14:50:26.369721Z",
     "start_time": "2022-11-04T14:50:26.355949Z"
    }
   },
   "outputs": [
    {
     "data": {
      "text/plain": [
       "{'NDF': 54852,\n",
       " 'US': 48057,\n",
       " 'other': 45066,\n",
       " 'FR': 44028,\n",
       " 'IT': 40280,\n",
       " 'GB': 52740,\n",
       " 'ES': 50550,\n",
       " 'CA': 42560,\n",
       " 'DE': 37845,\n",
       " 'NL': 47600,\n",
       " 'AU': 36805,\n",
       " 'PT': 47100}"
      ]
     },
     "execution_count": 40,
     "metadata": {},
     "output_type": "execute_result"
    }
   ],
   "source": [
    "#ratio balanced => empirical\n",
    "balanced_ratio = {'NDF': 54852,\n",
    "                  'US': 48057,\n",
    "                  'other': 6*7511,\n",
    "                  'FR': 12*3669,\n",
    "                  'IT': 20*2014,\n",
    "                  'GB': 30*1758,\n",
    "                  'ES': 30*1685,\n",
    "                  'CA': 40*1064,\n",
    "                  'DE': 45*841,\n",
    "                  'NL': 80*595,\n",
    "                  'AU': 85*433,\n",
    "                  'PT': 300*157}\n",
    "balanced_ratio"
   ]
  },
  {
   "cell_type": "code",
   "execution_count": 41,
   "id": "80e44d6d",
   "metadata": {
    "ExecuteTime": {
     "end_time": "2022-11-04T15:01:13.550624Z",
     "start_time": "2022-11-04T14:50:26.371858Z"
    }
   },
   "outputs": [],
   "source": [
    "smt = c.SMOTETomek(sampling_strategy=balanced_ratio, random_state=32, n_jobs=-1)\n",
    "\n",
    "X_smt, y_smt = smt.fit_resample(df42, df4['country_destination'])"
   ]
  },
  {
   "cell_type": "code",
   "execution_count": 42,
   "id": "8f12889f",
   "metadata": {
    "ExecuteTime": {
     "end_time": "2022-11-04T15:01:13.630518Z",
     "start_time": "2022-11-04T15:01:13.570620Z"
    },
    "cell_style": "split"
   },
   "outputs": [
    {
     "data": {
      "text/plain": [
       "NDF      54852\n",
       "US       48057\n",
       "other     7511\n",
       "FR        3669\n",
       "IT        2014\n",
       "GB        1758\n",
       "ES        1685\n",
       "CA        1064\n",
       "DE         841\n",
       "NL         595\n",
       "AU         433\n",
       "PT         157\n",
       "Name: country_destination, dtype: int64"
      ]
     },
     "execution_count": 42,
     "metadata": {},
     "output_type": "execute_result"
    }
   ],
   "source": [
    "df4['country_destination'].value_counts()"
   ]
  },
  {
   "cell_type": "code",
   "execution_count": 43,
   "id": "47a4c079",
   "metadata": {
    "ExecuteTime": {
     "end_time": "2022-11-04T15:01:13.705653Z",
     "start_time": "2022-11-04T15:01:13.634479Z"
    },
    "cell_style": "split"
   },
   "outputs": [
    {
     "data": {
      "text/plain": [
       "NDF      54850\n",
       "GB       52691\n",
       "ES       50508\n",
       "NL       47598\n",
       "US       47547\n",
       "PT       47100\n",
       "other    44761\n",
       "FR       43869\n",
       "CA       42543\n",
       "IT       40201\n",
       "DE       37830\n",
       "AU       36803\n",
       "Name: country_destination, dtype: int64"
      ]
     },
     "execution_count": 43,
     "metadata": {},
     "output_type": "execute_result"
    }
   ],
   "source": [
    "y_smt.value_counts()"
   ]
  },
  {
   "cell_type": "code",
   "execution_count": 44,
   "id": "070d43e6",
   "metadata": {
    "ExecuteTime": {
     "end_time": "2022-11-04T15:01:15.515676Z",
     "start_time": "2022-11-04T15:01:13.705653Z"
    }
   },
   "outputs": [],
   "source": [
    "# Numerical vars\n",
    "df43 = X_smt[col_num]\n",
    "# Categ Var unencoded\n",
    "df44 = X_smt.drop(col_num, axis=1)\n",
    "df45 = pd.DataFrame(ohe.inverse_transform(df44), columns=col_cat, index=df44.index)\n",
    "\n",
    "#balanced dataframe\n",
    "df46 = pd.concat([df43, df45], axis=1)\n",
    "df46['country_destination'] = y_smt"
   ]
  },
  {
   "cell_type": "code",
   "execution_count": 45,
   "id": "f5d2f0d9",
   "metadata": {
    "ExecuteTime": {
     "end_time": "2022-11-04T15:01:15.546180Z",
     "start_time": "2022-11-04T15:01:15.520893Z"
    },
    "cell_style": "split"
   },
   "outputs": [
    {
     "data": {
      "text/plain": [
       "(546301, 30)"
      ]
     },
     "execution_count": 45,
     "metadata": {},
     "output_type": "execute_result"
    }
   ],
   "source": [
    "df46.shape"
   ]
  },
  {
   "cell_type": "code",
   "execution_count": 46,
   "id": "14c09e6b",
   "metadata": {
    "ExecuteTime": {
     "end_time": "2022-11-04T15:01:15.565460Z",
     "start_time": "2022-11-04T15:01:15.551118Z"
    },
    "cell_style": "split"
   },
   "outputs": [
    {
     "data": {
      "text/plain": [
       "(122636, 30)"
      ]
     },
     "execution_count": 46,
     "metadata": {},
     "output_type": "execute_result"
    }
   ],
   "source": [
    "df41.shape"
   ]
  },
  {
   "cell_type": "code",
   "execution_count": 47,
   "id": "4fc0f80f",
   "metadata": {
    "ExecuteTime": {
     "end_time": "2022-11-04T15:01:15.635267Z",
     "start_time": "2022-11-04T15:01:15.565703Z"
    },
    "cell_style": "split"
   },
   "outputs": [
    {
     "data": {
      "text/plain": [
       "NDF      54850\n",
       "GB       52691\n",
       "ES       50508\n",
       "NL       47598\n",
       "US       47547\n",
       "PT       47100\n",
       "other    44761\n",
       "FR       43869\n",
       "CA       42543\n",
       "IT       40201\n",
       "DE       37830\n",
       "AU       36803\n",
       "Name: country_destination, dtype: int64"
      ]
     },
     "execution_count": 47,
     "metadata": {},
     "output_type": "execute_result"
    }
   ],
   "source": [
    "df46['country_destination'].value_counts()"
   ]
  },
  {
   "cell_type": "code",
   "execution_count": 48,
   "id": "f5b5e40b",
   "metadata": {
    "ExecuteTime": {
     "end_time": "2022-11-04T15:01:15.675375Z",
     "start_time": "2022-11-04T15:01:15.635267Z"
    },
    "cell_style": "split"
   },
   "outputs": [
    {
     "data": {
      "text/plain": [
       "NDF      54852\n",
       "US       48057\n",
       "other     7511\n",
       "FR        3669\n",
       "IT        2014\n",
       "GB        1758\n",
       "ES        1685\n",
       "CA        1064\n",
       "DE         841\n",
       "NL         595\n",
       "AU         433\n",
       "PT         157\n",
       "Name: country_destination, dtype: int64"
      ]
     },
     "execution_count": 48,
     "metadata": {},
     "output_type": "execute_result"
    }
   ],
   "source": [
    "df41['country_destination'].value_counts()"
   ]
  },
  {
   "cell_type": "markdown",
   "id": "826ada4c",
   "metadata": {},
   "source": [
    "# 5.0 Exploratory Data Analysis"
   ]
  },
  {
   "cell_type": "markdown",
   "id": "560a78da",
   "metadata": {},
   "source": [
    "### 5.1 Univariate Analysis (Balanced Dataset)"
   ]
  },
  {
   "cell_type": "code",
   "execution_count": null,
   "id": "efc7cd76",
   "metadata": {
    "ExecuteTime": {
     "start_time": "2022-11-04T16:00:03.514Z"
    }
   },
   "outputs": [],
   "source": [
    "df5 = df4.copy()"
   ]
  },
  {
   "cell_type": "markdown",
   "id": "7d194b18",
   "metadata": {},
   "source": [
    "### 5.2 Bivariate Analysis (Unbalanced Dataset)"
   ]
  },
  {
   "cell_type": "code",
   "execution_count": null,
   "id": "5c1099a0",
   "metadata": {
    "ExecuteTime": {
     "start_time": "2022-11-04T16:00:02.444Z"
    }
   },
   "outputs": [],
   "source": [
    "df51 = df46.copy()"
   ]
  },
  {
   "cell_type": "code",
   "execution_count": null,
   "id": "7d805d38",
   "metadata": {},
   "outputs": [],
   "source": []
  },
  {
   "cell_type": "code",
   "execution_count": null,
   "id": "75a36883",
   "metadata": {},
   "outputs": [],
   "source": []
  },
  {
   "cell_type": "markdown",
   "id": "8d2a696c",
   "metadata": {
    "cell_style": "split",
    "heading_collapsed": true
   },
   "source": [
    "# 6.0 Data Preparation"
   ]
  },
  {
   "cell_type": "code",
   "execution_count": 49,
   "id": "918e7a1d",
   "metadata": {
    "ExecuteTime": {
     "end_time": "2022-11-04T15:01:15.691023Z",
     "start_time": "2022-11-04T15:01:15.679696Z"
    },
    "hidden": true
   },
   "outputs": [],
   "source": [
    "#df5 = df4.copy()"
   ]
  },
  {
   "cell_type": "code",
   "execution_count": 50,
   "id": "707b7611",
   "metadata": {
    "ExecuteTime": {
     "end_time": "2022-11-04T15:01:15.890737Z",
     "start_time": "2022-11-04T15:01:15.694887Z"
    },
    "hidden": true
   },
   "outputs": [],
   "source": [
    "df5 = df46.copy()"
   ]
  },
  {
   "cell_type": "code",
   "execution_count": 51,
   "id": "dbcadc36",
   "metadata": {
    "ExecuteTime": {
     "end_time": "2022-11-04T15:01:16.055330Z",
     "start_time": "2022-11-04T15:01:15.895349Z"
    },
    "hidden": true
   },
   "outputs": [],
   "source": [
    "#split dataset training/validation\n",
    "X = df5.drop(columns='country_destination')\n",
    "y = df5['country_destination'].copy()"
   ]
  },
  {
   "cell_type": "code",
   "execution_count": 52,
   "id": "cdf0c4fe",
   "metadata": {
    "ExecuteTime": {
     "end_time": "2022-11-04T15:01:17.745584Z",
     "start_time": "2022-11-04T15:01:16.055330Z"
    },
    "hidden": true
   },
   "outputs": [],
   "source": [
    "#X.drop(columns='id',axis=1, inplace=True)\n",
    "\n",
    "aux= pd.get_dummies(X)\n",
    "X = pd.concat([df4['id'],aux],axis=1)"
   ]
  },
  {
   "cell_type": "code",
   "execution_count": 53,
   "id": "8cd42053",
   "metadata": {
    "ExecuteTime": {
     "end_time": "2022-11-04T15:01:18.535318Z",
     "start_time": "2022-11-04T15:01:17.745584Z"
    },
    "hidden": true
   },
   "outputs": [],
   "source": [
    "X_train, X_val, y_train, y_val = train_test_split(X,y, test_size=0.2, random_state=32)"
   ]
  },
  {
   "cell_type": "markdown",
   "id": "0b0847de",
   "metadata": {
    "heading_collapsed": true
   },
   "source": [
    "# 7.0 Feature Selection"
   ]
  },
  {
   "cell_type": "code",
   "execution_count": 54,
   "id": "3c65128d",
   "metadata": {
    "ExecuteTime": {
     "end_time": "2022-11-04T15:01:18.745627Z",
     "start_time": "2022-11-04T15:01:18.540411Z"
    },
    "hidden": true
   },
   "outputs": [],
   "source": [
    "cols_drop = ['id']\n",
    "X_train = X_train.drop(cols_drop, axis=1)\n",
    "X_val = X_val.drop(cols_drop, axis=1)"
   ]
  },
  {
   "cell_type": "markdown",
   "id": "7e94bc73",
   "metadata": {},
   "source": [
    "# 8.0 ML Modeling"
   ]
  },
  {
   "cell_type": "markdown",
   "id": "110b20bd",
   "metadata": {},
   "source": [
    "### 8.1 Baseline Model"
   ]
  },
  {
   "cell_type": "code",
   "execution_count": 55,
   "id": "57802c10",
   "metadata": {
    "ExecuteTime": {
     "end_time": "2022-11-04T15:01:18.855550Z",
     "start_time": "2022-11-04T15:01:18.745627Z"
    }
   },
   "outputs": [],
   "source": [
    "#build a random model - baseline\n",
    "\n",
    "#values to pick ramdomly\n",
    "country_dest_list = sorted(df4['country_destination'].unique())\n",
    "\n",
    "#classes presence\n",
    "target_weights = df4['country_destination'].value_counts(normalize=True).sort_index().to_list()\n",
    "\n",
    "#size \n",
    "k_num = y_val.shape[0]\n",
    "\n",
    "yhat_baseline = random.choices(population=country_dest_list, weights=target_weights, k=k_num)"
   ]
  },
  {
   "cell_type": "code",
   "execution_count": 56,
   "id": "ed6e777b",
   "metadata": {
    "ExecuteTime": {
     "end_time": "2022-11-04T15:01:26.035081Z",
     "start_time": "2022-11-04T15:01:18.855550Z"
    }
   },
   "outputs": [
    {
     "name": "stdout",
     "output_type": "stream",
     "text": [
      "Accuracy 0.0919907377746863\n",
      " Balanced Accuracy 0.0832151356186192\n",
      " Kappa score -6.873967498499667e-05\n",
      "              precision    recall  f1-score   support\n",
      "\n",
      "          AU       0.07      0.00      0.01      7415\n",
      "          CA       0.08      0.01      0.02      8579\n",
      "          DE       0.07      0.01      0.01      7433\n",
      "          ES       0.10      0.01      0.02     10020\n",
      "          FR       0.08      0.03      0.04      8751\n",
      "          GB       0.10      0.01      0.03     10617\n",
      "          IT       0.07      0.01      0.02      8078\n",
      "         NDF       0.10      0.45      0.16     10900\n",
      "          NL       0.07      0.00      0.01      9564\n",
      "          PT       0.10      0.00      0.00      9458\n",
      "          US       0.09      0.39      0.14      9557\n",
      "       other       0.08      0.06      0.07      8889\n",
      "\n",
      "    accuracy                           0.09    109261\n",
      "   macro avg       0.08      0.08      0.04    109261\n",
      "weighted avg       0.08      0.09      0.05    109261\n",
      "\n"
     ]
    },
    {
     "data": {
      "image/png": "[encoded data removed]",
      "text/plain": [
       "<Figure size 640x480 with 2 Axes>"
      ]
     },
     "metadata": {},
     "output_type": "display_data"
    }
   ],
   "source": [
    "#acuracy\n",
    "acc_base = accuracy_score(y_val, yhat_baseline)\n",
    "print('Accuracy {}'.format(acc_base))\n",
    "\n",
    "#balanced accuracy\n",
    "balanced_acc_base = balanced_accuracy_score(y_val, yhat_baseline)\n",
    "print(' Balanced Accuracy {}'.format(balanced_acc_base))\n",
    "\n",
    "#Kappa score - estimators agreement\n",
    "kappa_base = cohen_kappa_score(y_val, yhat_baseline)\n",
    "print(' Kappa score {}'.format(kappa_base))\n",
    "\n",
    "#confusion matrix\n",
    "ConfusionMatrixDisplay.from_predictions(y_val, yhat_baseline, cmap='YlGnBu_r');\n",
    "\n",
    "#classification report\n",
    "print(classification_report(y_val, yhat_baseline))"
   ]
  },
  {
   "cell_type": "markdown",
   "id": "1f90c460",
   "metadata": {},
   "source": [
    "### 8.2 Neural Network MLP "
   ]
  },
  {
   "cell_type": "code",
   "execution_count": 57,
   "id": "d9ddc268",
   "metadata": {
    "ExecuteTime": {
     "end_time": "2022-11-04T15:01:26.305583Z",
     "start_time": "2022-11-04T15:01:26.035081Z"
    }
   },
   "outputs": [],
   "source": [
    "ohe = OneHotEncoder()\n",
    "y_train_nn = ohe.fit_transform(y_train.values.reshape(-1,1)).toarray()"
   ]
  },
  {
   "cell_type": "code",
   "execution_count": 58,
   "id": "d52e1923",
   "metadata": {
    "ExecuteTime": {
     "end_time": "2022-11-04T15:01:26.415671Z",
     "start_time": "2022-11-04T15:01:26.305583Z"
    }
   },
   "outputs": [
    {
     "name": "stdout",
     "output_type": "stream",
     "text": [
      "Number of Rows: 437040\n",
      "Number of Features: 138\n",
      "Number of Classes: 12\n"
     ]
    }
   ],
   "source": [
    "print( 'Number of Rows: {}'.format( X_train.shape[0] ) )\n",
    "print( 'Number of Features: {}'.format( X_train.shape[1] ) )\n",
    "print( 'Number of Classes: {}'.format( y_train.nunique() ) )"
   ]
  },
  {
   "cell_type": "code",
   "execution_count": 60,
   "id": "d12f2c7c",
   "metadata": {
    "ExecuteTime": {
     "end_time": "2022-11-04T15:22:48.641819Z",
     "start_time": "2022-11-04T15:01:26.451973Z"
    }
   },
   "outputs": [
    {
     "name": "stdout",
     "output_type": "stream",
     "text": [
      "Epoch 1/100\n",
      "13658/13658 [==============================] - 15s 934us/step - loss: 6.1545 - accuracy: 0.1148\n",
      "Epoch 2/100\n",
      "13658/13658 [==============================] - 12s 904us/step - loss: 2.4254 - accuracy: 0.1248\n",
      "Epoch 3/100\n",
      "13658/13658 [==============================] - 12s 894us/step - loss: 2.3916 - accuracy: 0.1260\n",
      "Epoch 4/100\n",
      "13658/13658 [==============================] - 15s 1ms/step - loss: 2.3906 - accuracy: 0.1260\n",
      "Epoch 5/100\n",
      "13658/13658 [==============================] - 14s 1ms/step - loss: 2.3905 - accuracy: 0.1262\n",
      "Epoch 6/100\n",
      "13658/13658 [==============================] - 14s 1ms/step - loss: 2.3901 - accuracy: 0.1262\n",
      "Epoch 7/100\n",
      "13658/13658 [==============================] - 14s 1ms/step - loss: 2.3898 - accuracy: 0.1263\n",
      "Epoch 8/100\n",
      "13658/13658 [==============================] - 15s 1ms/step - loss: 2.3895 - accuracy: 0.1259\n",
      "Epoch 9/100\n",
      "13658/13658 [==============================] - 14s 1ms/step - loss: 2.3894 - accuracy: 0.1262\n",
      "Epoch 10/100\n",
      "13658/13658 [==============================] - 13s 980us/step - loss: 2.3895 - accuracy: 0.1266\n",
      "Epoch 11/100\n",
      "13658/13658 [==============================] - 13s 938us/step - loss: 2.3894 - accuracy: 0.1260\n",
      "Epoch 12/100\n",
      "13658/13658 [==============================] - 14s 990us/step - loss: 2.3893 - accuracy: 0.1262\n",
      "Epoch 13/100\n",
      "13658/13658 [==============================] - 13s 963us/step - loss: 2.3894 - accuracy: 0.1262\n",
      "Epoch 14/100\n",
      "13658/13658 [==============================] - 14s 1ms/step - loss: 2.3894 - accuracy: 0.1263\n",
      "Epoch 15/100\n",
      "13658/13658 [==============================] - 13s 959us/step - loss: 2.3891 - accuracy: 0.1263\n",
      "Epoch 16/100\n",
      "13658/13658 [==============================] - 13s 930us/step - loss: 2.3893 - accuracy: 0.1262\n",
      "Epoch 17/100\n",
      "13658/13658 [==============================] - 13s 964us/step - loss: 2.3895 - accuracy: 0.1264\n",
      "Epoch 18/100\n",
      "13658/13658 [==============================] - 13s 926us/step - loss: 2.3889 - accuracy: 0.1261\n",
      "Epoch 19/100\n",
      "13658/13658 [==============================] - 13s 965us/step - loss: 2.3887 - accuracy: 0.1264\n",
      "Epoch 20/100\n",
      "13658/13658 [==============================] - 12s 914us/step - loss: 2.3889 - accuracy: 0.1262\n",
      "Epoch 21/100\n",
      "13658/13658 [==============================] - 13s 970us/step - loss: 2.3892 - accuracy: 0.1261\n",
      "Epoch 22/100\n",
      "13658/13658 [==============================] - 13s 932us/step - loss: 2.3889 - accuracy: 0.1263\n",
      "Epoch 23/100\n",
      "13658/13658 [==============================] - 14s 1ms/step - loss: 2.3889 - accuracy: 0.1265\n",
      "Epoch 24/100\n",
      "13658/13658 [==============================] - 13s 927us/step - loss: 2.3889 - accuracy: 0.1264\n",
      "Epoch 25/100\n",
      "13658/13658 [==============================] - 12s 880us/step - loss: 2.3889 - accuracy: 0.1261\n",
      "Epoch 26/100\n",
      "13658/13658 [==============================] - 12s 888us/step - loss: 2.3888 - accuracy: 0.1262\n",
      "Epoch 27/100\n",
      "13658/13658 [==============================] - 12s 873us/step - loss: 2.3886 - accuracy: 0.1261\n",
      "Epoch 28/100\n",
      "13658/13658 [==============================] - 12s 885us/step - loss: 2.3886 - accuracy: 0.1264\n",
      "Epoch 29/100\n",
      "13658/13658 [==============================] - 12s 892us/step - loss: 2.3885 - accuracy: 0.1261\n",
      "Epoch 30/100\n",
      "13658/13658 [==============================] - 12s 891us/step - loss: 2.3887 - accuracy: 0.1265\n",
      "Epoch 31/100\n",
      "13658/13658 [==============================] - 12s 897us/step - loss: 2.3887 - accuracy: 0.1257\n",
      "Epoch 32/100\n",
      "13658/13658 [==============================] - 12s 880us/step - loss: 2.3883 - accuracy: 0.1264\n",
      "Epoch 33/100\n",
      "13658/13658 [==============================] - 12s 882us/step - loss: 2.3886 - accuracy: 0.1261\n",
      "Epoch 34/100\n",
      "13658/13658 [==============================] - 13s 927us/step - loss: 2.3885 - accuracy: 0.1264\n",
      "Epoch 35/100\n",
      "13658/13658 [==============================] - 12s 890us/step - loss: 2.3887 - accuracy: 0.1263\n",
      "Epoch 36/100\n",
      "13658/13658 [==============================] - 12s 877us/step - loss: 2.3885 - accuracy: 0.1262\n",
      "Epoch 37/100\n",
      "13658/13658 [==============================] - 12s 885us/step - loss: 2.3884 - accuracy: 0.1262\n",
      "Epoch 38/100\n",
      "13658/13658 [==============================] - 12s 889us/step - loss: 2.3883 - accuracy: 0.1262\n",
      "Epoch 39/100\n",
      "13658/13658 [==============================] - 12s 885us/step - loss: 2.3883 - accuracy: 0.1258\n",
      "Epoch 40/100\n",
      "13658/13658 [==============================] - 12s 874us/step - loss: 2.3885 - accuracy: 0.1261\n",
      "Epoch 41/100\n",
      "13658/13658 [==============================] - 12s 909us/step - loss: 2.3884 - accuracy: 0.1258\n",
      "Epoch 42/100\n",
      "13658/13658 [==============================] - 15s 1ms/step - loss: 2.3880 - accuracy: 0.1263\n",
      "Epoch 43/100\n",
      "13658/13658 [==============================] - 14s 1ms/step - loss: 2.3882 - accuracy: 0.1261\n",
      "Epoch 44/100\n",
      "13658/13658 [==============================] - 15s 1ms/step - loss: 2.3882 - accuracy: 0.1260\n",
      "Epoch 45/100\n",
      "13658/13658 [==============================] - 14s 995us/step - loss: 2.3880 - accuracy: 0.1261\n",
      "Epoch 46/100\n",
      "13658/13658 [==============================] - 14s 1ms/step - loss: 2.3879 - accuracy: 0.1261\n",
      "Epoch 47/100\n",
      "13658/13658 [==============================] - 12s 857us/step - loss: 2.3884 - accuracy: 0.1261\n",
      "Epoch 48/100\n",
      "13658/13658 [==============================] - 12s 903us/step - loss: 2.3880 - accuracy: 0.1259\n",
      "Epoch 49/100\n",
      "13658/13658 [==============================] - 13s 965us/step - loss: 2.3880 - accuracy: 0.1264\n",
      "Epoch 50/100\n",
      "13658/13658 [==============================] - 15s 1ms/step - loss: 2.3883 - accuracy: 0.1260\n",
      "Epoch 51/100\n",
      "13658/13658 [==============================] - 12s 885us/step - loss: 2.3880 - accuracy: 0.1263\n",
      "Epoch 52/100\n",
      "13658/13658 [==============================] - 12s 876us/step - loss: 2.3880 - accuracy: 0.1263\n",
      "Epoch 53/100\n",
      "13658/13658 [==============================] - 12s 900us/step - loss: 2.3879 - accuracy: 0.1265\n",
      "Epoch 54/100\n",
      "13658/13658 [==============================] - 12s 898us/step - loss: 2.3882 - accuracy: 0.1261\n",
      "Epoch 55/100\n",
      "13658/13658 [==============================] - 13s 944us/step - loss: 2.3881 - accuracy: 0.1260\n",
      "Epoch 56/100\n",
      "13658/13658 [==============================] - 12s 910us/step - loss: 2.3880 - accuracy: 0.1263\n",
      "Epoch 57/100\n",
      "13658/13658 [==============================] - 12s 856us/step - loss: 2.3881 - accuracy: 0.1262\n",
      "Epoch 58/100\n",
      "13658/13658 [==============================] - 12s 877us/step - loss: 2.3881 - accuracy: 0.1258\n",
      "Epoch 59/100\n",
      "13658/13658 [==============================] - 12s 902us/step - loss: 2.3878 - accuracy: 0.1262\n",
      "Epoch 60/100\n",
      "13658/13658 [==============================] - 13s 928us/step - loss: 2.3878 - accuracy: 0.1259\n",
      "Epoch 61/100\n",
      "13658/13658 [==============================] - 13s 976us/step - loss: 2.3878 - accuracy: 0.1263\n",
      "Epoch 62/100\n",
      "13658/13658 [==============================] - 13s 918us/step - loss: 2.3880 - accuracy: 0.1261\n",
      "Epoch 63/100\n",
      "13658/13658 [==============================] - 12s 878us/step - loss: 2.3881 - accuracy: 0.1262\n",
      "Epoch 64/100\n",
      "13658/13658 [==============================] - 13s 924us/step - loss: 2.3881 - accuracy: 0.1262\n",
      "Epoch 65/100\n",
      "13658/13658 [==============================] - 12s 911us/step - loss: 2.3880 - accuracy: 0.1263\n",
      "Epoch 66/100\n",
      "13658/13658 [==============================] - 12s 908us/step - loss: 2.3880 - accuracy: 0.1258\n",
      "Epoch 67/100\n",
      "13658/13658 [==============================] - 13s 982us/step - loss: 2.3879 - accuracy: 0.1261\n",
      "Epoch 68/100\n",
      "13658/13658 [==============================] - 14s 997us/step - loss: 2.3881 - accuracy: 0.1255\n",
      "Epoch 69/100\n",
      "13658/13658 [==============================] - 14s 989us/step - loss: 2.3882 - accuracy: 0.1261\n",
      "Epoch 70/100\n",
      "13658/13658 [==============================] - 13s 950us/step - loss: 2.3879 - accuracy: 0.1259\n",
      "Epoch 71/100\n",
      "13658/13658 [==============================] - 13s 941us/step - loss: 2.3883 - accuracy: 0.1261\n",
      "Epoch 72/100\n",
      "13658/13658 [==============================] - 12s 904us/step - loss: 2.3880 - accuracy: 0.1262\n",
      "Epoch 73/100\n",
      "13658/13658 [==============================] - 13s 945us/step - loss: 2.3877 - accuracy: 0.1262\n",
      "Epoch 74/100\n",
      "13658/13658 [==============================] - 13s 934us/step - loss: 2.3879 - accuracy: 0.1257\n",
      "Epoch 75/100\n",
      "13658/13658 [==============================] - 12s 883us/step - loss: 2.3881 - accuracy: 0.1260\n",
      "Epoch 76/100\n"
     ]
    },
    {
     "name": "stdout",
     "output_type": "stream",
     "text": [
      "13658/13658 [==============================] - 13s 933us/step - loss: 2.3881 - accuracy: 0.1263\n",
      "Epoch 77/100\n",
      "13658/13658 [==============================] - 13s 927us/step - loss: 2.3879 - accuracy: 0.1259\n",
      "Epoch 78/100\n",
      "13658/13658 [==============================] - 13s 980us/step - loss: 2.3882 - accuracy: 0.1258\n",
      "Epoch 79/100\n",
      "13658/13658 [==============================] - 12s 863us/step - loss: 2.3880 - accuracy: 0.1262\n",
      "Epoch 80/100\n",
      "13658/13658 [==============================] - 13s 929us/step - loss: 2.3879 - accuracy: 0.1265\n",
      "Epoch 81/100\n",
      "13658/13658 [==============================] - 13s 918us/step - loss: 2.3882 - accuracy: 0.1258\n",
      "Epoch 82/100\n",
      "13658/13658 [==============================] - 13s 927us/step - loss: 2.3880 - accuracy: 0.1266\n",
      "Epoch 83/100\n",
      "13658/13658 [==============================] - 12s 873us/step - loss: 2.3880 - accuracy: 0.1262\n",
      "Epoch 84/100\n",
      "13658/13658 [==============================] - 13s 932us/step - loss: 2.3881 - accuracy: 0.1261\n",
      "Epoch 85/100\n",
      "13658/13658 [==============================] - 12s 897us/step - loss: 2.3879 - accuracy: 0.1261\n",
      "Epoch 86/100\n",
      "13658/13658 [==============================] - 12s 907us/step - loss: 2.3880 - accuracy: 0.1260\n",
      "Epoch 87/100\n",
      "13658/13658 [==============================] - 13s 916us/step - loss: 2.3878 - accuracy: 0.1257\n",
      "Epoch 88/100\n",
      "13658/13658 [==============================] - 12s 911us/step - loss: 2.3880 - accuracy: 0.1264\n",
      "Epoch 89/100\n",
      "13658/13658 [==============================] - 12s 891us/step - loss: 2.3879 - accuracy: 0.1259\n",
      "Epoch 90/100\n",
      "13658/13658 [==============================] - 12s 912us/step - loss: 2.3880 - accuracy: 0.1257\n",
      "Epoch 91/100\n",
      "13658/13658 [==============================] - 13s 933us/step - loss: 2.3880 - accuracy: 0.1265\n",
      "Epoch 92/100\n",
      "13658/13658 [==============================] - 12s 899us/step - loss: 2.3878 - accuracy: 0.1261\n",
      "Epoch 93/100\n",
      "13658/13658 [==============================] - 12s 914us/step - loss: 2.3880 - accuracy: 0.1263\n",
      "Epoch 94/100\n",
      "13658/13658 [==============================] - 12s 908us/step - loss: 2.3878 - accuracy: 0.1260\n",
      "Epoch 95/100\n",
      "13658/13658 [==============================] - 12s 912us/step - loss: 2.3880 - accuracy: 0.1260\n",
      "Epoch 96/100\n",
      "13658/13658 [==============================] - 13s 921us/step - loss: 2.3881 - accuracy: 0.1258\n",
      "Epoch 97/100\n",
      "13658/13658 [==============================] - 13s 947us/step - loss: 2.3878 - accuracy: 0.1260\n",
      "Epoch 98/100\n",
      "13658/13658 [==============================] - 12s 875us/step - loss: 2.3880 - accuracy: 0.1258\n",
      "Epoch 99/100\n",
      "13658/13658 [==============================] - 12s 904us/step - loss: 2.3878 - accuracy: 0.1263\n",
      "Epoch 100/100\n",
      "13658/13658 [==============================] - 13s 956us/step - loss: 2.3882 - accuracy: 0.1260\n"
     ]
    }
   ],
   "source": [
    "#model definition\n",
    "model = ml.Sequential()\n",
    "\n",
    "#1st layer\n",
    "model.add(l.Dense(256, input_dim=X_train.shape[1], activation='relu'))\n",
    "\n",
    "#output layer\n",
    "model.add(l.Dense(12, activation='softmax'))\n",
    "          \n",
    "#model compile\n",
    "model.compile(loss='categorical_crossentropy',optimizer='adam', metrics=['accuracy'])\n",
    "          \n",
    "#train model\n",
    "model.fit(X_train,y_train_nn, epochs=100)\n",
    "\n",
    "#prediction\n",
    "pred_nn = model.predict(X_val)\n",
    "\n",
    "#invert prediction\n",
    "yhat_nn = ohe.inverse_transform(pred_nn) \n",
    "\n",
    "#prediction prepare\n",
    "y_val_nn = y_val.to_numpy()\n",
    "yhat_nn = yhat_nn.reshape(1,-1)[0]"
   ]
  },
  {
   "cell_type": "markdown",
   "id": "8d571c7b",
   "metadata": {},
   "source": [
    "### 8.2.1 NN Performance"
   ]
  },
  {
   "cell_type": "code",
   "execution_count": 61,
   "id": "05246310",
   "metadata": {
    "ExecuteTime": {
     "end_time": "2022-11-04T15:22:56.062273Z",
     "start_time": "2022-11-04T15:22:48.646142Z"
    }
   },
   "outputs": [
    {
     "name": "stdout",
     "output_type": "stream",
     "text": [
      "Accuracy 0.12884743870182408\n",
      " Balanced Accuracy 0.12115851113315629\n",
      " Kappa score 0.037695162603624044\n",
      "              precision    recall  f1-score   support\n",
      "\n",
      "          AU       0.33      0.43      0.37      7415\n",
      "          CA       0.00      0.00      0.00      8579\n",
      "          DE       0.00      0.00      0.00      7433\n",
      "          ES       0.00      0.00      0.00     10020\n",
      "          FR       0.00      0.00      0.00      8751\n",
      "          GB       0.11      0.93      0.19     10617\n",
      "          IT       0.00      0.00      0.00      8078\n",
      "         NDF       0.13      0.09      0.11     10900\n",
      "          NL       0.00      0.00      0.00      9564\n",
      "          PT       0.00      0.00      0.00      9458\n",
      "          US       0.00      0.00      0.00      9557\n",
      "       other       0.00      0.00      0.00      8889\n",
      "\n",
      "    accuracy                           0.13    109261\n",
      "   macro avg       0.05      0.12      0.06    109261\n",
      "weighted avg       0.05      0.13      0.05    109261\n",
      "\n"
     ]
    },
    {
     "data": {
      "image/png": "[encoded data removed]",
      "text/plain": [
       "<Figure size 640x480 with 2 Axes>"
      ]
     },
     "metadata": {},
     "output_type": "display_data"
    }
   ],
   "source": [
    "#acuracy\n",
    "acc_nn = accuracy_score(y_val_nn, yhat_nn)\n",
    "print('Accuracy {}'.format(acc_nn))\n",
    "\n",
    "#balanced accuracy\n",
    "balanced_acc_nn = balanced_accuracy_score(y_val_nn, yhat_nn)\n",
    "print(' Balanced Accuracy {}'.format(balanced_acc_nn))\n",
    "\n",
    "#Kappa score - estimators agreement\n",
    "kappa = cohen_kappa_score(y_val_nn, yhat_nn)\n",
    "print(' Kappa score {}'.format(kappa))\n",
    "\n",
    "#confusion matrix\n",
    "ConfusionMatrixDisplay.from_predictions(y_val_nn, yhat_nn, cmap='YlGnBu_r');\n",
    "\n",
    "#classification report\n",
    "print(classification_report(y_val_nn, yhat_nn))"
   ]
  },
  {
   "cell_type": "markdown",
   "id": "84c82837",
   "metadata": {},
   "source": [
    "### 8.2.2 NN Performance - Cross validation"
   ]
  },
  {
   "cell_type": "code",
   "execution_count": 62,
   "id": "f066b1c9",
   "metadata": {
    "ExecuteTime": {
     "end_time": "2022-11-04T16:33:08.385251Z",
     "start_time": "2022-11-04T15:22:56.066256Z"
    }
   },
   "outputs": [
    {
     "name": "stdout",
     "output_type": "stream",
     "text": [
      "Fold 1/5\n",
      "Fold 2/5\n",
      "Fold 3/5\n",
      "Fold 4/5\n",
      "Fold 5/5\n"
     ]
    }
   ],
   "source": [
    "#generate k-fold\n",
    "n_folds=5\n",
    "kfold = StratifiedKFold(n_splits=n_folds, shuffle=True,random_state=32)\n",
    "balanced_acc_list = []\n",
    "kappa_list = []\n",
    "i=1\n",
    "\n",
    "for train_ix, val_ix in kfold.split(X_train, y_train):\n",
    "\n",
    "    print('Fold {}/{}'.format(i,n_folds))\n",
    "    \n",
    "    #define fold\n",
    "    X_train_cv = X_train.iloc[train_ix]\n",
    "    y_train_cv = y_train.iloc[train_ix]\n",
    "\n",
    "    X_val_cv = X_train.iloc[val_ix]\n",
    "    y_val_cv = y_train.iloc[val_ix]\n",
    "\n",
    "\n",
    "    #target one-hot encoding\n",
    "    ohe = OneHotEncoder()\n",
    "    y_train_cv_nn = ohe.fit_transform(y_train_cv.values.reshape(-1,1)).toarray()\n",
    "    \n",
    "    \n",
    "    #model definition\n",
    "    model = ml.Sequential()\n",
    "    model.add(l.Dense( 256, input_dim=X_train_cv.shape[1], activation='relu'))\n",
    "    model.add(l.Dense(12, activation='softmax' ))\n",
    "\n",
    "    #compile model\n",
    "    model.compile(loss='categorical_crossentropy', optimizer='adam', metrics=['accuracy'])\n",
    "\n",
    "    #training model\n",
    "    model.fit(X_train_cv, y_train_cv_nn, epochs=100, batch_size=32, verbose=0)\n",
    "\n",
    "    #prediction\n",
    "    pred_nn_cv = model.predict(X_val_cv)\n",
    "    yhat_nn_cv = ohe.inverse_transform(pred_nn_cv)\n",
    "    \n",
    "    y_val_nn_cv = y_val_cv.to_numpy()\n",
    "    yhat_nn_cv = yhat_nn_cv.reshape(1,-1)[0]\n",
    "    \n",
    "    #balanced accuracy\n",
    "    balanced_acc_nn = balanced_accuracy_score(y_val_nn_cv, yhat_nn_cv)\n",
    "    balanced_acc_list.append(balanced_acc_nn)\n",
    "    \n",
    "    #Kappa score - estimators agreement\n",
    "    kappa = cohen_kappa_score(y_val_nn_cv, yhat_nn_cv)\n",
    "    kappa_list.append(kappa)\n",
    "    \n",
    "    i+=1\n"
   ]
  },
  {
   "cell_type": "code",
   "execution_count": 63,
   "id": "f975228e",
   "metadata": {
    "ExecuteTime": {
     "end_time": "2022-11-04T16:33:08.416643Z",
     "start_time": "2022-11-04T16:33:08.392220Z"
    }
   },
   "outputs": [
    {
     "name": "stdout",
     "output_type": "stream",
     "text": [
      "Balanced Accuracy after 5 K-Folds CV is 0.11 ± 0.0059\n",
      "Kappa Score after 5 K-Folds CV is 0.0337 ± 0.0029\n"
     ]
    }
   ],
   "source": [
    "print('Balanced Accuracy after {} K-Folds CV is {} ± {}'.format(n_folds, np.round(np.mean(balanced_acc_list),2), \n",
    "                                                                         np.round(np.std(balanced_acc_list),4)))\n",
    "print('Kappa Score after {} K-Folds CV is {} ± {}'.format(n_folds, np.round(np.mean(kappa_list),4), \n",
    "                                                                         np.round(np.std(kappa_list),4)))"
   ]
  },
  {
   "cell_type": "code",
   "execution_count": null,
   "id": "e678976f",
   "metadata": {},
   "outputs": [],
   "source": []
  }
 ],
 "metadata": {
  "kernelspec": {
   "display_name": "Python 3 (ipykernel)",
   "language": "python",
   "name": "python3"
  },
  "language_info": {
   "codemirror_mode": {
    "name": "ipython",
    "version": 3
   },
   "file_extension": ".py",
   "mimetype": "text/x-python",
   "name": "python",
   "nbconvert_exporter": "python",
   "pygments_lexer": "ipython3",
   "version": "3.9.13"
  },
  "varInspector": {
   "cols": {
    "lenName": 16,
    "lenType": 16,
    "lenVar": 40
   },
   "kernels_config": {
    "python": {
     "delete_cmd_postfix": "",
     "delete_cmd_prefix": "del ",
     "library": "var_list.py",
     "varRefreshCmd": "print(var_dic_list())"
    },
    "r": {
     "delete_cmd_postfix": ") ",
     "delete_cmd_prefix": "rm(",
     "library": "var_list.r",
     "varRefreshCmd": "cat(var_dic_list()) "
    }
   },
   "types_to_exclude": [
    "module",
    "function",
    "builtin_function_or_method",
    "instance",
    "_Feature"
   ],
   "window_display": false
  }
 },
 "nbformat": 4,
 "nbformat_minor": 5
}
